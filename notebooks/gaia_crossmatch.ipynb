{
 "cells": [
  {
   "cell_type": "code",
   "execution_count": 1,
   "metadata": {},
   "outputs": [],
   "source": [
    "%matplotlib inline"
   ]
  },
  {
   "cell_type": "code",
   "execution_count": 2,
   "metadata": {},
   "outputs": [],
   "source": [
    "import numpy as np\n",
    "import matplotlib.pyplot as plt\n",
    "from astropy.table import Table, join, unique"
   ]
  },
  {
   "cell_type": "markdown",
   "metadata": {},
   "source": [
    "### Get Gaia counterparts for every candidate Kepler host star:"
   ]
  },
  {
   "cell_type": "code",
   "execution_count": 3,
   "metadata": {},
   "outputs": [],
   "source": [
    "kepler_hosts = Table(np.genfromtxt('../cumulative_all.csv', \n",
    "                                   delimiter=',', skip_header=150, names=True,\n",
    "                                   dtype=None, encoding=None))"
   ]
  },
  {
   "cell_type": "code",
   "execution_count": 4,
   "metadata": {},
   "outputs": [],
   "source": [
    "gaia_20arcsec = Table.read('/Users/mbedell/Documents/Web Design/gaia-kepler.fun/scripts/kepler_dr2_20arcsec.fits')"
   ]
  },
  {
   "cell_type": "code",
   "execution_count": 5,
   "metadata": {},
   "outputs": [],
   "source": [
    "hosts = join(kepler_hosts, gaia_20arcsec, keys='kepid')"
   ]
  },
  {
   "cell_type": "code",
   "execution_count": 6,
   "metadata": {},
   "outputs": [],
   "source": [
    "hosts.sort(['kepid','kepler_gaia_ang_dist'])"
   ]
  },
  {
   "cell_type": "code",
   "execution_count": 7,
   "metadata": {},
   "outputs": [
    {
     "data": {
      "text/html": [
       "<i>Table masked=True length=3</i>\n",
       "<table id=\"table4809987800\" class=\"table-striped table-bordered table-condensed\">\n",
       "<thead><tr><th>kepmag</th><th>phot_g_mean_mag</th><th>kepler_gaia_ang_dist</th><th>pmra</th><th>pmdec</th><th>bp_rp</th><th>koi_gmag</th><th>koi_rmag</th><th>koi_imag</th><th>koi_zmag</th><th>koi_jmag</th><th>koi_hmag</th><th>koi_kmag</th></tr></thead>\n",
       "<thead><tr><th></th><th>mag</th><th>arcsec</th><th>0.001 arcsec / yr</th><th>0.001 arcsec / yr</th><th>mag</th><th></th><th></th><th></th><th></th><th></th><th></th><th></th></tr></thead>\n",
       "<thead><tr><th>float64</th><th>float32</th><th>float64</th><th>float64</th><th>float64</th><th>float32</th><th>float64</th><th>float64</th><th>float64</th><th>float64</th><th>float64</th><th>float64</th><th>float64</th></tr></thead>\n",
       "<tr><td>11.51</td><td>13.785815</td><td>15.49428911401206</td><td>-0.4286952372334374</td><td>12.600345434454887</td><td>1.0473557</td><td>0.0</td><td>11.51</td><td>0.0</td><td>nan</td><td>12.415</td><td>12.045</td><td>11.955</td></tr>\n",
       "<tr><td>11.51</td><td>19.832888</td><td>16.551936866809164</td><td>-3.0211833315066787</td><td>0.11251195089681369</td><td>0.61762047</td><td>0.0</td><td>11.51</td><td>0.0</td><td>nan</td><td>12.415</td><td>12.045</td><td>11.955</td></tr>\n",
       "<tr><td>11.51</td><td>21.127596</td><td>17.163570606547726</td><td>nan</td><td>nan</td><td>nan</td><td>0.0</td><td>11.51</td><td>0.0</td><td>nan</td><td>12.415</td><td>12.045</td><td>11.955</td></tr>\n",
       "</table>"
      ],
      "text/plain": [
       "<Table masked=True length=3>\n",
       " kepmag phot_g_mean_mag kepler_gaia_ang_dist ... koi_jmag koi_hmag koi_kmag\n",
       "              mag              arcsec        ...                           \n",
       "float64     float32           float64        ... float64  float64  float64 \n",
       "------- --------------- -------------------- ... -------- -------- --------\n",
       "  11.51       13.785815    15.49428911401206 ...   12.415   12.045   11.955\n",
       "  11.51       19.832888   16.551936866809164 ...   12.415   12.045   11.955\n",
       "  11.51       21.127596   17.163570606547726 ...   12.415   12.045   11.955"
      ]
     },
     "execution_count": 7,
     "metadata": {},
     "output_type": "execute_result"
    }
   ],
   "source": [
    "hosts[hosts['kepid'] == 5164794]['kepmag','phot_g_mean_mag','kepler_gaia_ang_dist',\n",
    "                                 'pmra','pmdec','bp_rp', 'koi_gmag',\n",
    " 'koi_rmag',\n",
    " 'koi_imag',\n",
    " 'koi_zmag',\n",
    " 'koi_jmag',\n",
    " 'koi_hmag',\n",
    " 'koi_kmag']"
   ]
  },
  {
   "cell_type": "code",
   "execution_count": 8,
   "metadata": {},
   "outputs": [
    {
     "data": {
      "text/latex": [
       "[$0^\\circ00{}^\\prime15.6501{}^{\\prime\\prime}$\n",
       " $0^\\circ00{}^\\prime16.5945{}^{\\prime\\prime}$\n",
       " $0^\\circ00{}^\\prime17.1636{}^{\\prime\\prime}$]"
      ],
      "text/plain": [
       "<Angle [0.00434726, 0.00460957, 0.00476766] deg>"
      ]
     },
     "execution_count": 8,
     "metadata": {},
     "output_type": "execute_result"
    }
   ],
   "source": [
    "match = hosts[hosts['kepid'] == 5164794]\n",
    "from astropy.coordinates import SkyCoord\n",
    "from astropy import units as u\n",
    "c1 = SkyCoord(match['ra_1']*u.deg, match['dec_1']*u.deg)\n",
    "c2 = SkyCoord(match['ra_2'], match['dec_2'])\n",
    "c1.separation(c2)"
   ]
  },
  {
   "cell_type": "markdown",
   "metadata": {},
   "source": [
    "#### Cut matches that probably aren't the correct star:"
   ]
  },
  {
   "cell_type": "code",
   "execution_count": 9,
   "metadata": {},
   "outputs": [],
   "source": [
    "#bad_kmag = np.abs(hosts['kepmag'] - hosts['koi_gmag']) > 2.\n",
    "#good = np.where(bad_kmag, np.abs(hosts['phot_g_mean_mag'] - hosts['koi_gmag']) <= 2.,\n",
    "#                          np.abs(hosts['phot_g_mean_mag'] - hosts['kepmag']) <= 2.)\n",
    "#hosts = hosts[good]"
   ]
  },
  {
   "cell_type": "code",
   "execution_count": 10,
   "metadata": {},
   "outputs": [
    {
     "name": "stderr",
     "output_type": "stream",
     "text": [
      "/Users/mbedell/miniconda3/lib/python3.7/site-packages/astropy/table/column.py:965: RuntimeWarning: invalid value encountered in less_equal\n",
      "  return getattr(self.data, op)(other)\n"
     ]
    }
   ],
   "source": [
    "good = (np.abs(hosts['phot_g_mean_mag'] - hosts['kepmag']) <= 5.) & (hosts['kepler_gaia_ang_dist'] < 5.)\n",
    "#good = hosts['kepler_gaia_ang_dist'] < 5.\n",
    "hosts = hosts[good]"
   ]
  },
  {
   "cell_type": "code",
   "execution_count": 11,
   "metadata": {},
   "outputs": [],
   "source": [
    "#hosts = unique(hosts, keys='kepid', keep='first') # cut duplicate matches, keeping closest star"
   ]
  },
  {
   "cell_type": "code",
   "execution_count": 12,
   "metadata": {},
   "outputs": [
    {
     "name": "stderr",
     "output_type": "stream",
     "text": [
      "/Users/mbedell/miniconda3/lib/python3.7/site-packages/astropy/table/column.py:965: RuntimeWarning: invalid value encountered in greater\n",
      "  return getattr(self.data, op)(other)\n"
     ]
    },
    {
     "data": {
      "image/png": "[encoded data removed]",
      "text/plain": [
       "<Figure size 432x288 with 1 Axes>"
      ]
     },
     "metadata": {
      "needs_background": "light"
     },
     "output_type": "display_data"
    }
   ],
   "source": [
    "plt.plot(hosts['kepler_gaia_ang_dist'], hosts['phot_g_mean_mag'] - hosts['kepmag'], 'k.', alpha=0.6)\n",
    "mask = hosts['koi_gmag'] > 0.\n",
    "plt.plot(hosts['kepler_gaia_ang_dist'][mask], \n",
    "         hosts['phot_g_mean_mag'][mask] - hosts['koi_gmag'][mask], 'r.', alpha=0.6)\n",
    "#plt.ylim([-0.5,1.0])\n",
    "plt.xlabel('Ang sep (\")')\n",
    "plt.ylabel('G - Kep');"
   ]
  },
  {
   "cell_type": "code",
   "execution_count": 13,
   "metadata": {},
   "outputs": [
    {
     "data": {
      "image/png": "[encoded data removed]",
      "text/plain": [
       "<Figure size 432x288 with 1 Axes>"
      ]
     },
     "metadata": {
      "needs_background": "light"
     },
     "output_type": "display_data"
    }
   ],
   "source": [
    "plt.hist((hosts['phot_g_mean_mag'] - hosts['kepmag'])[np.isfinite(hosts['phot_g_mean_mag'])], bins=20)\n",
    "plt.yscale('log')\n",
    "plt.xlabel('G - K');"
   ]
  },
  {
   "cell_type": "markdown",
   "metadata": {},
   "source": [
    "#### Check on some statistics for how many stars have believable matches:"
   ]
  },
  {
   "cell_type": "code",
   "execution_count": 14,
   "metadata": {},
   "outputs": [
    {
     "name": "stdout",
     "output_type": "stream",
     "text": [
      "Number of candidate host stars: 3100\n"
     ]
    }
   ],
   "source": [
    "print(\"Number of candidate host stars:\", len(kepler_hosts['kepid']))"
   ]
  },
  {
   "cell_type": "code",
   "execution_count": 15,
   "metadata": {},
   "outputs": [],
   "source": [
    "no_match_kics = kepler_hosts[np.isin(kepler_hosts['kepid'], hosts['kepid'], invert=True)]['kepid']\n",
    "match_kics, counts = np.unique(hosts['kepid'], return_counts=True)\n",
    "multi_match_kics = match_kics[counts > 1]\n",
    "single_match_kics = match_kics[counts == 1]"
   ]
  },
  {
   "cell_type": "code",
   "execution_count": 16,
   "metadata": {},
   "outputs": [
    {
     "name": "stdout",
     "output_type": "stream",
     "text": [
      "Number of candidate host stars without Gaia counterparts: 15\n",
      "Number of candidate host stars with more than one close Gaia match: 773\n"
     ]
    }
   ],
   "source": [
    "print(\"Number of candidate host stars without Gaia counterparts:\", len(no_match_kics))\n",
    "print(\"Number of candidate host stars with more than one close Gaia match:\", len(multi_match_kics))"
   ]
  },
  {
   "cell_type": "markdown",
   "metadata": {},
   "source": [
    "#### Check on stars where we found more than one good match:"
   ]
  },
  {
   "cell_type": "code",
   "execution_count": 17,
   "metadata": {},
   "outputs": [],
   "source": [
    "t = hosts[np.isin(hosts['kepid'], multi_match_kics)]['kepid', 'kepmag', \n",
    "                                                     'phot_g_mean_mag', 'kepler_gaia_ang_dist', 'bp_rp']"
   ]
  },
  {
   "cell_type": "code",
   "execution_count": 18,
   "metadata": {},
   "outputs": [
    {
     "data": {
      "text/html": [
       "<i>Table masked=True length=1690</i>\n",
       "<table id=\"table6309148264\" class=\"table-striped table-bordered table-condensed\">\n",
       "<thead><tr><th>kepid</th><th>kepmag</th><th>phot_g_mean_mag</th><th>kepler_gaia_ang_dist</th><th>bp_rp</th></tr></thead>\n",
       "<thead><tr><th></th><th></th><th>mag</th><th>arcsec</th><th>mag</th></tr></thead>\n",
       "<thead><tr><th>int64</th><th>float64</th><th>float32</th><th>float64</th><th>float32</th></tr></thead>\n",
       "<tr><td>1161345</td><td>11.631</td><td>12.395216</td><td>0.704873697981034</td><td>1.0328989</td></tr>\n",
       "<tr><td>1161345</td><td>11.631</td><td>12.499258</td><td>1.0614467549508892</td><td>nan</td></tr>\n",
       "<tr><td>1575690</td><td>15.625</td><td>15.653265</td><td>0.08095205248777011</td><td>1.6652098</td></tr>\n",
       "<tr><td>1575690</td><td>15.625</td><td>18.987381</td><td>3.8620329442734076</td><td>1.9336071</td></tr>\n",
       "<tr><td>1717722</td><td>15.689</td><td>15.65396</td><td>0.12864722890493463</td><td>1.3381376</td></tr>\n",
       "<tr><td>1717722</td><td>15.689</td><td>20.383476</td><td>4.282989568934901</td><td>0.8737469</td></tr>\n",
       "<tr><td>1870398</td><td>14.756</td><td>14.734896</td><td>0.03675243955959094</td><td>0.86446</td></tr>\n",
       "<tr><td>1870398</td><td>14.756</td><td>19.200357</td><td>4.243557722952917</td><td>1.1516876</td></tr>\n",
       "<tr><td>1871483</td><td>15.729</td><td>15.771211</td><td>0.07877593433263821</td><td>1.3623075</td></tr>\n",
       "<tr><td>...</td><td>...</td><td>...</td><td>...</td><td>...</td></tr>\n",
       "<tr><td>12351927</td><td>15.52</td><td>15.594294</td><td>0.17132051043411964</td><td>1.2386332</td></tr>\n",
       "<tr><td>12351927</td><td>15.52</td><td>18.575449</td><td>1.5232610583055284</td><td>nan</td></tr>\n",
       "<tr><td>12365000</td><td>13.573</td><td>13.547315</td><td>0.01739283037910958</td><td>1.1042318</td></tr>\n",
       "<tr><td>12365000</td><td>13.573</td><td>17.98677</td><td>2.795558896974976</td><td>1.0140648</td></tr>\n",
       "<tr><td>12459731</td><td>17.427</td><td>17.398663</td><td>0.13267095906895704</td><td>0.8932476</td></tr>\n",
       "<tr><td>12459731</td><td>17.427</td><td>19.39306</td><td>4.557344315530802</td><td>1.1626015</td></tr>\n",
       "<tr><td>12505654</td><td>14.988</td><td>15.008757</td><td>0.13923856014566116</td><td>1.1256952</td></tr>\n",
       "<tr><td>12505654</td><td>14.988</td><td>19.252445</td><td>3.776074604789526</td><td>1.9214821</td></tr>\n",
       "<tr><td>12736658</td><td>13.683</td><td>13.689182</td><td>0.13409605764379198</td><td>0.9137268</td></tr>\n",
       "<tr><td>12736658</td><td>13.683</td><td>17.309519</td><td>3.797508841124557</td><td>0.27165222</td></tr>\n",
       "</table>"
      ],
      "text/plain": [
       "<Table masked=True length=1690>\n",
       " kepid    kepmag phot_g_mean_mag kepler_gaia_ang_dist   bp_rp   \n",
       "                       mag              arcsec           mag    \n",
       " int64   float64     float32           float64         float32  \n",
       "-------- ------- --------------- -------------------- ----------\n",
       " 1161345  11.631       12.395216    0.704873697981034  1.0328989\n",
       " 1161345  11.631       12.499258   1.0614467549508892        nan\n",
       " 1575690  15.625       15.653265  0.08095205248777011  1.6652098\n",
       " 1575690  15.625       18.987381   3.8620329442734076  1.9336071\n",
       " 1717722  15.689        15.65396  0.12864722890493463  1.3381376\n",
       " 1717722  15.689       20.383476    4.282989568934901  0.8737469\n",
       " 1870398  14.756       14.734896  0.03675243955959094    0.86446\n",
       " 1870398  14.756       19.200357    4.243557722952917  1.1516876\n",
       " 1871483  15.729       15.771211  0.07877593433263821  1.3623075\n",
       "     ...     ...             ...                  ...        ...\n",
       "12351927   15.52       15.594294  0.17132051043411964  1.2386332\n",
       "12351927   15.52       18.575449   1.5232610583055284        nan\n",
       "12365000  13.573       13.547315  0.01739283037910958  1.1042318\n",
       "12365000  13.573        17.98677    2.795558896974976  1.0140648\n",
       "12459731  17.427       17.398663  0.13267095906895704  0.8932476\n",
       "12459731  17.427        19.39306    4.557344315530802  1.1626015\n",
       "12505654  14.988       15.008757  0.13923856014566116  1.1256952\n",
       "12505654  14.988       19.252445    3.776074604789526  1.9214821\n",
       "12736658  13.683       13.689182  0.13409605764379198  0.9137268\n",
       "12736658  13.683       17.309519    3.797508841124557 0.27165222"
      ]
     },
     "execution_count": 18,
     "metadata": {},
     "output_type": "execute_result"
    }
   ],
   "source": [
    "t"
   ]
  },
  {
   "cell_type": "code",
   "execution_count": 19,
   "metadata": {},
   "outputs": [],
   "source": [
    "#t.show_in_browser(jsviewer=True)  "
   ]
  },
  {
   "cell_type": "markdown",
   "metadata": {},
   "source": [
    "In general these seem to be unresolved binaries in Kepler that have been resolved by Gaia. We can therefore keep either star to adopt as the \"true match.\" The cross-match table is already sorted by angular distance between the Kepler coordinates and the Gaia match, so let's adopt that as the deciding factor."
   ]
  },
  {
   "cell_type": "code",
   "execution_count": 20,
   "metadata": {},
   "outputs": [],
   "source": [
    "hosts = unique(hosts, keys='kepid', keep='first')"
   ]
  },
  {
   "cell_type": "markdown",
   "metadata": {},
   "source": [
    "#### Check on stars without Gaia counterparts:"
   ]
  },
  {
   "cell_type": "code",
   "execution_count": 21,
   "metadata": {},
   "outputs": [],
   "source": [
    "t2 = kepler_hosts[np.isin(kepler_hosts['kepid'], no_match_kics)]['kepid', 'kepler_name', 'koi_kepmag', \n",
    "                                                                 'koi_gmag', 'ra', 'dec',\n",
    "                                                                 'koi_period', 'koi_prad', 'koi_disposition']"
   ]
  },
  {
   "cell_type": "code",
   "execution_count": 22,
   "metadata": {},
   "outputs": [
    {
     "data": {
      "text/html": [
       "<i>Table length=15</i>\n",
       "<table id=\"table4842627760\" class=\"table-striped table-bordered table-condensed\">\n",
       "<thead><tr><th>kepid</th><th>kepler_name</th><th>koi_kepmag</th><th>koi_gmag</th><th>ra</th><th>dec</th><th>koi_period</th><th>koi_prad</th><th>koi_disposition</th></tr></thead>\n",
       "<thead><tr><th>int64</th><th>str13</th><th>float64</th><th>float64</th><th>float64</th><th>float64</th><th>float64</th><th>float64</th><th>str14</th></tr></thead>\n",
       "<tr><td>5389540</td><td>0.0</td><td>13.259</td><td>13.846</td><td>298.46799</td><td>40.516678</td><td>10.26231992</td><td>1.98</td><td>FALSE POSITIVE</td></tr>\n",
       "<tr><td>10264660</td><td>Kepler-14 b</td><td>12.128</td><td>12.363</td><td>287.70883</td><td>47.33305</td><td>6.790120801</td><td>9.86</td><td>CONFIRMED</td></tr>\n",
       "<tr><td>3742855</td><td>0.0</td><td>13.133</td><td>13.14</td><td>290.26614</td><td>38.837917</td><td>6.397185875</td><td>15.02</td><td>FALSE POSITIVE</td></tr>\n",
       "<tr><td>10287248</td><td>0.0</td><td>13.987</td><td>14.839</td><td>296.69562</td><td>47.327309</td><td>4.722254104</td><td>14.45</td><td>FALSE POSITIVE</td></tr>\n",
       "<tr><td>2438061</td><td>0.0</td><td>0.0</td><td>0.0</td><td>290.27701</td><td>37.79097</td><td>2.442941283</td><td>48.18</td><td>FALSE POSITIVE</td></tr>\n",
       "<tr><td>5952366</td><td>0.0</td><td>13.38</td><td>0.0</td><td>289.27658</td><td>41.259754</td><td>0.905679492</td><td>35.74</td><td>FALSE POSITIVE</td></tr>\n",
       "<tr><td>2970804</td><td>0.0</td><td>9.16</td><td>0.0</td><td>286.10696</td><td>38.107628</td><td>0.686994057</td><td>35.3</td><td>FALSE POSITIVE</td></tr>\n",
       "<tr><td>9644411</td><td>0.0</td><td>14.785</td><td>15.527</td><td>289.87915</td><td>46.322498</td><td>0.379412331</td><td>1.59</td><td>FALSE POSITIVE</td></tr>\n",
       "<tr><td>7284688</td><td>0.0</td><td>11.234</td><td>12.702</td><td>292.63</td><td>42.829338</td><td>0.323021692</td><td>46.4</td><td>FALSE POSITIVE</td></tr>\n",
       "<tr><td>8948424</td><td>0.000</td><td>12.97</td><td>0.0</td><td>290.20993</td><td>45.251904</td><td>5.888835386</td><td>584.67</td><td>FALSE POSITIVE</td></tr>\n",
       "<tr><td>6185476</td><td>0.000</td><td>14.267</td><td>15.526</td><td>284.35202</td><td>41.519199</td><td>17.65737838</td><td>2.45</td><td>CANDIDATE</td></tr>\n",
       "<tr><td>7115661</td><td>0.000</td><td>10.624</td><td>11.229</td><td>291.12354</td><td>42.663353</td><td>0.566800926</td><td>2.19</td><td>FALSE POSITIVE</td></tr>\n",
       "<tr><td>8227661</td><td>0.000</td><td>12.946</td><td>13.556</td><td>289.84772</td><td>44.185783</td><td>1.85373924</td><td>0.23</td><td>FALSE POSITIVE</td></tr>\n",
       "<tr><td>5164794</td><td>0.000</td><td>11.51</td><td>0.0</td><td>283.48358</td><td>40.324066</td><td>1.0429419</td><td>2.49</td><td>FALSE POSITIVE</td></tr>\n",
       "<tr><td>10002261</td><td></td><td>13.102</td><td>14.028</td><td>287.55972</td><td>46.957085</td><td>12.713794177</td><td>2.31</td><td>FALSE POSITIVE</td></tr>\n",
       "</table>"
      ],
      "text/plain": [
       "<Table length=15>\n",
       " kepid   kepler_name koi_kepmag ...  koi_period  koi_prad koi_disposition\n",
       " int64      str13     float64   ...   float64    float64       str14     \n",
       "-------- ----------- ---------- ... ------------ -------- ---------------\n",
       " 5389540         0.0     13.259 ...  10.26231992     1.98  FALSE POSITIVE\n",
       "10264660 Kepler-14 b     12.128 ...  6.790120801     9.86       CONFIRMED\n",
       " 3742855         0.0     13.133 ...  6.397185875    15.02  FALSE POSITIVE\n",
       "10287248         0.0     13.987 ...  4.722254104    14.45  FALSE POSITIVE\n",
       " 2438061         0.0        0.0 ...  2.442941283    48.18  FALSE POSITIVE\n",
       " 5952366         0.0      13.38 ...  0.905679492    35.74  FALSE POSITIVE\n",
       " 2970804         0.0       9.16 ...  0.686994057     35.3  FALSE POSITIVE\n",
       " 9644411         0.0     14.785 ...  0.379412331     1.59  FALSE POSITIVE\n",
       " 7284688         0.0     11.234 ...  0.323021692     46.4  FALSE POSITIVE\n",
       " 8948424       0.000      12.97 ...  5.888835386   584.67  FALSE POSITIVE\n",
       " 6185476       0.000     14.267 ...  17.65737838     2.45       CANDIDATE\n",
       " 7115661       0.000     10.624 ...  0.566800926     2.19  FALSE POSITIVE\n",
       " 8227661       0.000     12.946 ...   1.85373924     0.23  FALSE POSITIVE\n",
       " 5164794       0.000      11.51 ...    1.0429419     2.49  FALSE POSITIVE\n",
       "10002261                 13.102 ... 12.713794177     2.31  FALSE POSITIVE"
      ]
     },
     "execution_count": 22,
     "metadata": {},
     "output_type": "execute_result"
    }
   ],
   "source": [
    "t2"
   ]
  },
  {
   "cell_type": "code",
   "execution_count": 23,
   "metadata": {},
   "outputs": [],
   "source": [
    "#t2.show_in_browser(jsviewer=True)  "
   ]
  },
  {
   "cell_type": "code",
   "execution_count": 24,
   "metadata": {},
   "outputs": [],
   "source": [
    "t2.write('unmatched_kics.csv', overwrite=True)"
   ]
  },
  {
   "cell_type": "markdown",
   "metadata": {},
   "source": [
    "#### Of the stars with decent matches, keep only the ones with well-measured parallax & PM:"
   ]
  },
  {
   "cell_type": "code",
   "execution_count": 25,
   "metadata": {},
   "outputs": [
    {
     "name": "stdout",
     "output_type": "stream",
     "text": [
      "46 sources cut for not having a 5-parameter solution.\n"
     ]
    }
   ],
   "source": [
    "has_plx = np.isfinite(hosts['parallax'])\n",
    "hosts = hosts[has_plx] # cut stars without 5-param DR2 solutions\n",
    "print(\"{0} sources cut for not having a 5-parameter solution.\".format(np.sum(~has_plx)))"
   ]
  },
  {
   "cell_type": "code",
   "execution_count": 26,
   "metadata": {},
   "outputs": [
    {
     "name": "stdout",
     "output_type": "stream",
     "text": [
      "182 sources cut following Babusiaux recommended solution quality cuts.\n"
     ]
    }
   ],
   "source": [
    "bab_cuts =  (hosts['visibility_periods_used'] > 8) & \\\n",
    "            (hosts['astrometric_chi2_al']/(hosts['astrometric_n_good_obs_al'] - 5) < \n",
    "             1.44*np.nanmax(np.vstack([np.ones_like(hosts['phot_g_mean_mag']), \n",
    "                    np.exp(-0.4*(hosts['phot_g_mean_mag']-19.5))]), axis=0))\n",
    "hosts = hosts[bab_cuts] # cut stars without much data or with poor astrometric fits\n",
    "print(\"{0} sources cut following Babusiaux recommended solution quality cuts.\".format(np.sum(~bab_cuts)))"
   ]
  },
  {
   "cell_type": "code",
   "execution_count": 27,
   "metadata": {},
   "outputs": [
    {
     "name": "stdout",
     "output_type": "stream",
     "text": [
      "98 sources cut for low SNR.\n"
     ]
    }
   ],
   "source": [
    "high_snr = hosts['parallax_over_error'] > 5.\n",
    "hosts = hosts[high_snr] # cut stars with poorly measured parallax\n",
    "print(\"{0} sources cut for low SNR.\".format(np.sum(~high_snr)))"
   ]
  },
  {
   "cell_type": "code",
   "execution_count": 31,
   "metadata": {},
   "outputs": [
    {
     "name": "stdout",
     "output_type": "stream",
     "text": [
      "1 sources cut for faintness.\n"
     ]
    }
   ],
   "source": [
    "bright = hosts['phot_g_mean_mag'] <= 18.\n",
    "hosts = hosts[bright] # cut faint stars\n",
    "print(\"{0} sources cut for faintness.\".format(np.sum(~bright)))"
   ]
  },
  {
   "cell_type": "code",
   "execution_count": 28,
   "metadata": {},
   "outputs": [
    {
     "name": "stdout",
     "output_type": "stream",
     "text": [
      "7 sources have little proper motion; keeping them for now.\n"
     ]
    }
   ],
   "source": [
    "# Cut these?\n",
    "nonzero_pm = (np.sqrt(hosts['pmra']**2 + \n",
    "                      hosts['pmdec']**2)/np.sqrt(hosts['pmra_error']**2 + \n",
    "                      hosts['pmdec_error']**2) > 5.) \n",
    "#hosts = hosts[nonzero_pm]\n",
    "print(\"{0} sources have little proper motion; keeping them for now.\".format(np.sum(~nonzero_pm)))\n",
    "#hosts[~nonzero_pm]"
   ]
  },
  {
   "cell_type": "code",
   "execution_count": 32,
   "metadata": {},
   "outputs": [
    {
     "name": "stdout",
     "output_type": "stream",
     "text": [
      "In total, 2758 of 3100 Kepler host star candidates have good Gaia DR2 counterparts.\n"
     ]
    }
   ],
   "source": [
    "print(\"In total, {0} of {1} Kepler host star candidates have good Gaia DR2 counterparts.\".format(len(hosts),\n",
    "                                                                                                len(kepler_hosts)))"
   ]
  },
  {
   "cell_type": "code",
   "execution_count": 33,
   "metadata": {},
   "outputs": [],
   "source": [
    "hosts.write('kepler_host_matches.fits', overwrite=True)"
   ]
  },
  {
   "cell_type": "code",
   "execution_count": null,
   "metadata": {},
   "outputs": [],
   "source": []
  }
 ],
 "metadata": {
  "kernelspec": {
   "display_name": "Python 3",
   "language": "python",
   "name": "python3"
  },
  "language_info": {
   "codemirror_mode": {
    "name": "ipython",
    "version": 3
   },
   "file_extension": ".py",
   "mimetype": "text/x-python",
   "name": "python",
   "nbconvert_exporter": "python",
   "pygments_lexer": "ipython3",
   "version": "3.7.1"
  }
 },
 "nbformat": 4,
 "nbformat_minor": 2
}
