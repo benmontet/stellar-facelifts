{
 "cells": [
  {
   "cell_type": "code",
   "execution_count": 1,
   "metadata": {},
   "outputs": [],
   "source": [
    "%matplotlib inline"
   ]
  },
  {
   "cell_type": "code",
   "execution_count": 2,
   "metadata": {},
   "outputs": [],
   "source": [
    "import numpy as np\n",
    "import matplotlib.pyplot as plt\n",
    "from astropy.table import Table, join, unique"
   ]
  },
  {
   "cell_type": "markdown",
   "metadata": {},
   "source": [
    "### Get Gaia counterparts for every candidate Kepler host star:"
   ]
  },
  {
   "cell_type": "code",
   "execution_count": 3,
   "metadata": {},
   "outputs": [],
   "source": [
    "kepler_hosts = Table(np.genfromtxt('../cumulative_2019.04.17_13.39.33.csv', \n",
    "                                   delimiter=',', skip_header=150, names=True,\n",
    "                                   dtype=None, encoding=None))"
   ]
  },
  {
   "cell_type": "code",
   "execution_count": 4,
   "metadata": {},
   "outputs": [],
   "source": [
    "gaia_4arcsec = Table.read('/Users/mbedell/Documents/Web Design/gaia-kepler.fun/scripts/kepler_dr2_4arcsec.fits')"
   ]
  },
  {
   "cell_type": "code",
   "execution_count": 42,
   "metadata": {},
   "outputs": [
    {
     "data": {
      "text/html": [
       "<i>Table masked=True length=4</i>\n",
       "<table id=\"table4814623576\" class=\"table-striped table-bordered table-condensed\">\n",
       "<thead><tr><th>kepmag</th><th>phot_g_mean_mag</th><th>kepler_gaia_ang_dist</th><th>pmra</th><th>pmdec</th><th>bp_rp</th></tr></thead>\n",
       "<thead><tr><th></th><th>mag</th><th>arcsec</th><th>0.001 arcsec / yr</th><th>0.001 arcsec / yr</th><th>mag</th></tr></thead>\n",
       "<thead><tr><th>float64</th><th>float32</th><th>float64</th><th>float64</th><th>float64</th><th>float32</th></tr></thead>\n",
       "<tr><td>12.95</td><td>16.93917</td><td>1.5870637628680702</td><td>-2.0365601048702042</td><td>-3.4435372282895855</td><td>1.1349487</td></tr>\n",
       "<tr><td>12.95</td><td>14.568381</td><td>3.131764431911723</td><td>-1.527063575496584</td><td>-0.5539174419623825</td><td>0.9088812</td></tr>\n",
       "<tr><td>12.95</td><td>18.48162</td><td>3.274348038114866</td><td>-0.04946556087521525</td><td>-10.05732543245339</td><td>nan</td></tr>\n",
       "<tr><td>12.95</td><td>17.932257</td><td>3.73841124901272</td><td>-2.332807337653089</td><td>-8.800923734813194</td><td>0.97015953</td></tr>\n",
       "</table>"
      ],
      "text/plain": [
       "<Table masked=True length=4>\n",
       " kepmag phot_g_mean_mag kepler_gaia_ang_dist ...        pmdec          bp_rp   \n",
       "              mag              arcsec        ...  0.001 arcsec / yr     mag    \n",
       "float64     float32           float64        ...       float64        float32  \n",
       "------- --------------- -------------------- ... ------------------- ----------\n",
       "  12.95        16.93917   1.5870637628680702 ... -3.4435372282895855  1.1349487\n",
       "  12.95       14.568381    3.131764431911723 ... -0.5539174419623825  0.9088812\n",
       "  12.95        18.48162    3.274348038114866 ...  -10.05732543245339        nan\n",
       "  12.95       17.932257     3.73841124901272 ...  -8.800923734813194 0.97015953"
      ]
     },
     "execution_count": 42,
     "metadata": {},
     "output_type": "execute_result"
    }
   ],
   "source": [
    "gaia_4arcsec[gaia_4arcsec['kepid'] == 3353454]['kepmag','phot_g_mean_mag','kepler_gaia_ang_dist','pmra','pmdec','bp_rp']"
   ]
  },
  {
   "cell_type": "code",
   "execution_count": 6,
   "metadata": {},
   "outputs": [],
   "source": [
    "hosts = join(kepler_hosts, gaia_4arcsec, keys='kepid')"
   ]
  },
  {
   "cell_type": "markdown",
   "metadata": {},
   "source": [
    "#### Cut matches that probably aren't the correct star:"
   ]
  },
  {
   "cell_type": "code",
   "execution_count": 7,
   "metadata": {},
   "outputs": [
    {
     "name": "stderr",
     "output_type": "stream",
     "text": [
      "/Users/mbedell/miniconda3/lib/python3.7/site-packages/astropy/table/column.py:965: RuntimeWarning: invalid value encountered in less_equal\n",
      "  return getattr(self.data, op)(other)\n"
     ]
    }
   ],
   "source": [
    "good = np.abs(hosts['phot_g_mean_mag'] - hosts['kepmag']) <= 1.5\n",
    "hosts = hosts[good]"
   ]
  },
  {
   "cell_type": "code",
   "execution_count": 8,
   "metadata": {},
   "outputs": [],
   "source": [
    "#hosts = unique(hosts, keys='kepid', keep='first') # cut duplicate matches, keeping closest star"
   ]
  },
  {
   "cell_type": "code",
   "execution_count": 9,
   "metadata": {},
   "outputs": [
    {
     "data": {
      "image/png": "[encoded data removed]",
      "text/plain": [
       "<Figure size 432x288 with 1 Axes>"
      ]
     },
     "metadata": {
      "needs_background": "light"
     },
     "output_type": "display_data"
    }
   ],
   "source": [
    "plt.plot(hosts['kepler_gaia_ang_dist'], hosts['phot_g_mean_mag'] - hosts['kepmag'], 'k.', alpha=0.6)\n",
    "#plt.ylim([-0.5,1.0])\n",
    "plt.xlabel('Ang sep (\")')\n",
    "plt.ylabel('G - K');"
   ]
  },
  {
   "cell_type": "code",
   "execution_count": 10,
   "metadata": {},
   "outputs": [
    {
     "data": {
      "image/png": "[encoded data removed]",
      "text/plain": [
       "<Figure size 432x288 with 1 Axes>"
      ]
     },
     "metadata": {
      "needs_background": "light"
     },
     "output_type": "display_data"
    }
   ],
   "source": [
    "plt.hist((hosts['phot_g_mean_mag'] - hosts['kepmag'])[np.isfinite(hosts['phot_g_mean_mag'])], bins=20)\n",
    "plt.yscale('log')\n",
    "plt.xlabel('G - K');"
   ]
  },
  {
   "cell_type": "code",
   "execution_count": 11,
   "metadata": {},
   "outputs": [],
   "source": [
    "good = (np.abs(hosts['phot_g_mean_mag'] - hosts['kepmag']) <= 1.5) & \\\n",
    "       (hosts['kepler_gaia_ang_dist'] <= 2.)"
   ]
  },
  {
   "cell_type": "code",
   "execution_count": 12,
   "metadata": {},
   "outputs": [],
   "source": [
    "hosts = hosts[good]"
   ]
  },
  {
   "cell_type": "markdown",
   "metadata": {},
   "source": [
    "#### Check on some statistics for how many stars have believable matches:"
   ]
  },
  {
   "cell_type": "code",
   "execution_count": 13,
   "metadata": {},
   "outputs": [
    {
     "name": "stdout",
     "output_type": "stream",
     "text": [
      "Number of candidate host stars: 1699\n"
     ]
    }
   ],
   "source": [
    "print(\"Number of candidate host stars:\", len(kepler_hosts['kepid']))"
   ]
  },
  {
   "cell_type": "code",
   "execution_count": 14,
   "metadata": {},
   "outputs": [],
   "source": [
    "no_match_kics = kepler_hosts[np.isin(kepler_hosts['kepid'], hosts['kepid'], invert=True)]['kepid']\n",
    "match_kics, counts = np.unique(hosts['kepid'], return_counts=True)\n",
    "multi_match_kics = match_kics[counts > 1]\n",
    "single_match_kics = match_kics[counts == 1]"
   ]
  },
  {
   "cell_type": "code",
   "execution_count": 15,
   "metadata": {},
   "outputs": [
    {
     "name": "stdout",
     "output_type": "stream",
     "text": [
      "Number of candidate host stars without Gaia counterparts: 23\n",
      "Number of candidate host stars with more than one close Gaia match: 44\n"
     ]
    }
   ],
   "source": [
    "print(\"Number of candidate host stars without Gaia counterparts:\", len(no_match_kics))\n",
    "print(\"Number of candidate host stars with more than one close Gaia match:\", len(multi_match_kics))"
   ]
  },
  {
   "cell_type": "markdown",
   "metadata": {},
   "source": [
    "#### Check on stars where we found more than one good match:"
   ]
  },
  {
   "cell_type": "code",
   "execution_count": 16,
   "metadata": {},
   "outputs": [],
   "source": [
    "t = hosts[np.isin(hosts['kepid'], multi_match_kics)]['kepid', 'kepmag', \n",
    "                                                     'phot_g_mean_mag', 'kepler_gaia_ang_dist', 'bp_rp']"
   ]
  },
  {
   "cell_type": "code",
   "execution_count": 17,
   "metadata": {},
   "outputs": [
    {
     "data": {
      "text/html": [
       "<i>Table masked=True length=88</i>\n",
       "<table id=\"table4811800704\" class=\"table-striped table-bordered table-condensed\">\n",
       "<thead><tr><th>kepid</th><th>kepmag</th><th>phot_g_mean_mag</th><th>kepler_gaia_ang_dist</th><th>bp_rp</th></tr></thead>\n",
       "<thead><tr><th></th><th></th><th>mag</th><th>arcsec</th><th>mag</th></tr></thead>\n",
       "<thead><tr><th>int64</th><th>float64</th><th>float32</th><th>float64</th><th>float32</th></tr></thead>\n",
       "<tr><td>2437452</td><td>16.981</td><td>17.208113</td><td>0.2740950634926204</td><td>1.0967178</td></tr>\n",
       "<tr><td>2437452</td><td>16.981</td><td>17.847225</td><td>1.7730378067971926</td><td>0.9843044</td></tr>\n",
       "<tr><td>3127817</td><td>12.155</td><td>12.462681</td><td>0.4637561147880646</td><td>0.7984276</td></tr>\n",
       "<tr><td>3127817</td><td>12.155</td><td>12.762624</td><td>0.7714504810069563</td><td>nan</td></tr>\n",
       "<tr><td>3327992</td><td>15.582</td><td>17.050085</td><td>1.2618282090594952</td><td>nan</td></tr>\n",
       "<tr><td>3327992</td><td>15.582</td><td>15.910303</td><td>0.18299279671369922</td><td>1.8951912</td></tr>\n",
       "<tr><td>3458919</td><td>13.815</td><td>13.699158</td><td>1.1111097521912292</td><td>1.046216</td></tr>\n",
       "<tr><td>3458919</td><td>13.815</td><td>13.910889</td><td>0.942287379813649</td><td>1.1077003</td></tr>\n",
       "<tr><td>3757588</td><td>14.94</td><td>15.9495945</td><td>0.3551134880521779</td><td>nan</td></tr>\n",
       "<tr><td>...</td><td>...</td><td>...</td><td>...</td><td>...</td></tr>\n",
       "<tr><td>10490960</td><td>14.3</td><td>14.891979</td><td>0.6615444152683305</td><td>0.9373932</td></tr>\n",
       "<tr><td>10490960</td><td>14.3</td><td>15.212327</td><td>0.6218557791393043</td><td>nan</td></tr>\n",
       "<tr><td>10619109</td><td>11.704</td><td>11.963971</td><td>0.46440682638984027</td><td>0.5969143</td></tr>\n",
       "<tr><td>10619109</td><td>11.704</td><td>12.770153</td><td>0.8604844866905982</td><td>nan</td></tr>\n",
       "<tr><td>10971674</td><td>13.802</td><td>14.239129</td><td>0.2546968192283604</td><td>0.96495914</td></tr>\n",
       "<tr><td>10971674</td><td>13.802</td><td>14.81567</td><td>1.4957167589684122</td><td>nan</td></tr>\n",
       "<tr><td>11970288</td><td>11.308</td><td>11.484962</td><td>0.2699922368603388</td><td>0.5868988</td></tr>\n",
       "<tr><td>11970288</td><td>11.308</td><td>12.672456</td><td>0.6920194078110095</td><td>nan</td></tr>\n",
       "<tr><td>12105051</td><td>13.687</td><td>14.041828</td><td>0.19327676652273676</td><td>1.0583639</td></tr>\n",
       "<tr><td>12105051</td><td>13.687</td><td>15.128018</td><td>0.6675655306262637</td><td>nan</td></tr>\n",
       "</table>"
      ],
      "text/plain": [
       "<Table masked=True length=88>\n",
       " kepid    kepmag phot_g_mean_mag kepler_gaia_ang_dist   bp_rp   \n",
       "                       mag              arcsec           mag    \n",
       " int64   float64     float32           float64         float32  \n",
       "-------- ------- --------------- -------------------- ----------\n",
       " 2437452  16.981       17.208113   0.2740950634926204  1.0967178\n",
       " 2437452  16.981       17.847225   1.7730378067971926  0.9843044\n",
       " 3127817  12.155       12.462681   0.4637561147880646  0.7984276\n",
       " 3127817  12.155       12.762624   0.7714504810069563        nan\n",
       " 3327992  15.582       17.050085   1.2618282090594952        nan\n",
       " 3327992  15.582       15.910303  0.18299279671369922  1.8951912\n",
       " 3458919  13.815       13.699158   1.1111097521912292   1.046216\n",
       " 3458919  13.815       13.910889    0.942287379813649  1.1077003\n",
       " 3757588   14.94      15.9495945   0.3551134880521779        nan\n",
       "     ...     ...             ...                  ...        ...\n",
       "10490960    14.3       14.891979   0.6615444152683305  0.9373932\n",
       "10490960    14.3       15.212327   0.6218557791393043        nan\n",
       "10619109  11.704       11.963971  0.46440682638984027  0.5969143\n",
       "10619109  11.704       12.770153   0.8604844866905982        nan\n",
       "10971674  13.802       14.239129   0.2546968192283604 0.96495914\n",
       "10971674  13.802        14.81567   1.4957167589684122        nan\n",
       "11970288  11.308       11.484962   0.2699922368603388  0.5868988\n",
       "11970288  11.308       12.672456   0.6920194078110095        nan\n",
       "12105051  13.687       14.041828  0.19327676652273676  1.0583639\n",
       "12105051  13.687       15.128018   0.6675655306262637        nan"
      ]
     },
     "execution_count": 17,
     "metadata": {},
     "output_type": "execute_result"
    }
   ],
   "source": [
    "t"
   ]
  },
  {
   "cell_type": "code",
   "execution_count": 18,
   "metadata": {},
   "outputs": [],
   "source": [
    "#t.show_in_browser(jsviewer=True)  "
   ]
  },
  {
   "cell_type": "markdown",
   "metadata": {},
   "source": [
    "In general these seem to be unresolved binaries in Kepler that have been resolved by Gaia. We can therefore keep either star to adopt as the \"true match.\" The cross-match table is already sorted by angular distance between the Kepler coordinates and the Gaia match, so let's adopt that as the deciding factor."
   ]
  },
  {
   "cell_type": "code",
   "execution_count": 19,
   "metadata": {},
   "outputs": [],
   "source": [
    "hosts = unique(hosts, keys='kepid', keep='first')"
   ]
  },
  {
   "cell_type": "markdown",
   "metadata": {},
   "source": [
    "#### Check on stars without Gaia counterparts:"
   ]
  },
  {
   "cell_type": "code",
   "execution_count": 20,
   "metadata": {},
   "outputs": [],
   "source": [
    "t2 = kepler_hosts[np.isin(kepler_hosts['kepid'], no_match_kics)]['kepid', 'kepler_name', 'koi_kepmag', \n",
    "                                                                 'koi_gmag', 'ra', 'dec',\n",
    "                                                                 'koi_period', 'koi_prad', 'koi_disposition']"
   ]
  },
  {
   "cell_type": "code",
   "execution_count": 21,
   "metadata": {},
   "outputs": [
    {
     "data": {
      "text/html": [
       "<i>Table length=23</i>\n",
       "<table id=\"table4817900600\" class=\"table-striped table-bordered table-condensed\">\n",
       "<thead><tr><th>kepid</th><th>kepler_name</th><th>koi_kepmag</th><th>koi_gmag</th><th>ra</th><th>dec</th><th>koi_period</th><th>koi_prad</th><th>koi_disposition</th></tr></thead>\n",
       "<thead><tr><th>int64</th><th>str13</th><th>float64</th><th>float64</th><th>float64</th><th>float64</th><th>float64</th><th>float64</th><th>str14</th></tr></thead>\n",
       "<tr><td>3952651</td><td></td><td>13.96</td><td>14.709</td><td>291.04391</td><td>39.023685</td><td>32.9045733</td><td>28.34</td><td>FALSE POSITIVE</td></tr>\n",
       "<tr><td>9025922</td><td></td><td>13.29</td><td>nan</td><td>293.26605</td><td>45.350697</td><td>11.32029599</td><td>8.02</td><td>FALSE POSITIVE</td></tr>\n",
       "<tr><td>5389540</td><td></td><td>13.259</td><td>13.846</td><td>298.46799</td><td>40.516678</td><td>10.26231992</td><td>1.98</td><td>FALSE POSITIVE</td></tr>\n",
       "<tr><td>9851126</td><td></td><td>13.183</td><td>14.341</td><td>298.79532</td><td>46.670448</td><td>8.480303653</td><td>22.25</td><td>FALSE POSITIVE</td></tr>\n",
       "<tr><td>10264660</td><td>Kepler-14 b</td><td>12.128</td><td>12.363</td><td>287.70883</td><td>47.33305</td><td>6.790120801</td><td>9.86</td><td>CONFIRMED</td></tr>\n",
       "<tr><td>3742855</td><td></td><td>13.133</td><td>13.14</td><td>290.26614</td><td>38.837917</td><td>6.397185875</td><td>15.02</td><td>FALSE POSITIVE</td></tr>\n",
       "<tr><td>8766222</td><td></td><td>13.85</td><td>nan</td><td>296.39639</td><td>44.963036</td><td>5.2972293</td><td>47.7</td><td>FALSE POSITIVE</td></tr>\n",
       "<tr><td>10287248</td><td></td><td>13.987</td><td>14.839</td><td>296.69562</td><td>47.327309</td><td>4.722254104</td><td>14.45</td><td>FALSE POSITIVE</td></tr>\n",
       "<tr><td>6752502</td><td></td><td>13.826</td><td>14.69</td><td>282.15491</td><td>42.234547</td><td>4.305219002</td><td>10.34</td><td>FALSE POSITIVE</td></tr>\n",
       "<tr><td>2445975</td><td></td><td>13.513</td><td>14.404</td><td>292.03091</td><td>37.773529</td><td>3.388887193</td><td>10.72</td><td>FALSE POSITIVE</td></tr>\n",
       "<tr><td>...</td><td>...</td><td>...</td><td>...</td><td>...</td><td>...</td><td>...</td><td>...</td><td>...</td></tr>\n",
       "<tr><td>11858741</td><td></td><td>16.485</td><td>17.502</td><td>288.76028</td><td>50.176834</td><td>1.780982447</td><td>60.45</td><td>FALSE POSITIVE</td></tr>\n",
       "<tr><td>3353454</td><td></td><td>12.95</td><td>nan</td><td>294.25079</td><td>38.404236</td><td>1.6911935</td><td>6.36</td><td>FALSE POSITIVE</td></tr>\n",
       "<tr><td>3836413</td><td></td><td>13.76</td><td>nan</td><td>286.94046</td><td>38.923927</td><td>1.540396094</td><td>48.81</td><td>FALSE POSITIVE</td></tr>\n",
       "<tr><td>6543682</td><td></td><td>13.908</td><td>13.836</td><td>297.54327</td><td>41.951748</td><td>1.195516859</td><td>75.54</td><td>FALSE POSITIVE</td></tr>\n",
       "<tr><td>11918482</td><td></td><td>13.497</td><td>14.007</td><td>294.01917</td><td>50.216606</td><td>0.94754848</td><td>224.79</td><td>FALSE POSITIVE</td></tr>\n",
       "<tr><td>5952366</td><td></td><td>13.38</td><td>nan</td><td>289.27658</td><td>41.259754</td><td>0.905679492</td><td>35.74</td><td>FALSE POSITIVE</td></tr>\n",
       "<tr><td>2970804</td><td></td><td>9.16</td><td>nan</td><td>286.10696</td><td>38.107628</td><td>0.686994057</td><td>35.3</td><td>FALSE POSITIVE</td></tr>\n",
       "<tr><td>7818447</td><td></td><td>13.593</td><td>13.961</td><td>290.47928</td><td>43.505268</td><td>0.618952198</td><td>4.96</td><td>FALSE POSITIVE</td></tr>\n",
       "<tr><td>9644411</td><td></td><td>14.785</td><td>15.527</td><td>289.87915</td><td>46.322498</td><td>0.379412331</td><td>1.59</td><td>FALSE POSITIVE</td></tr>\n",
       "<tr><td>7284688</td><td></td><td>11.234</td><td>12.702</td><td>292.63</td><td>42.829338</td><td>0.323021692</td><td>46.4</td><td>FALSE POSITIVE</td></tr>\n",
       "</table>"
      ],
      "text/plain": [
       "<Table length=23>\n",
       " kepid   kepler_name koi_kepmag ...  koi_period koi_prad koi_disposition\n",
       " int64      str13     float64   ...   float64   float64       str14     \n",
       "-------- ----------- ---------- ... ----------- -------- ---------------\n",
       " 3952651                  13.96 ...  32.9045733    28.34  FALSE POSITIVE\n",
       " 9025922                  13.29 ... 11.32029599     8.02  FALSE POSITIVE\n",
       " 5389540                 13.259 ... 10.26231992     1.98  FALSE POSITIVE\n",
       " 9851126                 13.183 ... 8.480303653    22.25  FALSE POSITIVE\n",
       "10264660 Kepler-14 b     12.128 ... 6.790120801     9.86       CONFIRMED\n",
       " 3742855                 13.133 ... 6.397185875    15.02  FALSE POSITIVE\n",
       " 8766222                  13.85 ...   5.2972293     47.7  FALSE POSITIVE\n",
       "10287248                 13.987 ... 4.722254104    14.45  FALSE POSITIVE\n",
       " 6752502                 13.826 ... 4.305219002    10.34  FALSE POSITIVE\n",
       " 2445975                 13.513 ... 3.388887193    10.72  FALSE POSITIVE\n",
       "     ...         ...        ... ...         ...      ...             ...\n",
       "11858741                 16.485 ... 1.780982447    60.45  FALSE POSITIVE\n",
       " 3353454                  12.95 ...   1.6911935     6.36  FALSE POSITIVE\n",
       " 3836413                  13.76 ... 1.540396094    48.81  FALSE POSITIVE\n",
       " 6543682                 13.908 ... 1.195516859    75.54  FALSE POSITIVE\n",
       "11918482                 13.497 ...  0.94754848   224.79  FALSE POSITIVE\n",
       " 5952366                  13.38 ... 0.905679492    35.74  FALSE POSITIVE\n",
       " 2970804                   9.16 ... 0.686994057     35.3  FALSE POSITIVE\n",
       " 7818447                 13.593 ... 0.618952198     4.96  FALSE POSITIVE\n",
       " 9644411                 14.785 ... 0.379412331     1.59  FALSE POSITIVE\n",
       " 7284688                 11.234 ... 0.323021692     46.4  FALSE POSITIVE"
      ]
     },
     "execution_count": 21,
     "metadata": {},
     "output_type": "execute_result"
    }
   ],
   "source": [
    "t2"
   ]
  },
  {
   "cell_type": "code",
   "execution_count": 31,
   "metadata": {},
   "outputs": [],
   "source": [
    "t2.show_in_browser(jsviewer=True)  "
   ]
  },
  {
   "cell_type": "code",
   "execution_count": 23,
   "metadata": {},
   "outputs": [],
   "source": [
    "t2.write('unmatched_kics.csv', overwrite=True)"
   ]
  },
  {
   "cell_type": "markdown",
   "metadata": {},
   "source": [
    "#### Of the stars with decent matches, keep only the ones with well-measured parallax & PM:"
   ]
  },
  {
   "cell_type": "code",
   "execution_count": 24,
   "metadata": {},
   "outputs": [
    {
     "name": "stdout",
     "output_type": "stream",
     "text": [
      "28 sources cut for not having a 5-parameter solution.\n"
     ]
    }
   ],
   "source": [
    "has_plx = np.isfinite(hosts['parallax'])\n",
    "hosts = hosts[has_plx] # cut stars without 5-param DR2 solutions\n",
    "print(\"{0} sources cut for not having a 5-parameter solution.\".format(np.sum(~has_plx)))"
   ]
  },
  {
   "cell_type": "code",
   "execution_count": 25,
   "metadata": {},
   "outputs": [
    {
     "name": "stdout",
     "output_type": "stream",
     "text": [
      "109 sources cut following Babusiaux recommended solution quality cuts.\n"
     ]
    }
   ],
   "source": [
    "bab_cuts =  (hosts['visibility_periods_used'] > 8) & \\\n",
    "            (hosts['astrometric_chi2_al']/(hosts['astrometric_n_good_obs_al'] - 5) < \n",
    "             1.44*np.nanmax(np.vstack([np.ones_like(hosts['phot_g_mean_mag']), \n",
    "                    np.exp(-0.4*(hosts['phot_g_mean_mag']-19.5))]), axis=0))\n",
    "hosts = hosts[bab_cuts] # cut stars without much data or with poor astrometric fits\n",
    "print(\"{0} sources cut following Babusiaux recommended solution quality cuts.\".format(np.sum(~bab_cuts)))"
   ]
  },
  {
   "cell_type": "code",
   "execution_count": 26,
   "metadata": {},
   "outputs": [
    {
     "name": "stdout",
     "output_type": "stream",
     "text": [
      "68 sources cut for low SNR.\n"
     ]
    }
   ],
   "source": [
    "high_snr = hosts['parallax_over_error'] > 5.\n",
    "hosts = hosts[high_snr] # cut stars with poorly measured parallax\n",
    "print(\"{0} sources cut for low SNR.\".format(np.sum(~high_snr)))"
   ]
  },
  {
   "cell_type": "code",
   "execution_count": 27,
   "metadata": {},
   "outputs": [
    {
     "data": {
      "text/html": [
       "<i>Table masked=True length=3</i>\n",
       "<table id=\"table4817972584\" class=\"table-striped table-bordered table-condensed\">\n",
       "<thead><tr><th>kepid</th><th>kepoi_name</th><th>kepler_name</th><th>koi_disposition</th><th>koi_vet_stat</th><th>koi_vet_date</th><th>koi_pdisposition</th><th>koi_score</th><th>koi_fpflag_nt</th><th>koi_fpflag_ss</th><th>koi_fpflag_co</th><th>koi_fpflag_ec</th><th>koi_disp_prov</th><th>koi_comment</th><th>koi_period</th><th>koi_period_err1</th><th>koi_period_err2</th><th>koi_time0bk</th><th>koi_time0bk_err1</th><th>koi_time0bk_err2</th><th>koi_time0</th><th>koi_time0_err1</th><th>koi_time0_err2</th><th>koi_eccen</th><th>koi_eccen_err1</th><th>koi_eccen_err2</th><th>koi_longp</th><th>koi_longp_err1</th><th>koi_longp_err2</th><th>koi_impact</th><th>koi_impact_err1</th><th>koi_impact_err2</th><th>koi_duration</th><th>koi_duration_err1</th><th>koi_duration_err2</th><th>koi_ingress</th><th>koi_ingress_err1</th><th>koi_ingress_err2</th><th>koi_depth</th><th>koi_depth_err1</th><th>koi_depth_err2</th><th>koi_ror</th><th>koi_ror_err1</th><th>koi_ror_err2</th><th>koi_srho</th><th>koi_srho_err1</th><th>koi_srho_err2</th><th>koi_fittype</th><th>koi_prad</th><th>koi_prad_err1</th><th>koi_prad_err2</th><th>koi_sma</th><th>koi_sma_err1</th><th>koi_sma_err2</th><th>koi_incl</th><th>koi_incl_err1</th><th>koi_incl_err2</th><th>koi_teq</th><th>koi_teq_err1</th><th>koi_teq_err2</th><th>koi_insol</th><th>koi_insol_err1</th><th>koi_insol_err2</th><th>koi_dor</th><th>koi_dor_err1</th><th>koi_dor_err2</th><th>koi_limbdark_mod</th><th>koi_ldm_coeff4</th><th>koi_ldm_coeff3</th><th>koi_ldm_coeff2</th><th>koi_ldm_coeff1</th><th>koi_parm_prov</th><th>koi_max_sngle_ev</th><th>koi_max_mult_ev</th><th>koi_model_snr</th><th>koi_count</th><th>koi_num_transits</th><th>koi_tce_plnt_num</th><th>koi_tce_delivname</th><th>koi_quarters</th><th>koi_bin_oedp_sig</th><th>koi_trans_mod</th><th>koi_model_dof</th><th>koi_model_chisq</th><th>koi_datalink_dvr</th><th>koi_datalink_dvs</th><th>koi_steff</th><th>koi_steff_err1</th><th>koi_steff_err2</th><th>koi_slogg</th><th>koi_slogg_err1</th><th>koi_slogg_err2</th><th>koi_smet</th><th>koi_smet_err1</th><th>koi_smet_err2</th><th>koi_srad</th><th>koi_srad_err1</th><th>koi_srad_err2</th><th>koi_smass</th><th>koi_smass_err1</th><th>koi_smass_err2</th><th>koi_sage</th><th>koi_sage_err1</th><th>koi_sage_err2</th><th>koi_sparprov</th><th>ra_1</th><th>dec_1</th><th>koi_kepmag</th><th>koi_gmag</th><th>koi_rmag</th><th>koi_imag</th><th>koi_zmag</th><th>koi_jmag</th><th>koi_hmag</th><th>koi_kmag</th><th>koi_fwm_stat_sig</th><th>koi_fwm_sra</th><th>koi_fwm_sra_err</th><th>koi_fwm_sdec</th><th>koi_fwm_sdec_err</th><th>koi_fwm_srao</th><th>koi_fwm_srao_err</th><th>koi_fwm_sdeco</th><th>koi_fwm_sdeco_err</th><th>koi_fwm_prao</th><th>koi_fwm_prao_err</th><th>koi_fwm_pdeco</th><th>koi_fwm_pdeco_err</th><th>koi_dicco_mra</th><th>koi_dicco_mra_err</th><th>koi_dicco_mdec</th><th>koi_dicco_mdec_err</th><th>koi_dicco_msky</th><th>koi_dicco_msky_err</th><th>koi_dikco_mra</th><th>koi_dikco_mra_err</th><th>koi_dikco_mdec</th><th>koi_dikco_mdec_err</th><th>koi_dikco_msky</th><th>koi_dikco_msky_err</th><th>solution_id</th><th>designation</th><th>source_id</th><th>random_index</th><th>gaia_ref_epoch</th><th>ra_2</th><th>ra_error</th><th>dec_2</th><th>dec_error</th><th>parallax</th><th>parallax_error</th><th>parallax_over_error</th><th>pmra</th><th>pmra_error</th><th>pmdec</th><th>pmdec_error</th><th>ra_dec_corr</th><th>ra_parallax_corr</th><th>ra_pmra_corr</th><th>ra_pmdec_corr</th><th>dec_parallax_corr</th><th>dec_pmra_corr</th><th>dec_pmdec_corr</th><th>parallax_pmra_corr</th><th>parallax_pmdec_corr</th><th>pmra_pmdec_corr</th><th>astrometric_n_obs_al</th><th>astrometric_n_obs_ac</th><th>astrometric_n_good_obs_al</th><th>astrometric_n_bad_obs_al</th><th>astrometric_gof_al</th><th>astrometric_chi2_al</th><th>astrometric_excess_noise</th><th>astrometric_excess_noise_sig</th><th>astrometric_params_solved</th><th>astrometric_primary_flag</th><th>astrometric_weight_al</th><th>astrometric_pseudo_colour</th><th>astrometric_pseudo_colour_error</th><th>mean_varpi_factor_al</th><th>astrometric_matched_observations</th><th>visibility_periods_used</th><th>astrometric_sigma5d_max</th><th>frame_rotator_object_type</th><th>matched_observations</th><th>duplicated_source</th><th>phot_g_n_obs</th><th>phot_g_mean_flux</th><th>phot_g_mean_flux_error</th><th>phot_g_mean_flux_over_error</th><th>phot_g_mean_mag</th><th>phot_bp_n_obs</th><th>phot_bp_mean_flux</th><th>phot_bp_mean_flux_error</th><th>phot_bp_mean_flux_over_error</th><th>phot_bp_mean_mag</th><th>phot_rp_n_obs</th><th>phot_rp_mean_flux</th><th>phot_rp_mean_flux_error</th><th>phot_rp_mean_flux_over_error</th><th>phot_rp_mean_mag</th><th>phot_bp_rp_excess_factor</th><th>phot_proc_mode</th><th>bp_rp</th><th>bp_g</th><th>g_rp</th><th>radial_velocity</th><th>radial_velocity_error</th><th>rv_nb_transits</th><th>rv_template_teff</th><th>rv_template_logg</th><th>rv_template_fe_h</th><th>phot_variable_flag</th><th>l</th><th>b</th><th>ecl_lon</th><th>ecl_lat</th><th>priam_flags</th><th>teff_val</th><th>teff_percentile_lower</th><th>teff_percentile_upper</th><th>a_g_val</th><th>a_g_percentile_lower</th><th>a_g_percentile_upper</th><th>e_bp_min_rp_val</th><th>e_bp_min_rp_percentile_lower</th><th>e_bp_min_rp_percentile_upper</th><th>flame_flags</th><th>radius_val</th><th>radius_percentile_lower</th><th>radius_percentile_upper</th><th>lum_val</th><th>lum_percentile_lower</th><th>lum_percentile_upper</th><th>datalink_url</th><th>epoch_photometry_url</th><th>ra_kic</th><th>dec_kic</th><th>r_est</th><th>r_lo</th><th>r_hi</th><th>r_length_prior</th><th>r_result_flag</th><th>r_modality_flag</th><th>tm_designation</th><th>kepmag</th><th>teff</th><th>teff_err1</th><th>teff_err2</th><th>teff_prov</th><th>logg</th><th>logg_err1</th><th>logg_err2</th><th>logg_prov</th><th>feh</th><th>feh_err1</th><th>feh_err2</th><th>feh_prov</th><th>radius</th><th>radius_err1</th><th>radius_err2</th><th>mass</th><th>mass_err1</th><th>mass_err2</th><th>prov_sec</th><th>nconfp</th><th>nkoi</th><th>ntce</th><th>jmag</th><th>hmag</th><th>kmag</th><th>planet?</th><th>kepler_gaia_ang_dist</th></tr></thead>\n",
       "<thead><tr><th></th><th></th><th></th><th></th><th></th><th></th><th></th><th></th><th></th><th></th><th></th><th></th><th></th><th></th><th></th><th></th><th></th><th></th><th></th><th></th><th></th><th></th><th></th><th></th><th></th><th></th><th></th><th></th><th></th><th></th><th></th><th></th><th></th><th></th><th></th><th></th><th></th><th></th><th></th><th></th><th></th><th></th><th></th><th></th><th></th><th></th><th></th><th></th><th></th><th></th><th></th><th></th><th></th><th></th><th></th><th></th><th></th><th></th><th></th><th></th><th></th><th></th><th></th><th></th><th></th><th></th><th></th><th></th><th></th><th></th><th></th><th></th><th></th><th></th><th></th><th></th><th></th><th></th><th></th><th></th><th></th><th></th><th></th><th></th><th></th><th></th><th></th><th></th><th></th><th></th><th></th><th></th><th></th><th></th><th></th><th></th><th></th><th></th><th></th><th></th><th></th><th></th><th></th><th></th><th></th><th></th><th></th><th></th><th></th><th></th><th></th><th></th><th></th><th></th><th></th><th></th><th></th><th></th><th></th><th></th><th></th><th></th><th></th><th></th><th></th><th></th><th></th><th></th><th></th><th></th><th></th><th></th><th></th><th></th><th></th><th></th><th></th><th></th><th></th><th></th><th></th><th></th><th></th><th></th><th></th><th>deg</th><th>0.001 arcsec</th><th>deg</th><th>0.001 arcsec</th><th>0.001 arcsec</th><th>0.001 arcsec</th><th></th><th>0.001 arcsec / yr</th><th>0.001 arcsec / yr</th><th>0.001 arcsec / yr</th><th>0.001 arcsec / yr</th><th></th><th></th><th></th><th></th><th></th><th></th><th></th><th></th><th></th><th></th><th></th><th></th><th></th><th></th><th></th><th></th><th>mas</th><th></th><th></th><th></th><th>1 / mas2</th><th>1 / um</th><th>1 / um</th><th></th><th></th><th></th><th>mas</th><th></th><th></th><th></th><th></th><th>ph / s</th><th>ph / s</th><th></th><th>mag</th><th></th><th>ph / s</th><th>ph / s</th><th></th><th>mag</th><th></th><th>ph / s</th><th>ph / s</th><th></th><th>mag</th><th></th><th></th><th>mag</th><th>mag</th><th>mag</th><th>km / s</th><th>km / s</th><th></th><th>K</th><th></th><th></th><th></th><th>deg</th><th>deg</th><th>deg</th><th>deg</th><th></th><th>K</th><th>K</th><th>K</th><th>mag</th><th>mag</th><th>mag</th><th>mag</th><th>mag</th><th>mag</th><th></th><th>solRad</th><th>solRad</th><th>solRad</th><th>solLum</th><th>solLum</th><th>solLum</th><th></th><th></th><th>deg</th><th>deg</th><th>pc</th><th>pc</th><th>pc</th><th>pc</th><th></th><th></th><th></th><th></th><th>K</th><th>K</th><th>K</th><th></th><th></th><th></th><th></th><th></th><th></th><th></th><th></th><th></th><th>solRad</th><th>solRad</th><th>solRad</th><th>solMass</th><th>solMass</th><th>solMass</th><th></th><th></th><th></th><th></th><th>mag</th><th>mag</th><th>mag</th><th></th><th>arcsec</th></tr></thead>\n",
       "<thead><tr><th>int64</th><th>str9</th><th>str13</th><th>str14</th><th>str6</th><th>str10</th><th>str14</th><th>float64</th><th>int64</th><th>int64</th><th>int64</th><th>int64</th><th>str19</th><th>str167</th><th>float64</th><th>float64</th><th>float64</th><th>float64</th><th>float64</th><th>float64</th><th>float64</th><th>float64</th><th>float64</th><th>int64</th><th>bool</th><th>bool</th><th>bool</th><th>bool</th><th>bool</th><th>float64</th><th>float64</th><th>float64</th><th>float64</th><th>float64</th><th>float64</th><th>bool</th><th>bool</th><th>bool</th><th>float64</th><th>float64</th><th>float64</th><th>float64</th><th>float64</th><th>float64</th><th>float64</th><th>float64</th><th>float64</th><th>str7</th><th>float64</th><th>float64</th><th>float64</th><th>float64</th><th>bool</th><th>bool</th><th>float64</th><th>bool</th><th>bool</th><th>float64</th><th>bool</th><th>bool</th><th>float64</th><th>float64</th><th>float64</th><th>float64</th><th>float64</th><th>float64</th><th>str33</th><th>float64</th><th>float64</th><th>float64</th><th>float64</th><th>str15</th><th>float64</th><th>float64</th><th>float64</th><th>int64</th><th>int64</th><th>int64</th><th>str15</th><th>float64</th><th>float64</th><th>str34</th><th>bool</th><th>bool</th><th>str60</th><th>str64</th><th>float64</th><th>float64</th><th>float64</th><th>float64</th><th>float64</th><th>float64</th><th>float64</th><th>float64</th><th>float64</th><th>float64</th><th>float64</th><th>float64</th><th>float64</th><th>float64</th><th>float64</th><th>bool</th><th>bool</th><th>bool</th><th>str19</th><th>float64</th><th>float64</th><th>float64</th><th>float64</th><th>float64</th><th>float64</th><th>float64</th><th>float64</th><th>float64</th><th>float64</th><th>float64</th><th>float64</th><th>float64</th><th>float64</th><th>float64</th><th>float64</th><th>float64</th><th>float64</th><th>float64</th><th>float64</th><th>float64</th><th>float64</th><th>float64</th><th>float64</th><th>float64</th><th>float64</th><th>float64</th><th>float64</th><th>float64</th><th>float64</th><th>float64</th><th>float64</th><th>float64</th><th>float64</th><th>float64</th><th>int64</th><th>bytes28</th><th>int64</th><th>int64</th><th>float64</th><th>float64</th><th>float64</th><th>float64</th><th>float64</th><th>float64</th><th>float64</th><th>float32</th><th>float64</th><th>float64</th><th>float64</th><th>float64</th><th>float32</th><th>float32</th><th>float32</th><th>float32</th><th>float32</th><th>float32</th><th>float32</th><th>float32</th><th>float32</th><th>float32</th><th>int32</th><th>int32</th><th>int32</th><th>int32</th><th>float32</th><th>float32</th><th>float64</th><th>float64</th><th>int16</th><th>bool</th><th>float32</th><th>float64</th><th>float64</th><th>float32</th><th>int16</th><th>int16</th><th>float32</th><th>int32</th><th>int16</th><th>bool</th><th>int32</th><th>float64</th><th>float64</th><th>float32</th><th>float32</th><th>int32</th><th>float64</th><th>float64</th><th>float32</th><th>float32</th><th>int32</th><th>float64</th><th>float64</th><th>float32</th><th>float32</th><th>float32</th><th>int16</th><th>float32</th><th>float32</th><th>float32</th><th>float64</th><th>float64</th><th>int32</th><th>float32</th><th>float32</th><th>float32</th><th>bytes13</th><th>float64</th><th>float64</th><th>float64</th><th>float64</th><th>int64</th><th>float32</th><th>float32</th><th>float32</th><th>float32</th><th>float32</th><th>float32</th><th>float32</th><th>float32</th><th>float32</th><th>int64</th><th>float32</th><th>float32</th><th>float32</th><th>float32</th><th>float32</th><th>float32</th><th>bytes77</th><th>bytes99</th><th>float64</th><th>float64</th><th>float64</th><th>float64</th><th>float64</th><th>float64</th><th>int16</th><th>int16</th><th>bytes25</th><th>float64</th><th>int64</th><th>int64</th><th>int64</th><th>bytes5</th><th>float64</th><th>float64</th><th>float64</th><th>bytes5</th><th>float64</th><th>float64</th><th>float64</th><th>bytes5</th><th>float64</th><th>float64</th><th>float64</th><th>float64</th><th>float64</th><th>float64</th><th>bytes6</th><th>int64</th><th>int64</th><th>int64</th><th>float64</th><th>float64</th><th>float64</th><th>bytes4</th><th>float64</th></tr></thead>\n",
       "<tr><td>5560830</td><td>K03879.01</td><td></td><td>FALSE POSITIVE</td><td>Active</td><td>2018-08-16</td><td>FALSE POSITIVE</td><td>0.0</td><td>1</td><td>0</td><td>1</td><td>1</td><td>q1_q17_dr25_sup_koi</td><td>MOD_NONUNIQ_ALT---CENT_RESOLVED_OFFSET---EPHEM_MATCH</td><td>0.867719291</td><td>9.78e-07</td><td>-9.78e-07</td><td>132.165597</td><td>0.000981</td><td>-0.000981</td><td>2454965.166</td><td>0.000981</td><td>-0.000981</td><td>0</td><td>False</td><td>False</td><td>False</td><td>False</td><td>False</td><td>1.27</td><td>0.15</td><td>-0.1</td><td>6.323</td><td>0.142</td><td>-0.142</td><td>False</td><td>False</td><td>False</td><td>2651.8</td><td>23.0</td><td>-23.0</td><td>0.327751</td><td>0.145117</td><td>-0.094807</td><td>0.06263</td><td>0.01983</td><td>-0.01408</td><td>LS+MCMC</td><td>37.79</td><td>11.67</td><td>-5.01</td><td>0.0179</td><td>False</td><td>False</td><td>20.52</td><td>False</td><td>False</td><td>2106.0</td><td>False</td><td>False</td><td>4662.2</td><td>4226.73</td><td>-1634.94</td><td>1.356</td><td>0.429</td><td>-0.429</td><td>Claret (2011 A&amp;A 529 75) ATLAS LS</td><td>0.0</td><td>0.0</td><td>0.3032</td><td>0.3147</td><td>q1_q17_dr25_koi</td><td>60.612396</td><td>467.77933</td><td>157.1</td><td>1</td><td>1545</td><td>1</td><td>q1_q17_dr25_tce</td><td>1.1111111111111112e+31</td><td>0.9743</td><td>Mandel and Agol (2002 ApJ 580 171)</td><td>False</td><td>False</td><td>005/005560/005560830/dv/kplr005560830-20160209194854_dvr.pdf</td><td>005/005560/005560830/dv/kplr005560830-001-20160209194854_dvs.pdf</td><td>6220.0</td><td>169.0</td><td>-225.0</td><td>4.398</td><td>0.09</td><td>-0.195</td><td>-0.22</td><td>0.25</td><td>-0.3</td><td>1.056</td><td>0.326</td><td>-0.14</td><td>1.013</td><td>0.158</td><td>-0.115</td><td>False</td><td>False</td><td>False</td><td>q1_q17_dr25_stellar</td><td>298.49451</td><td>40.733608</td><td>14.445</td><td>14.889</td><td>14.4</td><td>14.255</td><td>14.182</td><td>13.272</td><td>13.009</td><td>12.971</td><td>nan</td><td>19.8995587</td><td>3.5e-06</td><td>40.707643</td><td>4.5e-05</td><td>-3.08</td><td>0.14</td><td>-93.48</td><td>0.16</td><td>nan</td><td>nan</td><td>nan</td><td>nan</td><td>-0.024</td><td>0.082</td><td>-6.55</td><td>0.16</td><td>6.55</td><td>0.16</td><td>0.139</td><td>0.067</td><td>-7.297</td><td>0.073</td><td>7.298</td><td>0.073</td><td>1635721458409799680</td><td>Gaia DR2 2073803007312737152</td><td>2073803007312737152</td><td>575918006</td><td>2015.5</td><td>298.4945070901982</td><td>0.016889531290653494</td><td>40.73361122683953</td><td>0.021546977395641865</td><td>0.8467927271936462</td><td>0.02250089759011225</td><td>37.63373</td><td>0.0003241863263653347</td><td>0.03623941505667526</td><td>-0.05999937433118367</td><td>0.03878003755684728</td><td>-0.012972726</td><td>0.0028498746</td><td>-0.13441588</td><td>-0.024713036</td><td>0.3550514</td><td>-0.0864592</td><td>-0.30058855</td><td>-0.18531837</td><td>-0.078758255</td><td>-0.03527121</td><td>203</td><td>0</td><td>203</td><td>0</td><td>-2.4763885</td><td>152.13582</td><td>0.0</td><td>0.0</td><td>31</td><td>False</td><td>40.992023</td><td>1.5873160985863224</td><td>0.005521366297841017</td><td>0.10033566</td><td>23</td><td>16</td><td>0.04585838</td><td>0</td><td>27</td><td>False</td><td>234</td><td>32062.827456968684</td><td>8.583044176671029</td><td>3735.6008</td><td>14.423361</td><td>24</td><td>17067.07757410117</td><td>24.839586596111644</td><td>687.09186</td><td>14.77099</td><td>25</td><td>21996.965675556665</td><td>17.84239284984704</td><td>1232.8484</td><td>13.9060135</td><td>1.2183592</td><td>0</td><td>0.8649769</td><td>0.34762955</td><td>0.51734734</td><td>nan</td><td>nan</td><td>0</td><td>nan</td><td>nan</td><td>nan</td><td>NOT_AVAILABLE</td><td>75.65382507099628</td><td>6.649490261244408</td><td>315.8087938234945</td><td>59.72322808808538</td><td>100001</td><td>5625.425</td><td>5392.4927</td><td>5815.9937</td><td>0.39</td><td>0.286</td><td>0.69</td><td>0.194</td><td>0.1356</td><td>0.3698</td><td>200111</td><td>1.4065921</td><td>1.3159246</td><td>1.530734</td><td>1.7850583</td><td>1.6607016</td><td>1.9094149</td><td>http://geadata.esac.esa.int/data-server/datalink/links?ID=2073803007312737152</td><td></td><td>298.49451</td><td>40.733608</td><td>1142.93645613976</td><td>1114.04967148769</td><td>1173.33263632061</td><td>2176.49907492144</td><td>1</td><td>1</td><td>2MASS J19535868+4044010</td><td>14.445</td><td>6220</td><td>169</td><td>-225</td><td>PHO1</td><td>4.398</td><td>0.09</td><td>-0.195</td><td>KIC0</td><td>-0.22</td><td>0.25</td><td>-0.3</td><td>KIC0</td><td>1.056</td><td>0.326</td><td>-0.14</td><td>1.013</td><td>0.158</td><td>-0.115</td><td>DSEP</td><td>0</td><td>1</td><td>1</td><td>13.272</td><td>13.009</td><td>12.971</td><td>cand</td><td>0.014849371149218004</td></tr>\n",
       "<tr><td>6531801</td><td>K06727.01</td><td></td><td>FALSE POSITIVE</td><td>Active</td><td>2018-08-16</td><td>FALSE POSITIVE</td><td>nan</td><td>1</td><td>0</td><td>0</td><td>0</td><td>q1_q17_dr25_sup_koi</td><td>LPP_ALT_TOO_HIGH---EYEBALL---INVERT_DIFF</td><td>0.515875396</td><td>1.393e-06</td><td>-1.393e-06</td><td>131.7013</td><td>0.00203</td><td>-0.00203</td><td>2454964.701</td><td>0.00203</td><td>-0.00203</td><td>0</td><td>False</td><td>False</td><td>False</td><td>False</td><td>False</td><td>0.95</td><td>0.008</td><td>-0.0073</td><td>1.21</td><td>1.7</td><td>-1.7</td><td>False</td><td>False</td><td>False</td><td>1773.0</td><td>218.0</td><td>-218.0</td><td>0.047936</td><td>0.001806</td><td>-0.001353</td><td>0.0715</td><td>0.00184</td><td>-0.00172</td><td>MCMC</td><td>7.22</td><td>4.59</td><td>-1.07</td><td>0.0138</td><td>False</td><td>False</td><td>18.33</td><td>False</td><td>False</td><td>3189.0</td><td>False</td><td>False</td><td>24441.1</td><td>50553.64</td><td>-9657.3</td><td>1.0019</td><td>0.0258</td><td>-0.0258</td><td>Claret (2011 A&amp;A 529 75) ATLAS LS</td><td>0.0</td><td>0.0</td><td>0.3283</td><td>0.2407</td><td>q1_q17_dr24_koi</td><td>3.3716674</td><td>7.809862</td><td>9.1</td><td>1</td><td>1203</td><td>3</td><td>q1_q17_dr24_tce</td><td>1.1111111111111112e+31</td><td>nan</td><td>Mandel and Agol (2002 ApJ 580 171)</td><td>False</td><td>False</td><td>006/006531/006531801/dv/kplr006531801-20141002224145_dvr.pdf</td><td>006/006531/006531801/dv/kplr006531801-003-20141002224145_dvs.pdf</td><td>7229.0</td><td>254.0</td><td>-320.0</td><td>4.278</td><td>0.087</td><td>-0.087</td><td>-0.34</td><td>0.26</td><td>-0.38</td><td>1.38</td><td>0.876</td><td>-0.205</td><td>1.32</td><td>0.31</td><td>-0.223</td><td>False</td><td>False</td><td>False</td><td>stellar_q1_q17</td><td>294.67725</td><td>41.90464</td><td>13.591</td><td>13.764</td><td>13.534</td><td>13.491</td><td>13.515</td><td>12.746</td><td>12.581</td><td>12.516</td><td>0.001</td><td>19.6451162</td><td>4.8e-06</td><td>41.904697</td><td>3.2e-05</td><td>-1.39</td><td>0.19</td><td>0.2</td><td>0.12</td><td>5e-05</td><td>3e-05</td><td>1.7e-05</td><td>1.9e-05</td><td>0.54</td><td>0.32</td><td>-0.15</td><td>0.55</td><td>0.56</td><td>0.43</td><td>0.08</td><td>0.31</td><td>-0.02</td><td>0.57</td><td>0.08</td><td>0.57</td><td>1635721458409799680</td><td>Gaia DR2 2077486817935687296</td><td>2077486817935687296</td><td>925834077</td><td>2015.5</td><td>294.6772509397667</td><td>0.013261968080755006</td><td>41.90462698491369</td><td>0.016781470022726674</td><td>0.7652344611289594</td><td>0.01757352961173173</td><td>43.544724</td><td>0.04078545276934156</td><td>0.028187234931298856</td><td>-0.09711642769175226</td><td>0.03242770835021134</td><td>-0.085374996</td><td>0.0013201422</td><td>0.012878025</td><td>-0.12669647</td><td>0.29341584</td><td>-0.1980464</td><td>-0.114534594</td><td>-0.27373788</td><td>0.019188195</td><td>-0.09328702</td><td>202</td><td>0</td><td>202</td><td>0</td><td>-2.0151925</td><td>159.06705</td><td>0.0</td><td>0.0</td><td>31</td><td>True</td><td>90.31561</td><td>1.6556843035459579</td><td>0.003836360356141918</td><td>-0.0054302947</td><td>23</td><td>15</td><td>0.04086593</td><td>0</td><td>26</td><td>False</td><td>228</td><td>73243.222382278</td><td>18.130172368401055</td><td>4039.8525</td><td>13.526447</td><td>24</td><td>43864.130517524645</td><td>41.081582833985344</td><td>1067.7323</td><td>13.746115</td><td>25</td><td>43770.99507701469</td><td>28.57135647970869</td><td>1531.9886</td><td>13.158954</td><td>1.1964947</td><td>0</td><td>0.58716106</td><td>0.21966743</td><td>0.36749363</td><td>nan</td><td>nan</td><td>0</td><td>nan</td><td>nan</td><td>nan</td><td>NOT_AVAILABLE</td><td>75.27712479894394</td><td>9.723458638081498</td><td>311.2109999703619</td><td>61.85919293076448</td><td>100001</td><td>7012.64</td><td>6799.0</td><td>7274.0</td><td>nan</td><td>nan</td><td>nan</td><td>nan</td><td>nan</td><td>nan</td><td>200111</td><td>1.492985</td><td>1.3876245</td><td>1.5882851</td><td>4.856594</td><td>4.540511</td><td>5.172677</td><td>http://geadata.esac.esa.int/data-server/datalink/links?ID=2077486817935687296</td><td></td><td>294.67725</td><td>41.90464</td><td>1259.82888140177</td><td>1232.3272794951</td><td>1288.56268352147</td><td>1621.58264791655</td><td>1</td><td>1</td><td>2MASS J19384254+4154167</td><td>13.591</td><td>7273</td><td>228</td><td>-304</td><td>PHO1</td><td>4.34</td><td>0.058</td><td>-0.217</td><td>KIC0</td><td>-0.32</td><td>0.25</td><td>-0.35</td><td>KIC0</td><td>1.266</td><td>0.461</td><td>-0.123</td><td>1.302</td><td>0.218</td><td>-0.158</td><td>DSEP</td><td>0</td><td>1</td><td>2</td><td>12.746</td><td>12.581</td><td>12.516</td><td>cand</td><td>0.04538819749643305</td></tr>\n",
       "<tr><td>10485250</td><td>K00745.01</td><td></td><td>FALSE POSITIVE</td><td>Active</td><td>2018-08-16</td><td>FALSE POSITIVE</td><td>0.0</td><td>0</td><td>1</td><td>0</td><td>0</td><td>q1_q17_dr25_sup_koi</td><td>MOD_SEC_DV---HAS_SEC_TCE</td><td>16.46983774</td><td>1.361e-05</td><td>-1.361e-05</td><td>180.881761</td><td>0.000623</td><td>-0.000623</td><td>2455013.882</td><td>0.000623</td><td>-0.000623</td><td>0</td><td>False</td><td>False</td><td>False</td><td>False</td><td>False</td><td>0.292</td><td>0.118</td><td>-0.101</td><td>9.4378</td><td>0.06</td><td>-0.06</td><td>False</td><td>False</td><td>False</td><td>10479.0</td><td>39.9</td><td>-39.9</td><td>0.092509</td><td>0.000598</td><td>-0.001109</td><td>0.19353</td><td>0.02009</td><td>-0.01907</td><td>LS+MCMC</td><td>7.94</td><td>0.89</td><td>-0.89</td><td>0.1147</td><td>False</td><td>False</td><td>88.81</td><td>False</td><td>False</td><td>595.0</td><td>False</td><td>False</td><td>29.61</td><td>12.01</td><td>-8.91</td><td>14.05</td><td>1.5</td><td>-1.5</td><td>Claret (2011 A&amp;A 529 75) ATLAS LS</td><td>0.0</td><td>0.0</td><td>0.2075</td><td>0.49</td><td>q1_q17_dr25_koi</td><td>43.1625</td><td>258.8247</td><td>303.4</td><td>1</td><td>66</td><td>1</td><td>q1_q17_dr25_tce</td><td>1.111101110111011e+30</td><td>0.0112</td><td>Mandel and Agol (2002 ApJ 580 171)</td><td>False</td><td>False</td><td>010/010485/010485250/dv/kplr010485250-20160209194854_dvr.pdf</td><td>010/010485/010485250/dv/kplr010485250-001-20160209194854_dvs.pdf</td><td>5152.0</td><td>168.0</td><td>-153.0</td><td>4.517</td><td>0.088</td><td>-0.072</td><td>-0.2</td><td>0.3</td><td>-0.3</td><td>0.786</td><td>0.088</td><td>-0.088</td><td>0.741</td><td>0.106</td><td>-0.057</td><td>False</td><td>False</td><td>False</td><td>q1_q17_dr25_stellar</td><td>297.15442</td><td>47.668701</td><td>15.788</td><td>16.529</td><td>15.724</td><td>15.47</td><td>15.29</td><td>14.176</td><td>13.688</td><td>13.555</td><td>0.0</td><td>19.81029277</td><td>8.7e-07</td><td>47.6686305</td><td>9.5e-06</td><td>-0.092</td><td>0.032</td><td>-0.25</td><td>0.034</td><td>0.0007</td><td>0.0013</td><td>0.0008</td><td>0.0019</td><td>-0.04</td><td>0.068</td><td>-0.004</td><td>0.067</td><td>0.04</td><td>0.068</td><td>0.017</td><td>0.07</td><td>0.001</td><td>0.072</td><td>0.017</td><td>0.071</td><td>1635721458409799680</td><td>Gaia DR2 2086396916570135296</td><td>2086396916570135296</td><td>1462556772</td><td>2015.5</td><td>297.1544333281853</td><td>0.030578354368294924</td><td>47.668672982185505</td><td>0.03535901404138879</td><td>0.23720700578040468</td><td>0.037752763942878347</td><td>6.2831693</td><td>-0.047994235733112595</td><td>0.06763934180141974</td><td>-0.3240390557459085</td><td>0.06584708855118436</td><td>-0.018126253</td><td>0.023253199</td><td>-0.079835825</td><td>-0.052089494</td><td>0.3525387</td><td>-0.14328387</td><td>-0.26922792</td><td>-0.25853333</td><td>-0.052069116</td><td>-0.0036529487</td><td>199</td><td>0</td><td>199</td><td>0</td><td>-1.3535063</td><td>167.93542</td><td>0.0</td><td>0.0</td><td>31</td><td>False</td><td>10.1904545</td><td>1.487501130403095</td><td>0.010049679789349012</td><td>0.037909888</td><td>23</td><td>16</td><td>0.06975038</td><td>0</td><td>25</td><td>False</td><td>215</td><td>8597.038426286665</td><td>11.754784632957415</td><td>731.36505</td><td>15.852493</td><td>20</td><td>3728.5332381567614</td><td>18.612010876884497</td><td>200.3294</td><td>16.422543</td><td>21</td><td>6991.171538714624</td><td>28.535334985907237</td><td>245.0005</td><td>15.150545</td><td>1.2469066</td><td>0</td><td>1.2719975</td><td>0.5700493</td><td>0.70194817</td><td>nan</td><td>nan</td><td>0</td><td>nan</td><td>nan</td><td>nan</td><td>NOT_AVAILABLE</td><td>81.28355090599608</td><td>10.900758825246209</td><td>320.2418870509478</td><td>66.4347796884994</td><td>100001</td><td>5031.75</td><td>4897.355</td><td>5111.0</td><td>nan</td><td>nan</td><td>nan</td><td>nan</td><td>nan</td><td>nan</td><td>-9223372036854775808</td><td>nan</td><td>nan</td><td>nan</td><td>nan</td><td>nan</td><td>nan</td><td>http://geadata.esac.esa.int/data-server/datalink/links?ID=2086396916570135296</td><td></td><td>297.15442</td><td>47.668701</td><td>3698.96891413547</td><td>3234.17842059923</td><td>4308.39703458885</td><td>1328.17051752488</td><td>1</td><td>1</td><td>2MASS J19483706+4740073</td><td>15.788</td><td>5152</td><td>168</td><td>-153</td><td>PHO1</td><td>4.517</td><td>0.088</td><td>-0.072</td><td>KIC0</td><td>-0.2</td><td>0.3</td><td>-0.3</td><td>KIC0</td><td>0.786</td><td>0.088</td><td>-0.088</td><td>0.741</td><td>0.106</td><td>-0.057</td><td>DSEP</td><td>0</td><td>1</td><td>2</td><td>14.176</td><td>13.688</td><td>13.555</td><td>cand</td><td>0.10138175170105579</td></tr>\n",
       "</table>"
      ],
      "text/plain": [
       "<Table masked=True length=3>\n",
       " kepid   kepoi_name kepler_name ...   kmag  planet? kepler_gaia_ang_dist\n",
       "                                ...   mag                  arcsec       \n",
       " int64      str9       str13    ... float64  bytes4       float64       \n",
       "-------- ---------- ----------- ... ------- ------- --------------------\n",
       " 5560830  K03879.01             ...  12.971    cand 0.014849371149218004\n",
       " 6531801  K06727.01             ...  12.516    cand  0.04538819749643305\n",
       "10485250  K00745.01             ...  13.555    cand  0.10138175170105579"
      ]
     },
     "execution_count": 27,
     "metadata": {},
     "output_type": "execute_result"
    }
   ],
   "source": [
    "# Cut these?\n",
    "nonzero_pm = (np.sqrt(hosts['pmra']**2 + \n",
    "                      hosts['pmdec']**2)/np.sqrt(hosts['pmra_error']**2 + \n",
    "                      hosts['pmdec_error']**2) > 5.) \n",
    "#hosts = hosts[nonzero_pm]\n",
    "#print(\"{0} sources cut for zero proper motion.\".format(np.sum(~nonzero_pm)))\n",
    "hosts[~nonzero_pm]"
   ]
  },
  {
   "cell_type": "code",
   "execution_count": 28,
   "metadata": {},
   "outputs": [
    {
     "name": "stdout",
     "output_type": "stream",
     "text": [
      "In total, 1471 of 1699 Kepler host star candidates have good Gaia DR2 counterparts.\n"
     ]
    }
   ],
   "source": [
    "print(\"In total, {0} of {1} Kepler host star candidates have good Gaia DR2 counterparts.\".format(len(hosts),\n",
    "                                                                                                len(kepler_hosts)))"
   ]
  },
  {
   "cell_type": "code",
   "execution_count": 29,
   "metadata": {},
   "outputs": [],
   "source": [
    "hosts.write('kepler_host_matches.fits', overwrite=True)"
   ]
  },
  {
   "cell_type": "code",
   "execution_count": null,
   "metadata": {},
   "outputs": [],
   "source": []
  }
 ],
 "metadata": {
  "kernelspec": {
   "display_name": "Python 3",
   "language": "python",
   "name": "python3"
  },
  "language_info": {
   "codemirror_mode": {
    "name": "ipython",
    "version": 3
   },
   "file_extension": ".py",
   "mimetype": "text/x-python",
   "name": "python",
   "nbconvert_exporter": "python",
   "pygments_lexer": "ipython3",
   "version": "3.7.1"
  }
 },
 "nbformat": 4,
 "nbformat_minor": 2
}
