{
 "cells": [
  {
   "cell_type": "code",
   "execution_count": 5,
   "metadata": {},
   "outputs": [],
   "source": [
    "import numpy as np\n",
    "import matplotlib.pyplot as plt\n",
    "import pandas as pd\n",
    "from astropy.io import fits\n",
    "from astropy.table import Table\n",
    "from utils import plot_xs"
   ]
  },
  {
   "cell_type": "code",
   "execution_count": 53,
   "metadata": {},
   "outputs": [],
   "source": [
    "matches_table = np.genfromtxt('matches.csv', delimiter=',', names=True, dtype=None, encoding=None)\n",
    "matched = np.genfromtxt('matched_all.txt', dtype=None, delimiter=',', encoding=None)"
   ]
  },
  {
   "cell_type": "code",
   "execution_count": 63,
   "metadata": {},
   "outputs": [],
   "source": [
    "mask = (matches_table['chisq'] < 10.) & (matched['f6'] < 4./60.) & (matched['f4'] == 2)"
   ]
  },
  {
   "cell_type": "code",
   "execution_count": 64,
   "metadata": {},
   "outputs": [
    {
     "data": {
      "text/plain": [
       "46"
      ]
     },
     "execution_count": 64,
     "metadata": {},
     "output_type": "execute_result"
    }
   ],
   "source": [
    "np.sum(mask)"
   ]
  },
  {
   "cell_type": "code",
   "execution_count": 65,
   "metadata": {},
   "outputs": [],
   "source": [
    "kepid1, kepid2 = np.genfromtxt('both_kics.txt', unpack=True, dtype=None, encoding=None)\n",
    "kepid1, kepid2 = kepid1[mask], kepid2[mask]\n",
    "prot1, prot2 = np.zeros(len(kepid1)), np.zeros(len(kepid1))"
   ]
  },
  {
   "cell_type": "code",
   "execution_count": 74,
   "metadata": {},
   "outputs": [],
   "source": [
    "np.savetxt('good_kic_matches.txt', np.array([kepid1, kepid2]).T, fmt='%10i')"
   ]
  },
  {
   "cell_type": "code",
   "execution_count": 66,
   "metadata": {},
   "outputs": [],
   "source": [
    "hdul = fits.open('../mcquillan.fit')\n",
    "mcquillan = Table(hdul[1].data)"
   ]
  },
  {
   "cell_type": "code",
   "execution_count": 67,
   "metadata": {},
   "outputs": [],
   "source": [
    "for i, (k1, k2) in enumerate(zip(kepid1, kepid2)):\n",
    "    ind1 = np.where(mcquillan['KIC'] == k1)[0]\n",
    "    if len(ind1) == 1:\n",
    "        prot1[i] = mcquillan[ind1]['Prot']\n",
    "    ind2 = np.where(mcquillan['KIC'] == k2)[0]\n",
    "    if len(ind2) == 1:\n",
    "        prot2[i] = mcquillan[ind2]['Prot']"
   ]
  },
  {
   "cell_type": "code",
   "execution_count": 75,
   "metadata": {},
   "outputs": [
    {
     "data": {
      "text/plain": [
       "11"
      ]
     },
     "execution_count": 75,
     "metadata": {},
     "output_type": "execute_result"
    }
   ],
   "source": [
    "np.sum((kepid1 - kepid2) == 0)"
   ]
  },
  {
   "cell_type": "code",
   "execution_count": null,
   "metadata": {},
   "outputs": [],
   "source": []
  }
 ],
 "metadata": {
  "kernelspec": {
   "display_name": "Python 3",
   "language": "python",
   "name": "python3"
  },
  "language_info": {
   "codemirror_mode": {
    "name": "ipython",
    "version": 3
   },
   "file_extension": ".py",
   "mimetype": "text/x-python",
   "name": "python",
   "nbconvert_exporter": "python",
   "pygments_lexer": "ipython3",
   "version": "3.6.0"
  }
 },
 "nbformat": 4,
 "nbformat_minor": 2
}
