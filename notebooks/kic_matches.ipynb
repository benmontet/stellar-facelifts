{
 "cells": [
  {
   "cell_type": "code",
   "execution_count": 9,
   "metadata": {},
   "outputs": [],
   "source": [
    "import numpy as np\n",
    "import matplotlib.pyplot as plt\n",
    "import pandas as pd\n",
    "from astropy.io import fits\n",
    "from astropy.table import Table, join\n",
    "from utils import plot_xs"
   ]
  },
  {
   "cell_type": "code",
   "execution_count": 19,
   "metadata": {},
   "outputs": [],
   "source": [
    "matches_table = Table(np.genfromtxt('good_matches.csv', delimiter=',', \n",
    "                                    names=True, dtype=None, encoding=None))\n",
    "matches_table['source_id'] = matches_table['gaia_id_match'].astype(int)"
   ]
  },
  {
   "cell_type": "code",
   "execution_count": 22,
   "metadata": {},
   "outputs": [],
   "source": [
    "gaia_table = Table.read('../kepler_dr2_1arcsec.fits', format='fits')\n",
    "kepler_gaia_table = gaia_table['source_id','kepid']"
   ]
  },
  {
   "cell_type": "code",
   "execution_count": 28,
   "metadata": {},
   "outputs": [],
   "source": [
    "kepler_matches = join(matches_table, kepler_gaia_table, keys=['source_id'], join_type='left')"
   ]
  },
  {
   "cell_type": "code",
   "execution_count": 35,
   "metadata": {},
   "outputs": [],
   "source": [
    "kic_inds = (~kepler_matches['kepid'].mask)\n",
    "kepid2 = kepler_matches['kepid'][kic_inds]\n",
    "kepid1 = kepler_matches['kic_primary'][kic_inds]"
   ]
  },
  {
   "cell_type": "code",
   "execution_count": 36,
   "metadata": {},
   "outputs": [],
   "source": [
    "np.savetxt('good_matches_both_kics.txt', np.array([kepid1, kepid2]).T, fmt='%10i')"
   ]
  },
  {
   "cell_type": "code",
   "execution_count": 37,
   "metadata": {},
   "outputs": [],
   "source": [
    "hdul = fits.open('../mcquillan.fit')\n",
    "mcquillan = Table(hdul[1].data)"
   ]
  },
  {
   "cell_type": "code",
   "execution_count": 42,
   "metadata": {},
   "outputs": [],
   "source": [
    "prot1 = np.zeros(len(kepid1), dtype=np.float64)\n",
    "prot2 = np.zeros_like(prot1)\n",
    "\n",
    "for i, (k1, k2) in enumerate(zip(kepid1, kepid2)):\n",
    "    ind1 = np.where(mcquillan['KIC'] == k1)[0]\n",
    "    if len(ind1) == 1:\n",
    "        prot1[i] = mcquillan[ind1]['Prot']\n",
    "    ind2 = np.where(mcquillan['KIC'] == k2)[0]\n",
    "    if len(ind2) == 1:\n",
    "        prot2[i] = mcquillan[ind2]['Prot']"
   ]
  },
  {
   "cell_type": "code",
   "execution_count": 43,
   "metadata": {},
   "outputs": [
    {
     "name": "stdout",
     "output_type": "stream",
     "text": [
      "[0. 0. 0.]\n"
     ]
    }
   ],
   "source": [
    "print(prot1)"
   ]
  },
  {
   "cell_type": "code",
   "execution_count": 44,
   "metadata": {},
   "outputs": [
    {
     "name": "stdout",
     "output_type": "stream",
     "text": [
      "[ 0.     0.    18.625]\n"
     ]
    }
   ],
   "source": [
    "print(prot2)"
   ]
  },
  {
   "cell_type": "markdown",
   "metadata": {},
   "source": [
    "And again for K2..."
   ]
  },
  {
   "cell_type": "code",
   "execution_count": 45,
   "metadata": {},
   "outputs": [],
   "source": [
    "matches_table = Table(np.genfromtxt('good_matches_k2.csv', delimiter=',', \n",
    "                                    names=True, dtype=None, encoding=None))\n",
    "matches_table['source_id'] = matches_table['gaia_id_match'].astype(int)"
   ]
  },
  {
   "cell_type": "code",
   "execution_count": 48,
   "metadata": {},
   "outputs": [],
   "source": [
    "gaia_table = Table.read('../k2_dr2_1arcsec.fits', format='fits')\n",
    "k2_gaia_table = gaia_table['source_id','epic_number']"
   ]
  },
  {
   "cell_type": "code",
   "execution_count": 49,
   "metadata": {},
   "outputs": [],
   "source": [
    "k2_matches = join(matches_table, k2_gaia_table, keys=['source_id'], join_type='left')"
   ]
  },
  {
   "cell_type": "code",
   "execution_count": 51,
   "metadata": {},
   "outputs": [],
   "source": [
    "inds = (~k2_matches['epic_number'].mask)\n",
    "epic2 = k2_matches['epic_number'][inds]\n",
    "epic1 = k2_matches['epic_primary'][inds]"
   ]
  },
  {
   "cell_type": "code",
   "execution_count": 53,
   "metadata": {},
   "outputs": [
    {
     "name": "stdout",
     "output_type": "stream",
     "text": [
      "epic_primary\n",
      "------------\n"
     ]
    }
   ],
   "source": [
    "print(epic1)"
   ]
  },
  {
   "cell_type": "code",
   "execution_count": null,
   "metadata": {},
   "outputs": [],
   "source": []
  }
 ],
 "metadata": {
  "kernelspec": {
   "display_name": "Python 3",
   "language": "python",
   "name": "python3"
  },
  "language_info": {
   "codemirror_mode": {
    "name": "ipython",
    "version": 3
   },
   "file_extension": ".py",
   "mimetype": "text/x-python",
   "name": "python",
   "nbconvert_exporter": "python",
   "pygments_lexer": "ipython3",
   "version": "3.6.0"
  }
 },
 "nbformat": 4,
 "nbformat_minor": 2
}
