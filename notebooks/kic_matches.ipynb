{
 "cells": [
  {
   "cell_type": "code",
   "execution_count": 1,
   "metadata": {},
   "outputs": [],
   "source": [
    "import numpy as np\n",
    "import matplotlib.pyplot as plt\n",
    "import pandas as pd\n",
    "from astropy.io import fits\n",
    "from astropy.table import Table, join, Column\n",
    "from utils import plot_xs\n",
    "import astropy.coordinates as coord\n",
    "from astropy import units as u"
   ]
  },
  {
   "cell_type": "code",
   "execution_count": 2,
   "metadata": {},
   "outputs": [],
   "source": [
    "matches_table = Table(np.genfromtxt('good_matches.csv', delimiter=',', \n",
    "                                    names=True, dtype=None, encoding=None))\n",
    "matches_table['source_id'] = matches_table['gaia_id_match'].astype(int)"
   ]
  },
  {
   "cell_type": "code",
   "execution_count": 3,
   "metadata": {},
   "outputs": [],
   "source": [
    "gaia_table = Table.read('../kepler_dr2_1arcsec.fits', format='fits')\n",
    "kepler_gaia_table = gaia_table['source_id','kepid']"
   ]
  },
  {
   "cell_type": "code",
   "execution_count": 4,
   "metadata": {},
   "outputs": [],
   "source": [
    "kepler_matches = join(matches_table, kepler_gaia_table, keys=['source_id'], join_type='left')"
   ]
  },
  {
   "cell_type": "code",
   "execution_count": 5,
   "metadata": {},
   "outputs": [],
   "source": [
    "kic_inds = (~kepler_matches['kepid'].mask)\n",
    "kepid2 = kepler_matches['kepid'][kic_inds]\n",
    "kepid1 = kepler_matches['kic_primary'][kic_inds]"
   ]
  },
  {
   "cell_type": "code",
   "execution_count": 6,
   "metadata": {},
   "outputs": [
    {
     "data": {
      "text/html": [
       "<i>Table masked=True length=3</i>\n",
       "<table id=\"table4546564840\" class=\"table-striped table-bordered table-condensed\">\n",
       "<thead><tr><th>kic_primary</th><th>gaia_id_primary</th><th>gaia_id_match</th><th>ra_match_keptime</th><th>dec_match_keptime</th><th>ra_match_gaia</th><th>dec_match_gaia</th><th>gaiamag_match</th><th>chisq</th><th>chisq_zeropm_match</th><th>chisq_zeropm_primary</th><th>dec_primary_gaia</th><th>dec_primary_kep</th><th>ra_primary_gaia</th><th>ra_primary_kep</th><th>source_id</th><th>kepid</th></tr></thead>\n",
       "<thead><tr><th>float64</th><th>float64</th><th>float64</th><th>float64</th><th>float64</th><th>float64</th><th>float64</th><th>float64</th><th>float64</th><th>float64</th><th>float64</th><th>float64</th><th>float64</th><th>float64</th><th>float64</th><th>int64</th><th>int64</th></tr></thead>\n",
       "<tr><td>5131276.0</td><td>2.073534863921029e+18</td><td>2.0735356198352604e+18</td><td>299.29628130819174</td><td>40.27002738688024</td><td>299.29627091371685</td><td>40.270008944266266</td><td>14.53629</td><td>0.8670341968536377</td><td>29.76190948486328</td><td>6331.67236328125</td><td>40.26533856957155</td><td>40.265339</td><td>299.3215039315961</td><td>299.32156</td><td>2073535619835260416</td><td>5131160</td></tr>\n",
       "<tr><td>6507433.0</td><td>2.103947252448389e+18</td><td>2.1039472524483886e+18</td><td>286.5073592932247</td><td>41.92210991955265</td><td>286.50735701664314</td><td>41.92212982155551</td><td>14.370059</td><td>8.577411651611328</td><td>18480.28125</td><td>8144.4765625</td><td>41.922764835056796</td><td>41.922741</td><td>286.5087685035134</td><td>286.50876</td><td>2103947252448388608</td><td>6507427</td></tr>\n",
       "<tr><td>10788461.0</td><td>2.1309915963587825e+18</td><td>2.1309915619990566e+18</td><td>288.17095664780254</td><td>48.17544117477617</td><td>288.1709288466962</td><td>48.175450338859456</td><td>14.138437</td><td>2.5897765159606934</td><td>56256.3984375</td><td>47187.3828125</td><td>48.16515295912267</td><td>48.16515</td><td>288.16243959171214</td><td>288.16251</td><td>2130991561999056640</td><td>10788476</td></tr>\n",
       "</table>"
      ],
      "text/plain": [
       "<Table masked=True length=3>\n",
       "kic_primary    gaia_id_primary     ...      source_id       kepid  \n",
       "  float64          float64         ...        int64         int64  \n",
       "----------- ---------------------- ... ------------------- --------\n",
       "  5131276.0  2.073534863921029e+18 ... 2073535619835260416  5131160\n",
       "  6507433.0  2.103947252448389e+18 ... 2103947252448388608  6507427\n",
       " 10788461.0 2.1309915963587825e+18 ... 2130991561999056640 10788476"
      ]
     },
     "execution_count": 6,
     "metadata": {},
     "output_type": "execute_result"
    }
   ],
   "source": [
    "kepler_matches[kic_inds]"
   ]
  },
  {
   "cell_type": "code",
   "execution_count": 7,
   "metadata": {},
   "outputs": [],
   "source": [
    "np.savetxt('good_matches_both_kics.txt', np.array([kepid1, kepid2]).T, fmt='%10i')"
   ]
  },
  {
   "cell_type": "code",
   "execution_count": 8,
   "metadata": {},
   "outputs": [],
   "source": [
    "hdul = fits.open('../mcquillan.fit')\n",
    "mcquillan = Table(hdul[1].data)"
   ]
  },
  {
   "cell_type": "code",
   "execution_count": 9,
   "metadata": {},
   "outputs": [],
   "source": [
    "prot1 = np.zeros(len(kepid1), dtype=np.float64)\n",
    "prot2 = np.zeros_like(prot1)\n",
    "\n",
    "for i, (k1, k2) in enumerate(zip(kepid1, kepid2)):\n",
    "    ind1 = np.where(mcquillan['KIC'] == k1)[0]\n",
    "    if len(ind1) == 1:\n",
    "        prot1[i] = mcquillan[ind1]['Prot']\n",
    "    ind2 = np.where(mcquillan['KIC'] == k2)[0]\n",
    "    if len(ind2) == 1:\n",
    "        prot2[i] = mcquillan[ind2]['Prot']"
   ]
  },
  {
   "cell_type": "code",
   "execution_count": 10,
   "metadata": {},
   "outputs": [
    {
     "name": "stdout",
     "output_type": "stream",
     "text": [
      "[0. 0. 0.]\n"
     ]
    }
   ],
   "source": [
    "print(prot1)"
   ]
  },
  {
   "cell_type": "code",
   "execution_count": 11,
   "metadata": {},
   "outputs": [
    {
     "name": "stdout",
     "output_type": "stream",
     "text": [
      "[ 0.     0.    18.625]\n"
     ]
    }
   ],
   "source": [
    "print(prot2)"
   ]
  },
  {
   "cell_type": "markdown",
   "metadata": {},
   "source": [
    "### pairs with secondary within 12\" of primary:"
   ]
  },
  {
   "cell_type": "code",
   "execution_count": 12,
   "metadata": {},
   "outputs": [],
   "source": [
    "primary_coords_kep = coord.SkyCoord(ra=matches_table['ra_primary_kep'] * u.degree, \n",
    "                          dec=matches_table['dec_primary_kep'] * u.degree) \n",
    "match_coords_kep = coord.SkyCoord(ra=matches_table['ra_match_keptime'] * u.degree, \n",
    "                          dec=matches_table['dec_match_keptime'] * u.degree) \n",
    "primary_coords_gaia = coord.SkyCoord(ra=matches_table['ra_primary_gaia'] * u.degree, \n",
    "                          dec=matches_table['dec_primary_gaia'] * u.degree) \n",
    "match_coords_gaia = coord.SkyCoord(ra=matches_table['ra_match_gaia'] * u.degree, \n",
    "                          dec=matches_table['dec_match_gaia'] * u.degree)  "
   ]
  },
  {
   "cell_type": "code",
   "execution_count": 13,
   "metadata": {},
   "outputs": [],
   "source": [
    "sep_kep = primary_coords_kep.separation(match_coords_kep)\n",
    "sep_gaia = primary_coords_gaia.separation(match_coords_gaia)\n",
    "mask = sep_kep < 12. * u.arcsec\n",
    "matches_table.remove_column('source_id')\n",
    "col1 = Column(data=sep_kep.arcsec, name='sep_keptime')\n",
    "matches_table.add_column(col1)\n",
    "col2 = Column(data=sep_gaia.arcsec, name='sep_gaia')\n",
    "matches_table.add_column(col2)\n",
    "matches_table[mask].write('good_matches_12arcsec.csv', format='csv', overwrite=True)"
   ]
  },
  {
   "cell_type": "code",
   "execution_count": 14,
   "metadata": {},
   "outputs": [
    {
     "data": {
      "text/plain": [
       "(array([ 46.,  85., 116., 170., 253., 299., 327., 388., 426., 448.]),\n",
       " array([  0.60784211,  12.54130648,  24.47477085,  36.40823522,\n",
       "         48.34169959,  60.27516396,  72.20862833,  84.14209269,\n",
       "         96.07555706, 108.00902143, 119.9424858 ]),\n",
       " <a list of 10 Patch objects>)"
      ]
     },
     "execution_count": 14,
     "metadata": {},
     "output_type": "execute_result"
    },
    {
     "data": {
      "image/png": "[encoded data removed]",
      "text/plain": [
       "<Figure size 432x288 with 1 Axes>"
      ]
     },
     "metadata": {},
     "output_type": "display_data"
    }
   ],
   "source": [
    "plt.hist(sep_kep.arcsec)"
   ]
  },
  {
   "cell_type": "markdown",
   "metadata": {},
   "source": [
    "And again for K2..."
   ]
  },
  {
   "cell_type": "code",
   "execution_count": 15,
   "metadata": {},
   "outputs": [],
   "source": [
    "matches_table = Table(np.genfromtxt('good_matches_k2.csv', delimiter=',', \n",
    "                                    names=True, dtype=None, encoding=None))\n",
    "matches_table['source_id'] = matches_table['gaia_id_match'].astype(int)"
   ]
  },
  {
   "cell_type": "code",
   "execution_count": 16,
   "metadata": {},
   "outputs": [],
   "source": [
    "gaia_table = Table.read('../k2_dr2_1arcsec.fits', format='fits')\n",
    "k2_gaia_table = gaia_table['source_id','epic_number']"
   ]
  },
  {
   "cell_type": "code",
   "execution_count": 17,
   "metadata": {},
   "outputs": [],
   "source": [
    "k2_matches = join(matches_table, k2_gaia_table, keys=['source_id'], join_type='left')"
   ]
  },
  {
   "cell_type": "code",
   "execution_count": 18,
   "metadata": {},
   "outputs": [],
   "source": [
    "inds = (~k2_matches['epic_number'].mask)\n",
    "epic2 = k2_matches['epic_number'][inds]\n",
    "epic1 = k2_matches['epic_primary'][inds]"
   ]
  },
  {
   "cell_type": "code",
   "execution_count": 19,
   "metadata": {},
   "outputs": [
    {
     "name": "stdout",
     "output_type": "stream",
     "text": [
      "epic_primary\n",
      "------------\n"
     ]
    }
   ],
   "source": [
    "print(epic1)"
   ]
  },
  {
   "cell_type": "code",
   "execution_count": 20,
   "metadata": {},
   "outputs": [],
   "source": [
    "primary_coords_kep = coord.SkyCoord(ra=matches_table['ra_primary_kep'] * u.degree, \n",
    "                          dec=matches_table['dec_primary_kep'] * u.degree) \n",
    "match_coords_kep = coord.SkyCoord(ra=matches_table['ra_match_keptime'] * u.degree, \n",
    "                          dec=matches_table['dec_match_keptime'] * u.degree) \n",
    "primary_coords_gaia = coord.SkyCoord(ra=matches_table['ra_primary_gaia'] * u.degree, \n",
    "                          dec=matches_table['dec_primary_gaia'] * u.degree) \n",
    "match_coords_gaia = coord.SkyCoord(ra=matches_table['ra_match_gaia'] * u.degree, \n",
    "                          dec=matches_table['dec_match_gaia'] * u.degree)  "
   ]
  },
  {
   "cell_type": "code",
   "execution_count": 21,
   "metadata": {},
   "outputs": [],
   "source": [
    "sep_kep = primary_coords_kep.separation(match_coords_kep)\n",
    "sep_gaia = primary_coords_gaia.separation(match_coords_gaia)\n",
    "mask = sep_kep < 12. * u.arcsec\n",
    "matches_table.remove_column('source_id')\n",
    "col1 = Column(data=sep_kep.arcsec, name='sep_keptime')\n",
    "matches_table.add_column(col1)\n",
    "col2 = Column(data=sep_gaia.arcsec, name='sep_gaia')\n",
    "matches_table.add_column(col2)\n",
    "matches_table[mask].write('good_matches_k2_12arcsec.csv', format='csv', overwrite=True)"
   ]
  },
  {
   "cell_type": "code",
   "execution_count": 22,
   "metadata": {},
   "outputs": [
    {
     "data": {
      "text/plain": [
       "(array([17.,  8., 16., 22., 21., 26., 35., 51., 50., 56.]),\n",
       " array([  1.81868019,  13.64497611,  25.47127203,  37.29756795,\n",
       "         49.12386387,  60.95015979,  72.77645571,  84.60275163,\n",
       "         96.42904755, 108.25534347, 120.08163939]),\n",
       " <a list of 10 Patch objects>)"
      ]
     },
     "execution_count": 22,
     "metadata": {},
     "output_type": "execute_result"
    },
    {
     "data": {
      "image/png": "[encoded data removed]",
      "text/plain": [
       "<Figure size 432x288 with 1 Axes>"
      ]
     },
     "metadata": {},
     "output_type": "display_data"
    }
   ],
   "source": [
    "plt.hist(sep_kep.arcsec)"
   ]
  }
 ],
 "metadata": {
  "kernelspec": {
   "display_name": "Python 3",
   "language": "python",
   "name": "python3"
  },
  "language_info": {
   "codemirror_mode": {
    "name": "ipython",
    "version": 3
   },
   "file_extension": ".py",
   "mimetype": "text/x-python",
   "name": "python",
   "nbconvert_exporter": "python",
   "pygments_lexer": "ipython3",
   "version": "3.6.0"
  }
 },
 "nbformat": 4,
 "nbformat_minor": 2
}
