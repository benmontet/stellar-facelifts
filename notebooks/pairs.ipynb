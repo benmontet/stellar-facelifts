{
 "cells": [
  {
   "cell_type": "code",
   "execution_count": 1,
   "metadata": {},
   "outputs": [],
   "source": [
    "import numpy as np\n",
    "import matplotlib.pyplot as plt\n",
    "import pandas as pd\n",
    "import astropy.coordinates as coord\n",
    "from astropy.time import Time\n",
    "from astropy import units as u\n",
    "from tqdm import tqdm\n",
    "from astropy.io import ascii"
   ]
  },
  {
   "cell_type": "code",
   "execution_count": 2,
   "metadata": {},
   "outputs": [],
   "source": [
    "pd.set_option('display.precision',30)\n",
    "pd.set_option('display.float_format', lambda x: '%.3f' % x)"
   ]
  },
  {
   "cell_type": "markdown",
   "metadata": {},
   "source": [
    "### Load up Gaia results\n",
    "#### (see adql_query.txt for query)"
   ]
  },
  {
   "cell_type": "code",
   "execution_count": 3,
   "metadata": {},
   "outputs": [],
   "source": [
    "gaia = np.genfromtxt('../hjhosts-result.csv', delimiter=',', unpack=True, names=True, dtype=None, encoding=None)"
   ]
  },
  {
   "cell_type": "code",
   "execution_count": 4,
   "metadata": {},
   "outputs": [],
   "source": [
    "table = pd.DataFrame.from_records(gaia)"
   ]
  },
  {
   "cell_type": "code",
   "execution_count": 5,
   "metadata": {},
   "outputs": [],
   "source": [
    "table = table.rename(columns={'col1':'kep_ra', 'col2':'kep_dec', 'col3':'kepmag', 'col4':'kepid'})"
   ]
  },
  {
   "cell_type": "markdown",
   "metadata": {},
   "source": [
    "#### Calculate better angular separations that take propagated proper motion into account:"
   ]
  },
  {
   "cell_type": "code",
   "execution_count": 6,
   "metadata": {},
   "outputs": [],
   "source": [
    "refCoord = coord.SkyCoord(ra=table['kep_ra'].values * u.degree, \n",
    "                          dec=table['kep_dec'].values * u.degree)        "
   ]
  },
  {
   "cell_type": "code",
   "execution_count": 7,
   "metadata": {},
   "outputs": [
    {
     "name": "stderr",
     "output_type": "stream",
     "text": [
      "/usr/local/Cellar/python3/3.6.0/Frameworks/Python.framework/Versions/3.6/lib/python3.6/site-packages/ipykernel_launcher.py:1: SettingWithCopyWarning: \n",
      "A value is trying to be set on a copy of a slice from a DataFrame\n",
      "\n",
      "See the caveats in the documentation: http://pandas.pydata.org/pandas-docs/stable/indexing.html#indexing-view-versus-copy\n",
      "  \"\"\"Entry point for launching an IPython kernel.\n",
      "WARNING: ErfaWarning: ERFA function \"starpm\" yielded 5429 of \"solution didn't converge (Note 8)\" [astropy._erfa.core]\n",
      "/usr/local/Cellar/python3/3.6.0/Frameworks/Python.framework/Versions/3.6/lib/python3.6/site-packages/astropy/coordinates/distances.py:162: RuntimeWarning: invalid value encountered in less\n",
      "  if not allow_negative and np.any(distance.value < 0):\n",
      "/usr/local/Cellar/python3/3.6.0/Frameworks/Python.framework/Versions/3.6/lib/python3.6/site-packages/astropy/coordinates/angles.py:639: RuntimeWarning: invalid value encountered in less\n",
      "  if np.any(self_angle < wrap_angle_floor) or np.any(self_angle >= wrap_angle):\n",
      "/usr/local/Cellar/python3/3.6.0/Frameworks/Python.framework/Versions/3.6/lib/python3.6/site-packages/astropy/coordinates/angles.py:639: RuntimeWarning: invalid value encountered in greater_equal\n",
      "  if np.any(self_angle < wrap_angle_floor) or np.any(self_angle >= wrap_angle):\n",
      "/usr/local/Cellar/python3/3.6.0/Frameworks/Python.framework/Versions/3.6/lib/python3.6/site-packages/astropy/coordinates/angles.py:522: RuntimeWarning: invalid value encountered in less\n",
      "  if np.any(angles.value < lower) or np.any(angles.value > upper):\n",
      "/usr/local/Cellar/python3/3.6.0/Frameworks/Python.framework/Versions/3.6/lib/python3.6/site-packages/astropy/coordinates/angles.py:522: RuntimeWarning: invalid value encountered in greater\n",
      "  if np.any(angles.value < lower) or np.any(angles.value > upper):\n"
     ]
    }
   ],
   "source": [
    "table['radial_velocity'][np.isnan(table['radial_velocity'])] = 0.\n",
    "gaia_time = Time(table['ref_epoch'], format='jyear')\n",
    "kepler_time = Time(2004, format='jyear') # GUESS\n",
    "gaiaCoord = coord.SkyCoord(ra=table['ra'].values * u.degree, \n",
    "                           dec=table['dec'].values * u.degree, \n",
    "                           distance=(np.zeros_like(table['ra'].values) + 100.) * u.kpc, # HACK\n",
    "                           radial_velocity=np.zeros_like(table['ra'].values) * u.km / u.s, # HACK\n",
    "                           pm_ra_cosdec=table['pmra'].values * u.milliarcsecond / u.year, \n",
    "                           pm_dec=table['pmdec'].values * u.milliarcsecond / u.year, \n",
    "                           obstime=gaia_time\n",
    "                            )\n",
    "gaiaCoord_shifted = gaiaCoord.apply_space_motion(new_obstime=kepler_time)\n",
    "sep = refCoord.separation(gaiaCoord_shifted)\n",
    "#ind = np.where(sep > 10. * u.deg)[0]\n",
    "#for i in ind:\n",
    "#        sep[i] = 180.*u.deg - sep[i] # HACK"
   ]
  },
  {
   "cell_type": "code",
   "execution_count": 8,
   "metadata": {},
   "outputs": [],
   "source": [
    "table['ang_dist_w_pm'] = sep.arcsec"
   ]
  },
  {
   "cell_type": "code",
   "execution_count": 9,
   "metadata": {},
   "outputs": [
    {
     "name": "stderr",
     "output_type": "stream",
     "text": [
      "/usr/local/Cellar/python3/3.6.0/Frameworks/Python.framework/Versions/3.6/lib/python3.6/site-packages/astropy/coordinates/angles.py:639: RuntimeWarning: invalid value encountered in less\n",
      "  if np.any(self_angle < wrap_angle_floor) or np.any(self_angle >= wrap_angle):\n",
      "/usr/local/Cellar/python3/3.6.0/Frameworks/Python.framework/Versions/3.6/lib/python3.6/site-packages/astropy/coordinates/angles.py:522: RuntimeWarning: invalid value encountered in less\n",
      "  if np.any(angles.value < lower) or np.any(angles.value > upper):\n",
      "/usr/local/Cellar/python3/3.6.0/Frameworks/Python.framework/Versions/3.6/lib/python3.6/site-packages/astropy/coordinates/angles.py:522: RuntimeWarning: invalid value encountered in greater\n",
      "  if np.any(angles.value < lower) or np.any(angles.value > upper):\n",
      "/usr/local/Cellar/python3/3.6.0/Frameworks/Python.framework/Versions/3.6/lib/python3.6/site-packages/astropy/coordinates/angles.py:639: RuntimeWarning: invalid value encountered in greater_equal\n",
      "  if np.any(self_angle < wrap_angle_floor) or np.any(self_angle >= wrap_angle):\n"
     ]
    }
   ],
   "source": [
    "table['ra_keptime'] = gaiaCoord_shifted.ra.degree\n",
    "table['dec_keptime'] = gaiaCoord_shifted.dec.degree"
   ]
  },
  {
   "cell_type": "markdown",
   "metadata": {},
   "source": [
    "Check on the best matches:"
   ]
  },
  {
   "cell_type": "code",
   "execution_count": 10,
   "metadata": {},
   "outputs": [],
   "source": [
    "matches = table.sort_values(['kepid', 'ang_dist_w_pm'], inplace=False)\n",
    "matches.drop_duplicates('kepid', inplace=True)"
   ]
  },
  {
   "cell_type": "code",
   "execution_count": 11,
   "metadata": {},
   "outputs": [
    {
     "data": {
      "text/plain": [
       "(array([256.,   1.,   0.,   3.,   0.,   1.,   0.,   0.,   0.,   2.]),\n",
       " array([3.61220437e-03, 1.77017480e+00, 3.53673739e+00, 5.30329998e+00,\n",
       "        7.06986257e+00, 8.83642516e+00, 1.06029878e+01, 1.23695503e+01,\n",
       "        1.41361129e+01, 1.59026755e+01, 1.76692381e+01]),\n",
       " <a list of 10 Patch objects>)"
      ]
     },
     "execution_count": 11,
     "metadata": {},
     "output_type": "execute_result"
    },
    {
     "data": {
      "image/png": "[encoded data removed]",
      "text/plain": [
       "<Figure size 432x288 with 1 Axes>"
      ]
     },
     "metadata": {},
     "output_type": "display_data"
    }
   ],
   "source": [
    "plt.hist(matches['ang_dist_w_pm'])"
   ]
  },
  {
   "cell_type": "code",
   "execution_count": 12,
   "metadata": {},
   "outputs": [
    {
     "data": {
      "text/html": [
       "<div>\n",
       "<style scoped>\n",
       "    .dataframe tbody tr th:only-of-type {\n",
       "        vertical-align: middle;\n",
       "    }\n",
       "\n",
       "    .dataframe tbody tr th {\n",
       "        vertical-align: top;\n",
       "    }\n",
       "\n",
       "    .dataframe thead th {\n",
       "        text-align: right;\n",
       "    }\n",
       "</style>\n",
       "<table border=\"1\" class=\"dataframe\">\n",
       "  <thead>\n",
       "    <tr style=\"text-align: right;\">\n",
       "      <th></th>\n",
       "      <th>solution_id</th>\n",
       "      <th>designation</th>\n",
       "      <th>source_id</th>\n",
       "      <th>random_index</th>\n",
       "      <th>ref_epoch</th>\n",
       "      <th>ra</th>\n",
       "      <th>ra_error</th>\n",
       "      <th>dec</th>\n",
       "      <th>dec_error</th>\n",
       "      <th>parallax</th>\n",
       "      <th>...</th>\n",
       "      <th>epoch_photometry_url</th>\n",
       "      <th>hjhosts_oid</th>\n",
       "      <th>kep_ra</th>\n",
       "      <th>kep_dec</th>\n",
       "      <th>kepmag</th>\n",
       "      <th>kepid</th>\n",
       "      <th>ang_dist</th>\n",
       "      <th>ang_dist_w_pm</th>\n",
       "      <th>ra_keptime</th>\n",
       "      <th>dec_keptime</th>\n",
       "    </tr>\n",
       "  </thead>\n",
       "  <tbody>\n",
       "    <tr>\n",
       "      <th>23910</th>\n",
       "      <td>1635721458409799680</td>\n",
       "      <td>Gaia DR2 2101508501301082368</td>\n",
       "      <td>2101508501301082368</td>\n",
       "      <td>1004772443</td>\n",
       "      <td>2015.500</td>\n",
       "      <td>291.284</td>\n",
       "      <td>0.027</td>\n",
       "      <td>40.728</td>\n",
       "      <td>0.038</td>\n",
       "      <td>0.383</td>\n",
       "      <td>...</td>\n",
       "      <td></td>\n",
       "      <td>115</td>\n",
       "      <td>291.285</td>\n",
       "      <td>40.730</td>\n",
       "      <td>15.855</td>\n",
       "      <td>5531953</td>\n",
       "      <td>0.003</td>\n",
       "      <td>8.981</td>\n",
       "      <td>291.284</td>\n",
       "      <td>40.728</td>\n",
       "    </tr>\n",
       "    <tr>\n",
       "      <th>43979</th>\n",
       "      <td>1635721458409799680</td>\n",
       "      <td>Gaia DR2 2076660672388510464</td>\n",
       "      <td>2076660672388510464</td>\n",
       "      <td>1039014877</td>\n",
       "      <td>2015.500</td>\n",
       "      <td>294.960</td>\n",
       "      <td>0.072</td>\n",
       "      <td>40.985</td>\n",
       "      <td>0.098</td>\n",
       "      <td>0.100</td>\n",
       "      <td>...</td>\n",
       "      <td></td>\n",
       "      <td>208</td>\n",
       "      <td>294.960</td>\n",
       "      <td>40.987</td>\n",
       "      <td>15.423</td>\n",
       "      <td>5716244</td>\n",
       "      <td>0.002</td>\n",
       "      <td>5.842</td>\n",
       "      <td>294.960</td>\n",
       "      <td>40.985</td>\n",
       "    </tr>\n",
       "    <tr>\n",
       "      <th>48799</th>\n",
       "      <td>1635721458409799680</td>\n",
       "      <td>Gaia DR2 2080091492257542144</td>\n",
       "      <td>2080091492257542144</td>\n",
       "      <td>325514623</td>\n",
       "      <td>2015.500</td>\n",
       "      <td>294.994</td>\n",
       "      <td>0.206</td>\n",
       "      <td>46.224</td>\n",
       "      <td>0.213</td>\n",
       "      <td>0.269</td>\n",
       "      <td>...</td>\n",
       "      <td></td>\n",
       "      <td>234</td>\n",
       "      <td>294.991</td>\n",
       "      <td>46.224</td>\n",
       "      <td>14.538</td>\n",
       "      <td>9596187</td>\n",
       "      <td>0.002</td>\n",
       "      <td>6.591</td>\n",
       "      <td>294.994</td>\n",
       "      <td>46.224</td>\n",
       "    </tr>\n",
       "    <tr>\n",
       "      <th>18147</th>\n",
       "      <td>1635721458409799680</td>\n",
       "      <td>Gaia DR2 2086324275778825600</td>\n",
       "      <td>2086324275778825600</td>\n",
       "      <td>184412114</td>\n",
       "      <td>2015.500</td>\n",
       "      <td>297.653</td>\n",
       "      <td>0.211</td>\n",
       "      <td>47.167</td>\n",
       "      <td>0.206</td>\n",
       "      <td>0.154</td>\n",
       "      <td>...</td>\n",
       "      <td></td>\n",
       "      <td>90</td>\n",
       "      <td>297.646</td>\n",
       "      <td>47.167</td>\n",
       "      <td>13.592</td>\n",
       "      <td>10158418</td>\n",
       "      <td>0.005</td>\n",
       "      <td>16.706</td>\n",
       "      <td>297.653</td>\n",
       "      <td>47.167</td>\n",
       "    </tr>\n",
       "    <tr>\n",
       "      <th>21791</th>\n",
       "      <td>1635721458409799680</td>\n",
       "      <td>Gaia DR2 2130856356427181568</td>\n",
       "      <td>2130856356427181568</td>\n",
       "      <td>349879453</td>\n",
       "      <td>2015.500</td>\n",
       "      <td>287.707</td>\n",
       "      <td>0.324</td>\n",
       "      <td>47.334</td>\n",
       "      <td>0.559</td>\n",
       "      <td>0.028</td>\n",
       "      <td>...</td>\n",
       "      <td></td>\n",
       "      <td>104</td>\n",
       "      <td>287.709</td>\n",
       "      <td>47.333</td>\n",
       "      <td>12.128</td>\n",
       "      <td>10264660</td>\n",
       "      <td>0.002</td>\n",
       "      <td>5.525</td>\n",
       "      <td>287.707</td>\n",
       "      <td>47.334</td>\n",
       "    </tr>\n",
       "    <tr>\n",
       "      <th>39409</th>\n",
       "      <td>1635721458409799680</td>\n",
       "      <td>Gaia DR2 2119616182197267200</td>\n",
       "      <td>2119616182197267200</td>\n",
       "      <td>981221805</td>\n",
       "      <td>2015.500</td>\n",
       "      <td>281.772</td>\n",
       "      <td>0.146</td>\n",
       "      <td>47.598</td>\n",
       "      <td>0.166</td>\n",
       "      <td>0.227</td>\n",
       "      <td>...</td>\n",
       "      <td></td>\n",
       "      <td>191</td>\n",
       "      <td>281.776</td>\n",
       "      <td>47.593</td>\n",
       "      <td>14.371</td>\n",
       "      <td>10384962</td>\n",
       "      <td>0.005</td>\n",
       "      <td>17.669</td>\n",
       "      <td>281.773</td>\n",
       "      <td>47.598</td>\n",
       "    </tr>\n",
       "  </tbody>\n",
       "</table>\n",
       "<p>6 rows × 105 columns</p>\n",
       "</div>"
      ],
      "text/plain": [
       "               solution_id                   designation            source_id  \\\n",
       "23910  1635721458409799680  Gaia DR2 2101508501301082368  2101508501301082368   \n",
       "43979  1635721458409799680  Gaia DR2 2076660672388510464  2076660672388510464   \n",
       "48799  1635721458409799680  Gaia DR2 2080091492257542144  2080091492257542144   \n",
       "18147  1635721458409799680  Gaia DR2 2086324275778825600  2086324275778825600   \n",
       "21791  1635721458409799680  Gaia DR2 2130856356427181568  2130856356427181568   \n",
       "39409  1635721458409799680  Gaia DR2 2119616182197267200  2119616182197267200   \n",
       "\n",
       "       random_index  ref_epoch      ra  ra_error    dec  dec_error  parallax  \\\n",
       "23910    1004772443   2015.500 291.284     0.027 40.728      0.038     0.383   \n",
       "43979    1039014877   2015.500 294.960     0.072 40.985      0.098     0.100   \n",
       "48799     325514623   2015.500 294.994     0.206 46.224      0.213     0.269   \n",
       "18147     184412114   2015.500 297.653     0.211 47.167      0.206     0.154   \n",
       "21791     349879453   2015.500 287.707     0.324 47.334      0.559     0.028   \n",
       "39409     981221805   2015.500 281.772     0.146 47.598      0.166     0.227   \n",
       "\n",
       "          ...       epoch_photometry_url  hjhosts_oid  kep_ra  kep_dec  \\\n",
       "23910     ...                                     115 291.285   40.730   \n",
       "43979     ...                                     208 294.960   40.987   \n",
       "48799     ...                                     234 294.991   46.224   \n",
       "18147     ...                                      90 297.646   47.167   \n",
       "21791     ...                                     104 287.709   47.333   \n",
       "39409     ...                                     191 281.776   47.593   \n",
       "\n",
       "       kepmag     kepid  ang_dist  ang_dist_w_pm  ra_keptime  dec_keptime  \n",
       "23910  15.855   5531953     0.003          8.981     291.284       40.728  \n",
       "43979  15.423   5716244     0.002          5.842     294.960       40.985  \n",
       "48799  14.538   9596187     0.002          6.591     294.994       46.224  \n",
       "18147  13.592  10158418     0.005         16.706     297.653       47.167  \n",
       "21791  12.128  10264660     0.002          5.525     287.707       47.334  \n",
       "39409  14.371  10384962     0.005         17.669     281.773       47.598  \n",
       "\n",
       "[6 rows x 105 columns]"
      ]
     },
     "execution_count": 12,
     "metadata": {},
     "output_type": "execute_result"
    }
   ],
   "source": [
    "matches[matches['ang_dist_w_pm'] > 5.]"
   ]
  },
  {
   "cell_type": "code",
   "execution_count": 13,
   "metadata": {},
   "outputs": [],
   "source": [
    "from utils import *"
   ]
  },
  {
   "cell_type": "code",
   "execution_count": 14,
   "metadata": {},
   "outputs": [],
   "source": [
    "kepids = np.unique(table['kepid'].values)"
   ]
  },
  {
   "cell_type": "code",
   "execution_count": 15,
   "metadata": {},
   "outputs": [],
   "source": [
    "columns = ['kic_primary','gaia_id_primary', 'gaia_id_match', 'ra_match_keptime', \n",
    "           'dec_match_keptime', 'ra_match_gaia', 'dec_match_gaia', 'gaiamag_match', 'chisq']\n",
    "matches_table = pd.DataFrame(columns=columns)"
   ]
  },
  {
   "cell_type": "code",
   "execution_count": 16,
   "metadata": {},
   "outputs": [],
   "source": [
    "def add_to_matches_table(match, primary, chisq, matches_table):\n",
    "    chisq_nonzero1 = calc_chisq_nonzero(primary)\n",
    "    chisq_nonzero2 = calc_chisq_nonzero(match)\n",
    "    matches_table = matches_table.append({'kic_primary': primary['kepid'], \n",
    "                          'gaia_id_primary': primary['source_id'], \n",
    "                          'gaia_id_match': match['source_id'], \n",
    "                          'ra_match_keptime': match['ra_keptime'], \n",
    "                          'dec_match_keptime': match['dec_keptime'], \n",
    "                          'ra_match_gaia': match['ra'],\n",
    "                          'dec_match_gaia': match['dec'],\n",
    "                          'ra_primary_kep': primary['kep_ra'],\n",
    "                          'dec_primary_kep': primary['kep_dec'],\n",
    "                          'ra_primary_gaia': primary['ra'],\n",
    "                          'dec_primary_gaia': primary['dec'],\n",
    "                          'gaiamag_match': match['phot_g_mean_mag'],\n",
    "                          'chisq': chisq,\n",
    "                          'chisq_zeropm_primary': chisq_nonzero1,\n",
    "                          'chisq_zeropm_match': chisq_nonzero2}, ignore_index=True)\n",
    "    return matches_table"
   ]
  },
  {
   "cell_type": "code",
   "execution_count": 17,
   "metadata": {},
   "outputs": [
    {
     "name": "stderr",
     "output_type": "stream",
     "text": [
      "100%|██████████| 263/263 [05:16<00:00,  1.20s/it]\n"
     ]
    }
   ],
   "source": [
    "for k in tqdm(kepids):\n",
    "    temp = table[table['kepid'] == k]\n",
    "    best_match = temp.loc[temp['ang_dist_w_pm'].idxmin()]\n",
    "    chisq_nonzero1 = calc_chisq_nonzero(best_match)\n",
    "    if (best_match['ang_dist_w_pm'] > 1.): # arbitrary\n",
    "        continue\n",
    "    other_matches = temp.drop(temp['ang_dist_w_pm'].idxmin())\n",
    "    chisqs = other_matches.apply(calc_chisq_for_pair, axis=1, args=(best_match,))\n",
    "    for o,c in zip(other_matches.iterrows(), chisqs):\n",
    "        if c > 0.:\n",
    "            matches_table = add_to_matches_table(o[1], best_match, c, matches_table)"
   ]
  },
  {
   "cell_type": "code",
   "execution_count": 18,
   "metadata": {},
   "outputs": [
    {
     "data": {
      "text/plain": [
       "13749"
      ]
     },
     "execution_count": 18,
     "metadata": {},
     "output_type": "execute_result"
    }
   ],
   "source": [
    "len(matches_table)"
   ]
  },
  {
   "cell_type": "code",
   "execution_count": 19,
   "metadata": {},
   "outputs": [],
   "source": [
    "matches_table.to_csv('matches.csv', index=False)"
   ]
  },
  {
   "cell_type": "code",
   "execution_count": 15,
   "metadata": {},
   "outputs": [],
   "source": [
    "matches_table = np.genfromtxt('matches.csv', delimiter=',', names=True, dtype=None, encoding=None)\n",
    "matches_table = pd.DataFrame(matches_table)"
   ]
  },
  {
   "cell_type": "code",
   "execution_count": 45,
   "metadata": {},
   "outputs": [
    {
     "data": {
      "text/plain": [
       "(array([5.760e+03, 4.120e+03, 2.404e+03, 9.670e+02, 3.510e+02, 9.000e+01,\n",
       "        3.600e+01, 1.500e+01, 3.000e+00, 3.000e+00]),\n",
       " array([7.67925195e-03, 1.08192297e+01, 2.16307802e+01, 3.24423307e+01,\n",
       "        4.32538812e+01, 5.40654317e+01, 6.48769822e+01, 7.56885327e+01,\n",
       "        8.65000832e+01, 9.73116337e+01, 1.08123184e+02]),\n",
       " <a list of 10 Patch objects>)"
      ]
     },
     "execution_count": 45,
     "metadata": {},
     "output_type": "execute_result"
    },
    {
     "data": {
      "image/png": "[encoded data removed]",
      "text/plain": [
       "<Figure size 432x288 with 1 Axes>"
      ]
     },
     "metadata": {},
     "output_type": "display_data"
    }
   ],
   "source": [
    "plt.hist(matches_table['chisq'])"
   ]
  },
  {
   "cell_type": "code",
   "execution_count": 46,
   "metadata": {},
   "outputs": [
    {
     "data": {
      "text/plain": [
       "8804"
      ]
     },
     "execution_count": 46,
     "metadata": {},
     "output_type": "execute_result"
    }
   ],
   "source": [
    "np.sum((matches_table['chisq_zeropm_primary'] > 9.) & (matches_table['chisq_zeropm_match'] > 9.))"
   ]
  },
  {
   "cell_type": "code",
   "execution_count": 16,
   "metadata": {},
   "outputs": [],
   "source": [
    "good_matches_table = matches_table[(matches_table['chisq_zeropm_primary'] > 9.) & \n",
    "                                   (matches_table['chisq_zeropm_match'] > 9.) &\n",
    "                                   (matches_table['chisq'] < 9.)]\n",
    "good_matches_table.to_csv('good_matches.csv', index=False)"
   ]
  },
  {
   "cell_type": "code",
   "execution_count": 49,
   "metadata": {},
   "outputs": [],
   "source": [
    "with open(\"../paper/kepler_matches_table.tex\", \"w\") as f:\n",
    "    f.write(\"\\\\begin{deluxetable*}{cccc}\\n\")\n",
    "    f.write(\"\\\\tablecaption{Likely co-moving pairs with Kepler HJ hosts.\\\\label{tbl:kep-matches}}\\n\")\n",
    "    f.write(\"\\\\tablehead{\")\n",
    "    f.write(\"\\\\colhead{Primary KIC} & \\\\colhead{Primary Gaia Source ID} & \") \n",
    "    f.write(\"\\\\colhead{Secondary Gaia Source ID} & \\\\colhead{$\\chi ^2$} }\\n\")\n",
    "    f.write(\"\\\\startdata\\n\")\n",
    "    n=0\n",
    "    for i, row in good_matches_table.iterrows():\n",
    "        if n<5:\n",
    "            f.write(\"{0:10d} & {1:20d} & {2:20d} & {3:.2f} \\\\\\\\\\n\".format(int(row['kic_primary']), \n",
    "                                                                          int(row['gaia_id_primary']), \n",
    "                                                                          int(row['gaia_id_match']), \n",
    "                                                                          row['chisq']))\n",
    "        n += 1\n",
    "    f.write(\"\\\\enddata\\n\")\n",
    "    f.write(\"\\\\tablecomments{This table is published in its entirety in the machine-readable format. A portion is shown here for guidance regarding its form and content.}\\n\")\n",
    "    f.write(\"\\\\end{deluxetable*}\")"
   ]
  },
  {
   "cell_type": "code",
   "execution_count": 22,
   "metadata": {},
   "outputs": [
    {
     "data": {
      "text/plain": [
       "kic_primary                        6507433.000\n",
       "gaia_id_primary        2103947252448389120.000\n",
       "gaia_id_match          2103947252448388608.000\n",
       "ra_match_keptime                       286.507\n",
       "dec_match_keptime                       41.922\n",
       "ra_match_gaia                          286.507\n",
       "dec_match_gaia                          41.922\n",
       "gaiamag_match                           14.370\n",
       "chisq                                    8.577\n",
       "chisq_zeropm_match                   18480.281\n",
       "chisq_zeropm_primary                  8144.477\n",
       "dec_primary_gaia                        41.923\n",
       "dec_primary_kep                         41.923\n",
       "ra_primary_gaia                        286.509\n",
       "ra_primary_kep                         286.509\n",
       "Name: 6976, dtype: float64"
      ]
     },
     "execution_count": 22,
     "metadata": {},
     "output_type": "execute_result"
    }
   ],
   "source": [
    "#ind = np.random.choice(good_matches_table.index)\n",
    "ind = np.where(good_matches_table['kic_primary'] == 6507433.0)[0][0]\n",
    "good_matches_table.iloc[ind]"
   ]
  },
  {
   "cell_type": "code",
   "execution_count": 23,
   "metadata": {},
   "outputs": [],
   "source": [
    "star1 = table[table['source_id'] == good_matches_table.iloc[ind]['gaia_id_match']]\n",
    "star2 = table[table['source_id'] == good_matches_table.iloc[ind]['gaia_id_primary']]"
   ]
  },
  {
   "cell_type": "code",
   "execution_count": 24,
   "metadata": {},
   "outputs": [
    {
     "data": {
      "image/png": "[encoded data removed]",
      "text/plain": [
       "<Figure size 864x288 with 3 Axes>"
      ]
     },
     "metadata": {},
     "output_type": "display_data"
    }
   ],
   "source": [
    "plot_xs(star1, star2, sigma=3)"
   ]
  },
  {
   "cell_type": "code",
   "execution_count": 41,
   "metadata": {},
   "outputs": [
    {
     "data": {
      "text/plain": [
       "(5.7, 6.5)"
      ]
     },
     "execution_count": 41,
     "metadata": {},
     "output_type": "execute_result"
    },
    {
     "data": {
      "image/png": "[encoded data removed]",
      "text/plain": [
       "<Figure size 432x288 with 1 Axes>"
      ]
     },
     "metadata": {},
     "output_type": "display_data"
    }
   ],
   "source": [
    "    fs = 12\n",
    "    x1 = make_x(star1)\n",
    "    cov1 = make_cov(star1)\n",
    "    x2 = make_x(star2)\n",
    "    cov2 = make_cov(star2)\n",
    "    ax3 = plt.subplot()\n",
    "    error_ellipse(ax3, x1[1], x1[2], cov1[1:,1:], ec='red', sigma=3)\n",
    "    error_ellipse(ax3, x2[1], x2[2], cov2[1:,1:], ec='blue', sigma=3)\n",
    "    ax3.set_xlabel('PM RA (mas yr$^{-1}$)', fontsize=fs)\n",
    "    ax3.set_ylabel('PM Dec (mas yr$^{-1}$)', fontsize=fs)\n",
    "    ax3.set_xlim([-1.,0.0])\n",
    "    ax3.set_ylim([5.7,6.5])\n"
   ]
  },
  {
   "cell_type": "markdown",
   "metadata": {},
   "source": [
    "### Now do it all again for K2:"
   ]
  },
  {
   "cell_type": "code",
   "execution_count": 28,
   "metadata": {},
   "outputs": [],
   "source": [
    "gaia = np.genfromtxt('../hjhosts_k2-result.csv', delimiter=',', unpack=True, names=True, dtype=None, encoding=None)"
   ]
  },
  {
   "cell_type": "code",
   "execution_count": 29,
   "metadata": {},
   "outputs": [],
   "source": [
    "table = pd.DataFrame.from_records(gaia)\n",
    "table = table.rename(columns={'col1':'kep_ra', 'col2':'kep_dec', 'col3':'kepmag', 'col4':'epic_number'})"
   ]
  },
  {
   "cell_type": "code",
   "execution_count": 30,
   "metadata": {},
   "outputs": [],
   "source": [
    "refCoord = coord.SkyCoord(ra=table['kep_ra'].values * u.degree, \n",
    "                          dec=table['kep_dec'].values * u.degree)        "
   ]
  },
  {
   "cell_type": "code",
   "execution_count": 31,
   "metadata": {},
   "outputs": [
    {
     "name": "stderr",
     "output_type": "stream",
     "text": [
      "/usr/local/Cellar/python3/3.6.0/Frameworks/Python.framework/Versions/3.6/lib/python3.6/site-packages/ipykernel_launcher.py:1: SettingWithCopyWarning: \n",
      "A value is trying to be set on a copy of a slice from a DataFrame\n",
      "\n",
      "See the caveats in the documentation: http://pandas.pydata.org/pandas-docs/stable/indexing.html#indexing-view-versus-copy\n",
      "  \"\"\"Entry point for launching an IPython kernel.\n",
      "WARNING: ErfaWarning: ERFA function \"starpm\" yielded 1 of \"excessive velocity (Note 7)\", 3468 of \"solution didn't converge (Note 8)\" [astropy._erfa.core]\n",
      "/usr/local/Cellar/python3/3.6.0/Frameworks/Python.framework/Versions/3.6/lib/python3.6/site-packages/astropy/coordinates/distances.py:162: RuntimeWarning: invalid value encountered in less\n",
      "  if not allow_negative and np.any(distance.value < 0):\n",
      "/usr/local/Cellar/python3/3.6.0/Frameworks/Python.framework/Versions/3.6/lib/python3.6/site-packages/astropy/coordinates/angles.py:639: RuntimeWarning: invalid value encountered in less\n",
      "  if np.any(self_angle < wrap_angle_floor) or np.any(self_angle >= wrap_angle):\n",
      "/usr/local/Cellar/python3/3.6.0/Frameworks/Python.framework/Versions/3.6/lib/python3.6/site-packages/astropy/coordinates/angles.py:639: RuntimeWarning: invalid value encountered in greater_equal\n",
      "  if np.any(self_angle < wrap_angle_floor) or np.any(self_angle >= wrap_angle):\n",
      "/usr/local/Cellar/python3/3.6.0/Frameworks/Python.framework/Versions/3.6/lib/python3.6/site-packages/astropy/coordinates/angles.py:522: RuntimeWarning: invalid value encountered in less\n",
      "  if np.any(angles.value < lower) or np.any(angles.value > upper):\n",
      "/usr/local/Cellar/python3/3.6.0/Frameworks/Python.framework/Versions/3.6/lib/python3.6/site-packages/astropy/coordinates/angles.py:522: RuntimeWarning: invalid value encountered in greater\n",
      "  if np.any(angles.value < lower) or np.any(angles.value > upper):\n"
     ]
    }
   ],
   "source": [
    "table['radial_velocity'][np.isnan(table['radial_velocity'])] = 0.\n",
    "gaia_time = Time(table['ref_epoch'], format='jyear')\n",
    "kepler_time = Time('J2000') # GUESS\n",
    "gaiaCoord = coord.SkyCoord(ra=table['ra'].values * u.degree, \n",
    "                           dec=table['dec'].values * u.degree, \n",
    "                           distance=(np.zeros_like(table['ra'].values) + 100.) * u.kpc, # HACK\n",
    "                           radial_velocity=np.zeros_like(table['ra'].values) * u.km / u.s, # HACK\n",
    "                           pm_ra_cosdec=table['pmra'].values * u.milliarcsecond / u.year, \n",
    "                           pm_dec=table['pmdec'].values * u.milliarcsecond / u.year, \n",
    "                           obstime=gaia_time\n",
    "                            )\n",
    "gaiaCoord_shifted = gaiaCoord.apply_space_motion(new_obstime=kepler_time)\n",
    "sep = refCoord.separation(gaiaCoord_shifted)"
   ]
  },
  {
   "cell_type": "code",
   "execution_count": 32,
   "metadata": {},
   "outputs": [],
   "source": [
    "table['ang_dist_w_pm'] = sep.arcsec"
   ]
  },
  {
   "cell_type": "code",
   "execution_count": 33,
   "metadata": {},
   "outputs": [
    {
     "name": "stderr",
     "output_type": "stream",
     "text": [
      "/usr/local/Cellar/python3/3.6.0/Frameworks/Python.framework/Versions/3.6/lib/python3.6/site-packages/astropy/coordinates/angles.py:639: RuntimeWarning: invalid value encountered in less\n",
      "  if np.any(self_angle < wrap_angle_floor) or np.any(self_angle >= wrap_angle):\n",
      "/usr/local/Cellar/python3/3.6.0/Frameworks/Python.framework/Versions/3.6/lib/python3.6/site-packages/astropy/coordinates/angles.py:522: RuntimeWarning: invalid value encountered in less\n",
      "  if np.any(angles.value < lower) or np.any(angles.value > upper):\n",
      "/usr/local/Cellar/python3/3.6.0/Frameworks/Python.framework/Versions/3.6/lib/python3.6/site-packages/astropy/coordinates/angles.py:522: RuntimeWarning: invalid value encountered in greater\n",
      "  if np.any(angles.value < lower) or np.any(angles.value > upper):\n",
      "/usr/local/Cellar/python3/3.6.0/Frameworks/Python.framework/Versions/3.6/lib/python3.6/site-packages/astropy/coordinates/angles.py:639: RuntimeWarning: invalid value encountered in greater_equal\n",
      "  if np.any(self_angle < wrap_angle_floor) or np.any(self_angle >= wrap_angle):\n"
     ]
    }
   ],
   "source": [
    "table['ra_keptime'] = gaiaCoord_shifted.ra.degree\n",
    "table['dec_keptime'] = gaiaCoord_shifted.dec.degree"
   ]
  },
  {
   "cell_type": "code",
   "execution_count": 34,
   "metadata": {},
   "outputs": [
    {
     "data": {
      "text/plain": [
       "(array([138.,   3.,   0.,   0.,   0.,   0.,   0.,   0.,   0.,   1.]),\n",
       " array([2.51226504e-03, 4.78119742e+00, 9.55988258e+00, 1.43385677e+01,\n",
       "        1.91172529e+01, 2.38959380e+01, 2.86746232e+01, 3.34533084e+01,\n",
       "        3.82319935e+01, 4.30106787e+01, 4.77893638e+01]),\n",
       " <a list of 10 Patch objects>)"
      ]
     },
     "execution_count": 34,
     "metadata": {},
     "output_type": "execute_result"
    },
    {
     "data": {
      "image/png": "[encoded data removed]",
      "text/plain": [
       "<Figure size 432x288 with 1 Axes>"
      ]
     },
     "metadata": {},
     "output_type": "display_data"
    }
   ],
   "source": [
    "matches = table.sort_values(['epic_number', 'ang_dist_w_pm'], inplace=False)\n",
    "matches.drop_duplicates('epic_number', inplace=True)\n",
    "plt.hist(matches['ang_dist_w_pm'])"
   ]
  },
  {
   "cell_type": "code",
   "execution_count": 35,
   "metadata": {},
   "outputs": [],
   "source": [
    "epic_numbers = np.unique(table['epic_number'].values)\n",
    "matches_table = pd.DataFrame()"
   ]
  },
  {
   "cell_type": "code",
   "execution_count": 36,
   "metadata": {},
   "outputs": [],
   "source": [
    "def add_to_matches_table(match, primary, chisq, matches_table):\n",
    "    chisq_nonzero1 = calc_chisq_nonzero(primary)\n",
    "    chisq_nonzero2 = calc_chisq_nonzero(match)\n",
    "    matches_table = matches_table.append({'epic_primary': primary['epic_number'], \n",
    "                          'gaia_id_primary': primary['source_id'], \n",
    "                          'gaia_id_match': match['source_id'], \n",
    "                          'ra_match_keptime': match['ra_keptime'], \n",
    "                          'dec_match_keptime': match['dec_keptime'], \n",
    "                          'ra_match_gaia': match['ra'],\n",
    "                          'dec_match_gaia': match['dec'],\n",
    "                          'ra_primary_kep': primary['kep_ra'],\n",
    "                          'dec_primary_kep': primary['kep_dec'],\n",
    "                          'ra_primary_gaia': primary['ra'],\n",
    "                          'dec_primary_gaia': primary['dec'],\n",
    "                          'gaiamag_match': match['phot_g_mean_mag'],\n",
    "                          'chisq': chisq,\n",
    "                          'chisq_zeropm_primary': chisq_nonzero1,\n",
    "                          'chisq_zeropm_match': chisq_nonzero2}, ignore_index=True)\n",
    "    return matches_table"
   ]
  },
  {
   "cell_type": "code",
   "execution_count": 37,
   "metadata": {},
   "outputs": [
    {
     "name": "stderr",
     "output_type": "stream",
     "text": [
      "100%|██████████| 142/142 [00:59<00:00,  2.37it/s]\n"
     ]
    }
   ],
   "source": [
    "for k in tqdm(epic_numbers):\n",
    "    temp = table[table['epic_number'] == k]\n",
    "    best_match = temp.loc[temp['ang_dist_w_pm'].idxmin()]\n",
    "    if (best_match['ang_dist_w_pm'] > 4.): # arbitrary\n",
    "        continue\n",
    "    other_matches = temp.drop(temp['ang_dist_w_pm'].idxmin())\n",
    "    chisqs = other_matches.apply(calc_chisq_for_pair, axis=1, args=(best_match,))\n",
    "    for o,c in zip(other_matches.iterrows(), chisqs):\n",
    "        if c > 0.:\n",
    "            matches_table = add_to_matches_table(o[1], best_match, c, matches_table)"
   ]
  },
  {
   "cell_type": "code",
   "execution_count": 38,
   "metadata": {},
   "outputs": [],
   "source": [
    "matches_table.to_csv('matches_k2.csv', index=False)"
   ]
  },
  {
   "cell_type": "code",
   "execution_count": 52,
   "metadata": {},
   "outputs": [],
   "source": [
    "matches_table = np.genfromtxt('matches_k2.csv', delimiter=',', names=True, dtype=None, encoding=None)\n",
    "matches_table = pd.DataFrame(matches_table)"
   ]
  },
  {
   "cell_type": "code",
   "execution_count": 53,
   "metadata": {},
   "outputs": [
    {
     "data": {
      "text/plain": [
       "2427"
      ]
     },
     "execution_count": 53,
     "metadata": {},
     "output_type": "execute_result"
    }
   ],
   "source": [
    "len(matches_table)"
   ]
  },
  {
   "cell_type": "code",
   "execution_count": 54,
   "metadata": {},
   "outputs": [],
   "source": [
    "good_matches_table = matches_table[(matches_table['chisq_zeropm_primary'] > 9.) & \n",
    "                                   (matches_table['chisq_zeropm_match'] > 9.) &\n",
    "                                   (matches_table['chisq'] < 9.)]\n",
    "good_matches_table.to_csv('good_matches_k2.csv', index=False)"
   ]
  },
  {
   "cell_type": "code",
   "execution_count": 55,
   "metadata": {},
   "outputs": [
    {
     "data": {
      "text/plain": [
       "302"
      ]
     },
     "execution_count": 55,
     "metadata": {},
     "output_type": "execute_result"
    }
   ],
   "source": [
    "len(good_matches_table)"
   ]
  },
  {
   "cell_type": "code",
   "execution_count": 42,
   "metadata": {},
   "outputs": [
    {
     "data": {
      "image/png": "[encoded data removed]",
      "text/plain": [
       "<Figure size 864x288 with 3 Axes>"
      ]
     },
     "metadata": {},
     "output_type": "display_data"
    }
   ],
   "source": [
    "ind = np.random.choice(good_matches_table.index)\n",
    "star1 = table[table['source_id'] == good_matches_table['gaia_id_match'][ind]]\n",
    "star2 = table[table['source_id'] == good_matches_table['gaia_id_primary'][ind]]\n",
    "plot_xs(star1, star2, sigma=3)"
   ]
  },
  {
   "cell_type": "code",
   "execution_count": 56,
   "metadata": {},
   "outputs": [],
   "source": [
    "with open(\"../paper/k2_matches_table.tex\", \"w\") as f:\n",
    "    f.write(\"\\\\begin{deluxetable*}{cccc}\\n\")\n",
    "    f.write(\"\\\\tablecaption{Likely co-moving pairs with K2 HJ hosts.\\\\label{tbl:k2-matches}}\\n\")\n",
    "    f.write(\"\\\\tablehead{\")\n",
    "    f.write(\"\\\\colhead{Primary EPIC} & \\\\colhead{Primary Gaia Source ID} & \") \n",
    "    f.write(\"\\\\colhead{Secondary Gaia Source ID} & \\\\colhead{$\\chi ^2$} }\\n\")\n",
    "    f.write(\"\\\\startdata\\n\")\n",
    "    n = 0\n",
    "    for i, row in good_matches_table.iterrows():\n",
    "        if n<5:\n",
    "            f.write(\"{0:10d} & {1:20d} & {2:20d} & {3:.2f} \\\\\\\\\\n\".format(int(row['epic_primary']), \n",
    "                                                      int(row['gaia_id_primary']), \n",
    "                                  int(row['gaia_id_match']), row['chisq']))\n",
    "        n += 1\n",
    "    f.write(\"\\\\enddata\\n\")\n",
    "    f.write(\"\\\\tablecomments{This table is published in its entirety in the machine-readable format. A portion is shown here for guidance regarding its form and content.}\\n\")\n",
    "    f.write(\"\\\\end{deluxetable*}\")"
   ]
  },
  {
   "cell_type": "code",
   "execution_count": null,
   "metadata": {},
   "outputs": [],
   "source": []
  },
  {
   "cell_type": "code",
   "execution_count": null,
   "metadata": {},
   "outputs": [],
   "source": []
  }
 ],
 "metadata": {
  "kernelspec": {
   "display_name": "Python 3",
   "language": "python",
   "name": "python3"
  },
  "language_info": {
   "codemirror_mode": {
    "name": "ipython",
    "version": 3
   },
   "file_extension": ".py",
   "mimetype": "text/x-python",
   "name": "python",
   "nbconvert_exporter": "python",
   "pygments_lexer": "ipython3",
   "version": "3.7.1"
  }
 },
 "nbformat": 4,
 "nbformat_minor": 2
}
