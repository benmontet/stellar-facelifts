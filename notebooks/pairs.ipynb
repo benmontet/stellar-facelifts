{
 "cells": [
  {
   "cell_type": "code",
   "execution_count": 42,
   "metadata": {},
   "outputs": [],
   "source": [
    "import numpy as np\n",
    "import matplotlib.pyplot as plt\n",
    "import pandas as pd\n",
    "import astropy.coordinates as coord\n",
    "from astropy.time import Time\n",
    "from astropy import units as u\n",
    "from tqdm import tqdm"
   ]
  },
  {
   "cell_type": "markdown",
   "metadata": {},
   "source": [
    "### Load up Gaia results\n",
    "#### (see adql_query.txt for query)"
   ]
  },
  {
   "cell_type": "code",
   "execution_count": 2,
   "metadata": {},
   "outputs": [],
   "source": [
    "gaia = np.genfromtxt('../hjhosts-result.csv', delimiter=',', unpack=True, names=True, dtype=None, encoding=None)"
   ]
  },
  {
   "cell_type": "code",
   "execution_count": 3,
   "metadata": {},
   "outputs": [],
   "source": [
    "table = pd.DataFrame.from_records(gaia)"
   ]
  },
  {
   "cell_type": "code",
   "execution_count": 4,
   "metadata": {},
   "outputs": [],
   "source": [
    "table = table.rename(columns={'col1':'kep_ra', 'col2':'kep_dec', 'col3':'kepmag', 'col4':'kepid'})"
   ]
  },
  {
   "cell_type": "markdown",
   "metadata": {},
   "source": [
    "#### Calculate better angular separations that take propagated proper motion into account:"
   ]
  },
  {
   "cell_type": "code",
   "execution_count": 5,
   "metadata": {},
   "outputs": [],
   "source": [
    "refCoord = coord.SkyCoord(ra=table['kep_ra'].values * u.degree, \n",
    "                          dec=table['kep_dec'].values * u.degree)        "
   ]
  },
  {
   "cell_type": "code",
   "execution_count": 6,
   "metadata": {},
   "outputs": [
    {
     "name": "stderr",
     "output_type": "stream",
     "text": [
      "/usr/local/Cellar/python3/3.6.0/Frameworks/Python.framework/Versions/3.6/lib/python3.6/site-packages/ipykernel_launcher.py:1: SettingWithCopyWarning: \n",
      "A value is trying to be set on a copy of a slice from a DataFrame\n",
      "\n",
      "See the caveats in the documentation: http://pandas.pydata.org/pandas-docs/stable/indexing.html#indexing-view-versus-copy\n",
      "  \"\"\"Entry point for launching an IPython kernel.\n",
      "/usr/local/Cellar/python3/3.6.0/Frameworks/Python.framework/Versions/3.6/lib/python3.6/site-packages/astropy/coordinates/angles.py:639: RuntimeWarning: invalid value encountered in less\n",
      "  if np.any(self_angle < wrap_angle_floor) or np.any(self_angle >= wrap_angle):\n",
      "/usr/local/Cellar/python3/3.6.0/Frameworks/Python.framework/Versions/3.6/lib/python3.6/site-packages/astropy/coordinates/angles.py:522: RuntimeWarning: invalid value encountered in less\n",
      "  if np.any(angles.value < lower) or np.any(angles.value > upper):\n",
      "/usr/local/Cellar/python3/3.6.0/Frameworks/Python.framework/Versions/3.6/lib/python3.6/site-packages/astropy/coordinates/angles.py:522: RuntimeWarning: invalid value encountered in greater\n",
      "  if np.any(angles.value < lower) or np.any(angles.value > upper):\n",
      "/usr/local/Cellar/python3/3.6.0/Frameworks/Python.framework/Versions/3.6/lib/python3.6/site-packages/astropy/coordinates/angles.py:639: RuntimeWarning: invalid value encountered in greater_equal\n",
      "  if np.any(self_angle < wrap_angle_floor) or np.any(self_angle >= wrap_angle):\n",
      "/usr/local/Cellar/python3/3.6.0/Frameworks/Python.framework/Versions/3.6/lib/python3.6/site-packages/astropy/units/quantity.py:639: RuntimeWarning: invalid value encountered in greater\n",
      "  result = super().__array_ufunc__(function, method, *arrays, **kwargs)\n"
     ]
    }
   ],
   "source": [
    "table['radial_velocity'][np.isnan(table['radial_velocity'])] = 0.\n",
    "gaia_time = Time(table['ref_epoch'], format='jyear')\n",
    "gaiaCoord = coord.SkyCoord(ra=table['ra'].values * u.degree, \n",
    "                           dec=table['dec'].values * u.degree, \n",
    "                           distance=(table['parallax'].values * u.milliarcsecond).to(u.pc, u.parallax()),\n",
    "                           radial_velocity=table['radial_velocity'].values * u.km / u.s,\n",
    "                           pm_ra_cosdec=table['pmra'].values * u.milliarcsecond / u.year, \n",
    "                           pm_dec=table['pmdec'].values * u.milliarcsecond / u.year, \n",
    "                           obstime=gaia_time\n",
    "                            )\n",
    "sep = refCoord.separation(gaiaCoord)\n",
    "ind = np.where(sep > 10. * u.deg)[0]\n",
    "for i in ind:\n",
    "        sep[i] = 180.*u.deg - sep[i] # HACK"
   ]
  },
  {
   "cell_type": "code",
   "execution_count": 7,
   "metadata": {},
   "outputs": [],
   "source": [
    "table['ang_dist_w_pm'] = sep.arcsec"
   ]
  },
  {
   "cell_type": "markdown",
   "metadata": {},
   "source": [
    "Check on the best matches:"
   ]
  },
  {
   "cell_type": "code",
   "execution_count": 8,
   "metadata": {},
   "outputs": [],
   "source": [
    "matches = table.sort_values(['kepid', 'ang_dist_w_pm'], inplace=False)\n",
    "matches.drop_duplicates('kepid', inplace=True)"
   ]
  },
  {
   "cell_type": "code",
   "execution_count": 9,
   "metadata": {},
   "outputs": [
    {
     "data": {
      "text/plain": [
       "(array([254.,   2.,   1.,   3.,   0.,   1.,   0.,   0.,   0.,   2.]),\n",
       " array([7.20163253e-03, 1.77337315e+00, 3.53954467e+00, 5.30571618e+00,\n",
       "        7.07188770e+00, 8.83805922e+00, 1.06042307e+01, 1.23704022e+01,\n",
       "        1.41365738e+01, 1.59027453e+01, 1.76689168e+01]),\n",
       " <a list of 10 Patch objects>)"
      ]
     },
     "execution_count": 9,
     "metadata": {},
     "output_type": "execute_result"
    },
    {
     "data": {
      "image/png": "[encoded data removed]",
      "text/plain": [
       "<Figure size 432x288 with 1 Axes>"
      ]
     },
     "metadata": {},
     "output_type": "display_data"
    }
   ],
   "source": [
    "plt.hist(matches['ang_dist_w_pm'])"
   ]
  },
  {
   "cell_type": "code",
   "execution_count": 10,
   "metadata": {},
   "outputs": [
    {
     "data": {
      "text/html": [
       "<div>\n",
       "<style scoped>\n",
       "    .dataframe tbody tr th:only-of-type {\n",
       "        vertical-align: middle;\n",
       "    }\n",
       "\n",
       "    .dataframe tbody tr th {\n",
       "        vertical-align: top;\n",
       "    }\n",
       "\n",
       "    .dataframe thead th {\n",
       "        text-align: right;\n",
       "    }\n",
       "</style>\n",
       "<table border=\"1\" class=\"dataframe\">\n",
       "  <thead>\n",
       "    <tr style=\"text-align: right;\">\n",
       "      <th></th>\n",
       "      <th>solution_id</th>\n",
       "      <th>designation</th>\n",
       "      <th>source_id</th>\n",
       "      <th>random_index</th>\n",
       "      <th>ref_epoch</th>\n",
       "      <th>ra</th>\n",
       "      <th>ra_error</th>\n",
       "      <th>dec</th>\n",
       "      <th>dec_error</th>\n",
       "      <th>parallax</th>\n",
       "      <th>...</th>\n",
       "      <th>lum_percentile_upper</th>\n",
       "      <th>datalink_url</th>\n",
       "      <th>epoch_photometry_url</th>\n",
       "      <th>hjhosts_oid</th>\n",
       "      <th>kep_ra</th>\n",
       "      <th>kep_dec</th>\n",
       "      <th>kepmag</th>\n",
       "      <th>kepid</th>\n",
       "      <th>ang_dist</th>\n",
       "      <th>ang_dist_w_pm</th>\n",
       "    </tr>\n",
       "  </thead>\n",
       "  <tbody>\n",
       "    <tr>\n",
       "      <th>23910</th>\n",
       "      <td>1635721458409799680</td>\n",
       "      <td>Gaia DR2 2101508501301082368</td>\n",
       "      <td>2101508501301082368</td>\n",
       "      <td>1004772443</td>\n",
       "      <td>2015.5</td>\n",
       "      <td>291.283725</td>\n",
       "      <td>0.027139</td>\n",
       "      <td>40.727728</td>\n",
       "      <td>0.037741</td>\n",
       "      <td>0.382788</td>\n",
       "      <td>...</td>\n",
       "      <td>3.000779</td>\n",
       "      <td>http://geadata.esac.esa.int/data-server/datali...</td>\n",
       "      <td></td>\n",
       "      <td>115</td>\n",
       "      <td>291.28500</td>\n",
       "      <td>40.730049</td>\n",
       "      <td>15.855</td>\n",
       "      <td>5531953</td>\n",
       "      <td>0.002514</td>\n",
       "      <td>9.051935</td>\n",
       "    </tr>\n",
       "    <tr>\n",
       "      <th>43979</th>\n",
       "      <td>1635721458409799680</td>\n",
       "      <td>Gaia DR2 2076660672388510464</td>\n",
       "      <td>2076660672388510464</td>\n",
       "      <td>1039014877</td>\n",
       "      <td>2015.5</td>\n",
       "      <td>294.960202</td>\n",
       "      <td>0.072132</td>\n",
       "      <td>40.985350</td>\n",
       "      <td>0.098499</td>\n",
       "      <td>0.100101</td>\n",
       "      <td>...</td>\n",
       "      <td>NaN</td>\n",
       "      <td>http://geadata.esac.esa.int/data-server/datali...</td>\n",
       "      <td></td>\n",
       "      <td>208</td>\n",
       "      <td>294.96027</td>\n",
       "      <td>40.986980</td>\n",
       "      <td>15.423</td>\n",
       "      <td>5716244</td>\n",
       "      <td>0.001631</td>\n",
       "      <td>5.871694</td>\n",
       "    </tr>\n",
       "    <tr>\n",
       "      <th>48799</th>\n",
       "      <td>1635721458409799680</td>\n",
       "      <td>Gaia DR2 2080091492257542144</td>\n",
       "      <td>2080091492257542144</td>\n",
       "      <td>325514623</td>\n",
       "      <td>2015.5</td>\n",
       "      <td>294.993792</td>\n",
       "      <td>0.206241</td>\n",
       "      <td>46.223899</td>\n",
       "      <td>0.212958</td>\n",
       "      <td>0.269455</td>\n",
       "      <td>...</td>\n",
       "      <td>NaN</td>\n",
       "      <td>http://geadata.esac.esa.int/data-server/datali...</td>\n",
       "      <td></td>\n",
       "      <td>234</td>\n",
       "      <td>294.99121</td>\n",
       "      <td>46.223572</td>\n",
       "      <td>14.538</td>\n",
       "      <td>9596187</td>\n",
       "      <td>0.001816</td>\n",
       "      <td>6.537878</td>\n",
       "    </tr>\n",
       "    <tr>\n",
       "      <th>18147</th>\n",
       "      <td>1635721458409799680</td>\n",
       "      <td>Gaia DR2 2086324275778825600</td>\n",
       "      <td>2086324275778825600</td>\n",
       "      <td>184412114</td>\n",
       "      <td>2015.5</td>\n",
       "      <td>297.652861</td>\n",
       "      <td>0.211104</td>\n",
       "      <td>47.167175</td>\n",
       "      <td>0.206432</td>\n",
       "      <td>0.154450</td>\n",
       "      <td>...</td>\n",
       "      <td>NaN</td>\n",
       "      <td>http://geadata.esac.esa.int/data-server/datali...</td>\n",
       "      <td></td>\n",
       "      <td>90</td>\n",
       "      <td>297.64606</td>\n",
       "      <td>47.167488</td>\n",
       "      <td>13.592</td>\n",
       "      <td>10158418</td>\n",
       "      <td>0.004634</td>\n",
       "      <td>16.683767</td>\n",
       "    </tr>\n",
       "    <tr>\n",
       "      <th>21791</th>\n",
       "      <td>1635721458409799680</td>\n",
       "      <td>Gaia DR2 2130856356427181568</td>\n",
       "      <td>2130856356427181568</td>\n",
       "      <td>349879453</td>\n",
       "      <td>2015.5</td>\n",
       "      <td>287.706976</td>\n",
       "      <td>0.324227</td>\n",
       "      <td>47.333921</td>\n",
       "      <td>0.559335</td>\n",
       "      <td>0.027589</td>\n",
       "      <td>...</td>\n",
       "      <td>NaN</td>\n",
       "      <td>http://geadata.esac.esa.int/data-server/datali...</td>\n",
       "      <td></td>\n",
       "      <td>104</td>\n",
       "      <td>287.70883</td>\n",
       "      <td>47.333050</td>\n",
       "      <td>12.128</td>\n",
       "      <td>10264660</td>\n",
       "      <td>0.001529</td>\n",
       "      <td>5.503737</td>\n",
       "    </tr>\n",
       "    <tr>\n",
       "      <th>39409</th>\n",
       "      <td>1635721458409799680</td>\n",
       "      <td>Gaia DR2 2119616182197267200</td>\n",
       "      <td>2119616182197267200</td>\n",
       "      <td>981221805</td>\n",
       "      <td>2015.5</td>\n",
       "      <td>281.772358</td>\n",
       "      <td>0.145839</td>\n",
       "      <td>47.597664</td>\n",
       "      <td>0.166030</td>\n",
       "      <td>0.227139</td>\n",
       "      <td>...</td>\n",
       "      <td>NaN</td>\n",
       "      <td>http://geadata.esac.esa.int/data-server/datali...</td>\n",
       "      <td></td>\n",
       "      <td>191</td>\n",
       "      <td>281.77554</td>\n",
       "      <td>47.593250</td>\n",
       "      <td>14.371</td>\n",
       "      <td>10384962</td>\n",
       "      <td>0.004908</td>\n",
       "      <td>17.668917</td>\n",
       "    </tr>\n",
       "  </tbody>\n",
       "</table>\n",
       "<p>6 rows × 103 columns</p>\n",
       "</div>"
      ],
      "text/plain": [
       "               solution_id                   designation            source_id  \\\n",
       "23910  1635721458409799680  Gaia DR2 2101508501301082368  2101508501301082368   \n",
       "43979  1635721458409799680  Gaia DR2 2076660672388510464  2076660672388510464   \n",
       "48799  1635721458409799680  Gaia DR2 2080091492257542144  2080091492257542144   \n",
       "18147  1635721458409799680  Gaia DR2 2086324275778825600  2086324275778825600   \n",
       "21791  1635721458409799680  Gaia DR2 2130856356427181568  2130856356427181568   \n",
       "39409  1635721458409799680  Gaia DR2 2119616182197267200  2119616182197267200   \n",
       "\n",
       "       random_index  ref_epoch          ra  ra_error        dec  dec_error  \\\n",
       "23910    1004772443     2015.5  291.283725  0.027139  40.727728   0.037741   \n",
       "43979    1039014877     2015.5  294.960202  0.072132  40.985350   0.098499   \n",
       "48799     325514623     2015.5  294.993792  0.206241  46.223899   0.212958   \n",
       "18147     184412114     2015.5  297.652861  0.211104  47.167175   0.206432   \n",
       "21791     349879453     2015.5  287.706976  0.324227  47.333921   0.559335   \n",
       "39409     981221805     2015.5  281.772358  0.145839  47.597664   0.166030   \n",
       "\n",
       "       parallax      ...        lum_percentile_upper  \\\n",
       "23910  0.382788      ...                    3.000779   \n",
       "43979  0.100101      ...                         NaN   \n",
       "48799  0.269455      ...                         NaN   \n",
       "18147  0.154450      ...                         NaN   \n",
       "21791  0.027589      ...                         NaN   \n",
       "39409  0.227139      ...                         NaN   \n",
       "\n",
       "                                            datalink_url  \\\n",
       "23910  http://geadata.esac.esa.int/data-server/datali...   \n",
       "43979  http://geadata.esac.esa.int/data-server/datali...   \n",
       "48799  http://geadata.esac.esa.int/data-server/datali...   \n",
       "18147  http://geadata.esac.esa.int/data-server/datali...   \n",
       "21791  http://geadata.esac.esa.int/data-server/datali...   \n",
       "39409  http://geadata.esac.esa.int/data-server/datali...   \n",
       "\n",
       "       epoch_photometry_url  hjhosts_oid     kep_ra    kep_dec  kepmag  \\\n",
       "23910                                115  291.28500  40.730049  15.855   \n",
       "43979                                208  294.96027  40.986980  15.423   \n",
       "48799                                234  294.99121  46.223572  14.538   \n",
       "18147                                 90  297.64606  47.167488  13.592   \n",
       "21791                                104  287.70883  47.333050  12.128   \n",
       "39409                                191  281.77554  47.593250  14.371   \n",
       "\n",
       "          kepid  ang_dist  ang_dist_w_pm  \n",
       "23910   5531953  0.002514       9.051935  \n",
       "43979   5716244  0.001631       5.871694  \n",
       "48799   9596187  0.001816       6.537878  \n",
       "18147  10158418  0.004634      16.683767  \n",
       "21791  10264660  0.001529       5.503737  \n",
       "39409  10384962  0.004908      17.668917  \n",
       "\n",
       "[6 rows x 103 columns]"
      ]
     },
     "execution_count": 10,
     "metadata": {},
     "output_type": "execute_result"
    }
   ],
   "source": [
    "matches[matches['ang_dist_w_pm'] > 5.]"
   ]
  },
  {
   "cell_type": "code",
   "execution_count": 11,
   "metadata": {},
   "outputs": [],
   "source": [
    "from utils import *"
   ]
  },
  {
   "cell_type": "code",
   "execution_count": 12,
   "metadata": {},
   "outputs": [],
   "source": [
    "kepids = np.unique(table['kepid'].values)"
   ]
  },
  {
   "cell_type": "code",
   "execution_count": 43,
   "metadata": {},
   "outputs": [],
   "source": [
    "columns = ['kic_primary','gaia_id_primary', 'gaia_id_match', 'ra_match', 'dec_match', 'chisq']\n",
    "matches_table = pd.DataFrame(columns=columns)"
   ]
  },
  {
   "cell_type": "code",
   "execution_count": 44,
   "metadata": {},
   "outputs": [],
   "source": [
    "def add_to_matches_table(match, primary, chisq, matches_table):\n",
    "    matches_table = matches_table.append({'kic_primary': primary['kepid'], \n",
    "                          'gaia_id_primary': primary['source_id'], \n",
    "                          'gaia_id_match': match['source_id'], \n",
    "                          'ra_match': match['ra'], \n",
    "                          'dec_match': match['dec'], \n",
    "                          'chisq': chisq}, ignore_index=True)\n",
    "    return matches_table"
   ]
  },
  {
   "cell_type": "code",
   "execution_count": 45,
   "metadata": {},
   "outputs": [
    {
     "name": "stderr",
     "output_type": "stream",
     "text": [
      "100%|██████████| 263/263 [03:23<00:00,  1.29it/s]\n"
     ]
    }
   ],
   "source": [
    "for k in tqdm(kepids):\n",
    "    temp = table[table['kepid'] == k]\n",
    "    best_match = temp.loc[temp['ang_dist_w_pm'].idxmin()]\n",
    "    other_matches = temp.drop(temp['ang_dist_w_pm'].idxmin())\n",
    "    chisqs = other_matches.apply(calc_chisq_for_pair, axis=1, args=(best_match,))\n",
    "    for o,c in zip(other_matches.iterrows(), chisqs):\n",
    "        if c > 0.:\n",
    "            matches_table = add_to_matches_table(o[1], best_match, c, matches_table)"
   ]
  },
  {
   "cell_type": "code",
   "execution_count": 47,
   "metadata": {},
   "outputs": [],
   "source": [
    "matches_table.to_csv('matches.csv')"
   ]
  },
  {
   "cell_type": "code",
   "execution_count": null,
   "metadata": {},
   "outputs": [],
   "source": []
  }
 ],
 "metadata": {
  "kernelspec": {
   "display_name": "Python 3",
   "language": "python",
   "name": "python3"
  },
  "language_info": {
   "codemirror_mode": {
    "name": "ipython",
    "version": 3
   },
   "file_extension": ".py",
   "mimetype": "text/x-python",
   "name": "python",
   "nbconvert_exporter": "python",
   "pygments_lexer": "ipython3",
   "version": "3.6.0"
  }
 },
 "nbformat": 4,
 "nbformat_minor": 2
}
