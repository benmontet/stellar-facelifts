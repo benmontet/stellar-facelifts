{
 "cells": [
  {
   "cell_type": "code",
   "execution_count": 1,
   "metadata": {},
   "outputs": [],
   "source": [
    "import numpy as np\n",
    "import matplotlib.pyplot as plt\n",
    "import pandas as pd\n",
    "import astropy.coordinates as coord\n",
    "from astropy.time import Time\n",
    "from astropy import units as u\n",
    "from tqdm import tqdm"
   ]
  },
  {
   "cell_type": "markdown",
   "metadata": {},
   "source": [
    "### Load up Gaia results\n",
    "#### (see adql_query.txt for query)"
   ]
  },
  {
   "cell_type": "code",
   "execution_count": 2,
   "metadata": {},
   "outputs": [],
   "source": [
    "gaia = np.genfromtxt('../hjhosts-result.csv', delimiter=',', unpack=True, names=True, dtype=None, encoding=None)"
   ]
  },
  {
   "cell_type": "code",
   "execution_count": 3,
   "metadata": {},
   "outputs": [],
   "source": [
    "table = pd.DataFrame.from_records(gaia)"
   ]
  },
  {
   "cell_type": "code",
   "execution_count": 4,
   "metadata": {},
   "outputs": [],
   "source": [
    "table = table.rename(columns={'col1':'kep_ra', 'col2':'kep_dec', 'col3':'kepmag', 'col4':'kepid'})"
   ]
  },
  {
   "cell_type": "markdown",
   "metadata": {},
   "source": [
    "#### Calculate better angular separations that take propagated proper motion into account:"
   ]
  },
  {
   "cell_type": "code",
   "execution_count": 5,
   "metadata": {},
   "outputs": [],
   "source": [
    "refCoord = coord.SkyCoord(ra=table['kep_ra'].values * u.degree, \n",
    "                          dec=table['kep_dec'].values * u.degree)        "
   ]
  },
  {
   "cell_type": "code",
   "execution_count": 16,
   "metadata": {},
   "outputs": [
    {
     "name": "stderr",
     "output_type": "stream",
     "text": [
      "/usr/local/Cellar/python3/3.6.0/Frameworks/Python.framework/Versions/3.6/lib/python3.6/site-packages/ipykernel_launcher.py:1: SettingWithCopyWarning: \n",
      "A value is trying to be set on a copy of a slice from a DataFrame\n",
      "\n",
      "See the caveats in the documentation: http://pandas.pydata.org/pandas-docs/stable/indexing.html#indexing-view-versus-copy\n",
      "  \"\"\"Entry point for launching an IPython kernel.\n",
      "WARNING: ErfaWarning: ERFA function \"starpm\" yielded 5429 of \"solution didn't converge (Note 8)\" [astropy._erfa.core]\n",
      "/usr/local/Cellar/python3/3.6.0/Frameworks/Python.framework/Versions/3.6/lib/python3.6/site-packages/astropy/coordinates/distances.py:162: RuntimeWarning: invalid value encountered in less\n",
      "  if not allow_negative and np.any(distance.value < 0):\n",
      "/usr/local/Cellar/python3/3.6.0/Frameworks/Python.framework/Versions/3.6/lib/python3.6/site-packages/astropy/coordinates/angles.py:639: RuntimeWarning: invalid value encountered in less\n",
      "  if np.any(self_angle < wrap_angle_floor) or np.any(self_angle >= wrap_angle):\n",
      "/usr/local/Cellar/python3/3.6.0/Frameworks/Python.framework/Versions/3.6/lib/python3.6/site-packages/astropy/coordinates/angles.py:639: RuntimeWarning: invalid value encountered in greater_equal\n",
      "  if np.any(self_angle < wrap_angle_floor) or np.any(self_angle >= wrap_angle):\n",
      "/usr/local/Cellar/python3/3.6.0/Frameworks/Python.framework/Versions/3.6/lib/python3.6/site-packages/astropy/coordinates/angles.py:522: RuntimeWarning: invalid value encountered in less\n",
      "  if np.any(angles.value < lower) or np.any(angles.value > upper):\n",
      "/usr/local/Cellar/python3/3.6.0/Frameworks/Python.framework/Versions/3.6/lib/python3.6/site-packages/astropy/coordinates/angles.py:522: RuntimeWarning: invalid value encountered in greater\n",
      "  if np.any(angles.value < lower) or np.any(angles.value > upper):\n"
     ]
    }
   ],
   "source": [
    "table['radial_velocity'][np.isnan(table['radial_velocity'])] = 0.\n",
    "gaia_time = Time(table['ref_epoch'], format='jyear')\n",
    "kepler_time = Time(2004, format='jyear') # GUESS\n",
    "gaiaCoord = coord.SkyCoord(ra=table['ra'].values * u.degree, \n",
    "                           dec=table['dec'].values * u.degree, \n",
    "                           distance=(np.zeros_like(table['ra'].values) + 100.) * u.kpc, # HACK\n",
    "                           radial_velocity=np.zeros_like(table['ra'].values) * u.km / u.s, # HACK\n",
    "                           pm_ra_cosdec=table['pmra'].values * u.milliarcsecond / u.year, \n",
    "                           pm_dec=table['pmdec'].values * u.milliarcsecond / u.year, \n",
    "                           obstime=gaia_time\n",
    "                            )\n",
    "gaiaCoord_shifted = gaiaCoord.apply_space_motion(new_obstime=kepler_time)\n",
    "sep = refCoord.separation(gaiaCoord_shifted)\n",
    "#ind = np.where(sep > 10. * u.deg)[0]\n",
    "#for i in ind:\n",
    "#        sep[i] = 180.*u.deg - sep[i] # HACK"
   ]
  },
  {
   "cell_type": "code",
   "execution_count": 17,
   "metadata": {},
   "outputs": [],
   "source": [
    "table['ang_dist_w_pm'] = sep.arcsec"
   ]
  },
  {
   "cell_type": "code",
   "execution_count": 21,
   "metadata": {},
   "outputs": [
    {
     "name": "stderr",
     "output_type": "stream",
     "text": [
      "/usr/local/Cellar/python3/3.6.0/Frameworks/Python.framework/Versions/3.6/lib/python3.6/site-packages/astropy/coordinates/angles.py:639: RuntimeWarning: invalid value encountered in less\n",
      "  if np.any(self_angle < wrap_angle_floor) or np.any(self_angle >= wrap_angle):\n",
      "/usr/local/Cellar/python3/3.6.0/Frameworks/Python.framework/Versions/3.6/lib/python3.6/site-packages/astropy/coordinates/angles.py:522: RuntimeWarning: invalid value encountered in less\n",
      "  if np.any(angles.value < lower) or np.any(angles.value > upper):\n",
      "/usr/local/Cellar/python3/3.6.0/Frameworks/Python.framework/Versions/3.6/lib/python3.6/site-packages/astropy/coordinates/angles.py:522: RuntimeWarning: invalid value encountered in greater\n",
      "  if np.any(angles.value < lower) or np.any(angles.value > upper):\n",
      "/usr/local/Cellar/python3/3.6.0/Frameworks/Python.framework/Versions/3.6/lib/python3.6/site-packages/astropy/coordinates/angles.py:639: RuntimeWarning: invalid value encountered in greater_equal\n",
      "  if np.any(self_angle < wrap_angle_floor) or np.any(self_angle >= wrap_angle):\n"
     ]
    }
   ],
   "source": [
    "table['ra_keptime'] = gaiaCoord_shifted.ra.degree\n",
    "table['dec_keptime'] = gaiaCoord_shifted.dec.degree"
   ]
  },
  {
   "cell_type": "markdown",
   "metadata": {},
   "source": [
    "Check on the best matches:"
   ]
  },
  {
   "cell_type": "code",
   "execution_count": 22,
   "metadata": {},
   "outputs": [],
   "source": [
    "matches = table.sort_values(['kepid', 'ang_dist_w_pm'], inplace=False)\n",
    "matches.drop_duplicates('kepid', inplace=True)"
   ]
  },
  {
   "cell_type": "code",
   "execution_count": 23,
   "metadata": {},
   "outputs": [
    {
     "data": {
      "text/plain": [
       "(array([256.,   1.,   0.,   3.,   0.,   1.,   0.,   0.,   0.,   2.]),\n",
       " array([3.61220437e-03, 1.77017480e+00, 3.53673739e+00, 5.30329998e+00,\n",
       "        7.06986257e+00, 8.83642516e+00, 1.06029878e+01, 1.23695503e+01,\n",
       "        1.41361129e+01, 1.59026755e+01, 1.76692381e+01]),\n",
       " <a list of 10 Patch objects>)"
      ]
     },
     "execution_count": 23,
     "metadata": {},
     "output_type": "execute_result"
    },
    {
     "data": {
      "image/png": "[encoded data removed]",
      "text/plain": [
       "<Figure size 432x288 with 1 Axes>"
      ]
     },
     "metadata": {},
     "output_type": "display_data"
    }
   ],
   "source": [
    "plt.hist(matches['ang_dist_w_pm'])"
   ]
  },
  {
   "cell_type": "code",
   "execution_count": 24,
   "metadata": {},
   "outputs": [
    {
     "data": {
      "text/html": [
       "<div>\n",
       "<style scoped>\n",
       "    .dataframe tbody tr th:only-of-type {\n",
       "        vertical-align: middle;\n",
       "    }\n",
       "\n",
       "    .dataframe tbody tr th {\n",
       "        vertical-align: top;\n",
       "    }\n",
       "\n",
       "    .dataframe thead th {\n",
       "        text-align: right;\n",
       "    }\n",
       "</style>\n",
       "<table border=\"1\" class=\"dataframe\">\n",
       "  <thead>\n",
       "    <tr style=\"text-align: right;\">\n",
       "      <th></th>\n",
       "      <th>solution_id</th>\n",
       "      <th>designation</th>\n",
       "      <th>source_id</th>\n",
       "      <th>random_index</th>\n",
       "      <th>ref_epoch</th>\n",
       "      <th>ra</th>\n",
       "      <th>ra_error</th>\n",
       "      <th>dec</th>\n",
       "      <th>dec_error</th>\n",
       "      <th>parallax</th>\n",
       "      <th>...</th>\n",
       "      <th>epoch_photometry_url</th>\n",
       "      <th>hjhosts_oid</th>\n",
       "      <th>kep_ra</th>\n",
       "      <th>kep_dec</th>\n",
       "      <th>kepmag</th>\n",
       "      <th>kepid</th>\n",
       "      <th>ang_dist</th>\n",
       "      <th>ang_dist_w_pm</th>\n",
       "      <th>ra_keptime</th>\n",
       "      <th>dec_keptime</th>\n",
       "    </tr>\n",
       "  </thead>\n",
       "  <tbody>\n",
       "    <tr>\n",
       "      <th>23910</th>\n",
       "      <td>1635721458409799680</td>\n",
       "      <td>Gaia DR2 2101508501301082368</td>\n",
       "      <td>2101508501301082368</td>\n",
       "      <td>1004772443</td>\n",
       "      <td>2015.5</td>\n",
       "      <td>291.283725</td>\n",
       "      <td>0.027139</td>\n",
       "      <td>40.727728</td>\n",
       "      <td>0.037741</td>\n",
       "      <td>0.382788</td>\n",
       "      <td>...</td>\n",
       "      <td></td>\n",
       "      <td>115</td>\n",
       "      <td>291.28500</td>\n",
       "      <td>40.730049</td>\n",
       "      <td>15.855</td>\n",
       "      <td>5531953</td>\n",
       "      <td>0.002514</td>\n",
       "      <td>8.980513</td>\n",
       "      <td>291.283727</td>\n",
       "      <td>40.727748</td>\n",
       "    </tr>\n",
       "    <tr>\n",
       "      <th>43979</th>\n",
       "      <td>1635721458409799680</td>\n",
       "      <td>Gaia DR2 2076660672388510464</td>\n",
       "      <td>2076660672388510464</td>\n",
       "      <td>1039014877</td>\n",
       "      <td>2015.5</td>\n",
       "      <td>294.960202</td>\n",
       "      <td>0.072132</td>\n",
       "      <td>40.985350</td>\n",
       "      <td>0.098499</td>\n",
       "      <td>0.100101</td>\n",
       "      <td>...</td>\n",
       "      <td></td>\n",
       "      <td>208</td>\n",
       "      <td>294.96027</td>\n",
       "      <td>40.986980</td>\n",
       "      <td>15.423</td>\n",
       "      <td>5716244</td>\n",
       "      <td>0.001631</td>\n",
       "      <td>5.842321</td>\n",
       "      <td>294.960208</td>\n",
       "      <td>40.985358</td>\n",
       "    </tr>\n",
       "    <tr>\n",
       "      <th>48799</th>\n",
       "      <td>1635721458409799680</td>\n",
       "      <td>Gaia DR2 2080091492257542144</td>\n",
       "      <td>2080091492257542144</td>\n",
       "      <td>325514623</td>\n",
       "      <td>2015.5</td>\n",
       "      <td>294.993792</td>\n",
       "      <td>0.206241</td>\n",
       "      <td>46.223899</td>\n",
       "      <td>0.212958</td>\n",
       "      <td>0.269455</td>\n",
       "      <td>...</td>\n",
       "      <td></td>\n",
       "      <td>234</td>\n",
       "      <td>294.99121</td>\n",
       "      <td>46.223572</td>\n",
       "      <td>14.538</td>\n",
       "      <td>9596187</td>\n",
       "      <td>0.001816</td>\n",
       "      <td>6.591236</td>\n",
       "      <td>294.993809</td>\n",
       "      <td>46.223918</td>\n",
       "    </tr>\n",
       "    <tr>\n",
       "      <th>18147</th>\n",
       "      <td>1635721458409799680</td>\n",
       "      <td>Gaia DR2 2086324275778825600</td>\n",
       "      <td>2086324275778825600</td>\n",
       "      <td>184412114</td>\n",
       "      <td>2015.5</td>\n",
       "      <td>297.652861</td>\n",
       "      <td>0.211104</td>\n",
       "      <td>47.167175</td>\n",
       "      <td>0.206432</td>\n",
       "      <td>0.154450</td>\n",
       "      <td>...</td>\n",
       "      <td></td>\n",
       "      <td>90</td>\n",
       "      <td>297.64606</td>\n",
       "      <td>47.167488</td>\n",
       "      <td>13.592</td>\n",
       "      <td>10158418</td>\n",
       "      <td>0.004634</td>\n",
       "      <td>16.705680</td>\n",
       "      <td>297.652871</td>\n",
       "      <td>47.167183</td>\n",
       "    </tr>\n",
       "    <tr>\n",
       "      <th>21791</th>\n",
       "      <td>1635721458409799680</td>\n",
       "      <td>Gaia DR2 2130856356427181568</td>\n",
       "      <td>2130856356427181568</td>\n",
       "      <td>349879453</td>\n",
       "      <td>2015.5</td>\n",
       "      <td>287.706976</td>\n",
       "      <td>0.324227</td>\n",
       "      <td>47.333921</td>\n",
       "      <td>0.559335</td>\n",
       "      <td>0.027589</td>\n",
       "      <td>...</td>\n",
       "      <td></td>\n",
       "      <td>104</td>\n",
       "      <td>287.70883</td>\n",
       "      <td>47.333050</td>\n",
       "      <td>12.128</td>\n",
       "      <td>10264660</td>\n",
       "      <td>0.001529</td>\n",
       "      <td>5.524671</td>\n",
       "      <td>287.706977</td>\n",
       "      <td>47.333932</td>\n",
       "    </tr>\n",
       "    <tr>\n",
       "      <th>39409</th>\n",
       "      <td>1635721458409799680</td>\n",
       "      <td>Gaia DR2 2119616182197267200</td>\n",
       "      <td>2119616182197267200</td>\n",
       "      <td>981221805</td>\n",
       "      <td>2015.5</td>\n",
       "      <td>281.772358</td>\n",
       "      <td>0.145839</td>\n",
       "      <td>47.597664</td>\n",
       "      <td>0.166030</td>\n",
       "      <td>0.227139</td>\n",
       "      <td>...</td>\n",
       "      <td></td>\n",
       "      <td>191</td>\n",
       "      <td>281.77554</td>\n",
       "      <td>47.593250</td>\n",
       "      <td>14.371</td>\n",
       "      <td>10384962</td>\n",
       "      <td>0.004908</td>\n",
       "      <td>17.669238</td>\n",
       "      <td>281.772505</td>\n",
       "      <td>47.597711</td>\n",
       "    </tr>\n",
       "  </tbody>\n",
       "</table>\n",
       "<p>6 rows × 105 columns</p>\n",
       "</div>"
      ],
      "text/plain": [
       "               solution_id                   designation            source_id  \\\n",
       "23910  1635721458409799680  Gaia DR2 2101508501301082368  2101508501301082368   \n",
       "43979  1635721458409799680  Gaia DR2 2076660672388510464  2076660672388510464   \n",
       "48799  1635721458409799680  Gaia DR2 2080091492257542144  2080091492257542144   \n",
       "18147  1635721458409799680  Gaia DR2 2086324275778825600  2086324275778825600   \n",
       "21791  1635721458409799680  Gaia DR2 2130856356427181568  2130856356427181568   \n",
       "39409  1635721458409799680  Gaia DR2 2119616182197267200  2119616182197267200   \n",
       "\n",
       "       random_index  ref_epoch          ra  ra_error        dec  dec_error  \\\n",
       "23910    1004772443     2015.5  291.283725  0.027139  40.727728   0.037741   \n",
       "43979    1039014877     2015.5  294.960202  0.072132  40.985350   0.098499   \n",
       "48799     325514623     2015.5  294.993792  0.206241  46.223899   0.212958   \n",
       "18147     184412114     2015.5  297.652861  0.211104  47.167175   0.206432   \n",
       "21791     349879453     2015.5  287.706976  0.324227  47.333921   0.559335   \n",
       "39409     981221805     2015.5  281.772358  0.145839  47.597664   0.166030   \n",
       "\n",
       "       parallax     ...       epoch_photometry_url  hjhosts_oid     kep_ra  \\\n",
       "23910  0.382788     ...                                     115  291.28500   \n",
       "43979  0.100101     ...                                     208  294.96027   \n",
       "48799  0.269455     ...                                     234  294.99121   \n",
       "18147  0.154450     ...                                      90  297.64606   \n",
       "21791  0.027589     ...                                     104  287.70883   \n",
       "39409  0.227139     ...                                     191  281.77554   \n",
       "\n",
       "         kep_dec  kepmag     kepid  ang_dist  ang_dist_w_pm  ra_keptime  \\\n",
       "23910  40.730049  15.855   5531953  0.002514       8.980513  291.283727   \n",
       "43979  40.986980  15.423   5716244  0.001631       5.842321  294.960208   \n",
       "48799  46.223572  14.538   9596187  0.001816       6.591236  294.993809   \n",
       "18147  47.167488  13.592  10158418  0.004634      16.705680  297.652871   \n",
       "21791  47.333050  12.128  10264660  0.001529       5.524671  287.706977   \n",
       "39409  47.593250  14.371  10384962  0.004908      17.669238  281.772505   \n",
       "\n",
       "       dec_keptime  \n",
       "23910    40.727748  \n",
       "43979    40.985358  \n",
       "48799    46.223918  \n",
       "18147    47.167183  \n",
       "21791    47.333932  \n",
       "39409    47.597711  \n",
       "\n",
       "[6 rows x 105 columns]"
      ]
     },
     "execution_count": 24,
     "metadata": {},
     "output_type": "execute_result"
    }
   ],
   "source": [
    "matches[matches['ang_dist_w_pm'] > 5.]"
   ]
  },
  {
   "cell_type": "code",
   "execution_count": 26,
   "metadata": {},
   "outputs": [],
   "source": [
    "from utils import *"
   ]
  },
  {
   "cell_type": "code",
   "execution_count": 27,
   "metadata": {},
   "outputs": [],
   "source": [
    "kepids = np.unique(table['kepid'].values)"
   ]
  },
  {
   "cell_type": "code",
   "execution_count": 28,
   "metadata": {},
   "outputs": [],
   "source": [
    "columns = ['kic_primary','gaia_id_primary', 'gaia_id_match', 'ra_match_keptime', \n",
    "           'dec_match_keptime', 'ra_match_gaia', 'dec_match_gaia', 'chisq']\n",
    "matches_table = pd.DataFrame(columns=columns)"
   ]
  },
  {
   "cell_type": "code",
   "execution_count": 29,
   "metadata": {},
   "outputs": [],
   "source": [
    "gaia_time = Time(table['ref_epoch'][0], format='jyear')\n",
    "kepler_time = Time('J2000')\n",
    "\n",
    "def add_to_matches_table(match, primary, chisq, matches_table):\n",
    "    matches_table = matches_table.append({'kic_primary': primary['kepid'], \n",
    "                          'gaia_id_primary': primary['source_id'], \n",
    "                          'gaia_id_match': match['source_id'], \n",
    "                          'ra_match_keptime': match['ra_keptime'], \n",
    "                          'dec_match_keptime': match['dec_keptime'], \n",
    "                          'ra_match_gaia': match['ra'],\n",
    "                          'dec_match_gaia': match['dec'],\n",
    "                          'chisq': chisq}, ignore_index=True)\n",
    "    return matches_table"
   ]
  },
  {
   "cell_type": "code",
   "execution_count": 30,
   "metadata": {},
   "outputs": [
    {
     "name": "stderr",
     "output_type": "stream",
     "text": [
      "\n",
      "  0%|          | 0/263 [00:00<?, ?it/s]\u001b[A\n",
      "  0%|          | 1/263 [00:00<02:44,  1.59it/s]\u001b[A\n",
      "  1%|          | 2/263 [00:01<02:57,  1.47it/s]\u001b[A\n",
      "  1%|          | 3/263 [00:02<03:22,  1.28it/s]\u001b[A\n",
      "  2%|▏         | 4/263 [00:03<03:27,  1.25it/s]\u001b[A\n",
      "  2%|▏         | 5/263 [00:03<03:21,  1.28it/s]Exception in thread Thread-4:\n",
      "Traceback (most recent call last):\n",
      "  File \"/usr/local/Cellar/python3/3.6.0/Frameworks/Python.framework/Versions/3.6/lib/python3.6/threading.py\", line 916, in _bootstrap_inner\n",
      "    self.run()\n",
      "  File \"/usr/local/Cellar/python3/3.6.0/Frameworks/Python.framework/Versions/3.6/lib/python3.6/site-packages/tqdm/_tqdm.py\", line 148, in run\n",
      "    for instance in self.tqdm_cls._instances:\n",
      "  File \"/usr/local/Cellar/python3/3.6.0/Frameworks/Python.framework/Versions/3.6/lib/python3.6/_weakrefset.py\", line 60, in __iter__\n",
      "    for itemref in self.data:\n",
      "RuntimeError: Set changed size during iteration\n",
      "\n",
      "100%|██████████| 263/263 [03:42<00:00,  1.18it/s]\n"
     ]
    }
   ],
   "source": [
    "for k in tqdm(kepids):\n",
    "    temp = table[table['kepid'] == k]\n",
    "    best_match = temp.loc[temp['ang_dist_w_pm'].idxmin()]\n",
    "    if best_match['ang_dist_w_pm'] > 1.:\n",
    "        continue\n",
    "    other_matches = temp.drop(temp['ang_dist_w_pm'].idxmin())\n",
    "    chisqs = other_matches.apply(calc_chisq_for_pair, axis=1, args=(best_match,))\n",
    "    for o,c in zip(other_matches.iterrows(), chisqs):\n",
    "        if c > 0.:\n",
    "            matches_table = add_to_matches_table(o[1], best_match, c, matches_table)"
   ]
  },
  {
   "cell_type": "code",
   "execution_count": 31,
   "metadata": {},
   "outputs": [],
   "source": [
    "matches_table.to_csv('matches.csv')"
   ]
  },
  {
   "cell_type": "code",
   "execution_count": null,
   "metadata": {},
   "outputs": [],
   "source": []
  }
 ],
 "metadata": {
  "kernelspec": {
   "display_name": "Python 3",
   "language": "python",
   "name": "python3"
  },
  "language_info": {
   "codemirror_mode": {
    "name": "ipython",
    "version": 3
   },
   "file_extension": ".py",
   "mimetype": "text/x-python",
   "name": "python",
   "nbconvert_exporter": "python",
   "pygments_lexer": "ipython3",
   "version": "3.6.0"
  }
 },
 "nbformat": 4,
 "nbformat_minor": 2
}
