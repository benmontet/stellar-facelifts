{
 "cells": [
  {
   "cell_type": "code",
   "execution_count": 1,
   "metadata": {},
   "outputs": [],
   "source": [
    "%matplotlib inline"
   ]
  },
  {
   "cell_type": "code",
   "execution_count": 2,
   "metadata": {},
   "outputs": [
    {
     "name": "stdout",
     "output_type": "stream",
     "text": [
      "Created TAP+ (v1.0.1) - Connection:\n",
      "\tHost: gea.esac.esa.int\n",
      "\tUse HTTPS: False\n",
      "\tPort: 80\n",
      "\tSSL Port: 443\n"
     ]
    }
   ],
   "source": [
    "import numpy as np\n",
    "import matplotlib.pyplot as plt\n",
    "from astropy.table import Table, join, unique\n",
    "from utils import *\n",
    "from astroquery.gaia import Gaia\n",
    "from astropy.coordinates import SkyCoord\n",
    "import astropy.units as u\n",
    "import pandas as pd\n",
    "from tqdm import tqdm\n",
    "from IPython.utils import io"
   ]
  },
  {
   "cell_type": "code",
   "execution_count": 3,
   "metadata": {},
   "outputs": [
    {
     "name": "stderr",
     "output_type": "stream",
     "text": [
      "/Users/mbedell/miniconda3/lib/python3.7/site-packages/IPython/core/interactiveshell.py:3296: TableReplaceWarning: converted column 'teff_err1' from integer to float\n",
      "  exec(code_obj, self.user_global_ns, self.user_ns)\n",
      "/Users/mbedell/miniconda3/lib/python3.7/site-packages/IPython/core/interactiveshell.py:3296: TableReplaceWarning: converted column 'teff_err2' from integer to float\n",
      "  exec(code_obj, self.user_global_ns, self.user_ns)\n"
     ]
    }
   ],
   "source": [
    "hosts = Table.read('kepler_host_matches.fits').to_pandas()"
   ]
  },
  {
   "cell_type": "code",
   "execution_count": 4,
   "metadata": {},
   "outputs": [],
   "source": [
    "pairs = Table(names=('kepid1', 'gaia_id1', 'gaia_id2', 'gmag1', \n",
    "                    'gmag2', 'gaia_ra1', 'gaia_ra2', 'gaia_dec1', 'gaia_dec2', 'parallax1', 'parallax2', \n",
    "                    'pmra1', 'pmra2', 'pmdec1', 'pmdec2', 'chisq'), \n",
    "             dtype=('int64', 'int64', 'int64', 'float64', \n",
    "                    'float64', 'float64', 'float64', 'float64', 'float64', 'float64', 'float64',\n",
    "                    'float64', 'float64', 'float64', 'float64', 'float64'))\n",
    "all_matches = pd.DataFrame()"
   ]
  },
  {
   "cell_type": "code",
   "execution_count": 5,
   "metadata": {},
   "outputs": [
    {
     "name": "stderr",
     "output_type": "stream",
     "text": [
      "0it [00:00, ?it/s]/Users/mbedell/miniconda3/lib/python3.7/site-packages/IPython/core/interactiveshell.py:3296: TableReplaceWarning: converted column 'priam_flags' from integer to float\n",
      "  exec(code_obj, self.user_global_ns, self.user_ns)\n",
      "/Users/mbedell/miniconda3/lib/python3.7/site-packages/IPython/core/interactiveshell.py:3296: TableReplaceWarning: converted column 'flame_flags' from integer to float\n",
      "  exec(code_obj, self.user_global_ns, self.user_ns)\n",
      "1it [00:02,  2.58s/it]"
     ]
    },
    {
     "name": "stdout",
     "output_type": "stream",
     "text": [
      "total number of matches: 0\n"
     ]
    },
    {
     "name": "stderr",
     "output_type": "stream",
     "text": [
      "101it [03:19,  1.98s/it]"
     ]
    },
    {
     "name": "stdout",
     "output_type": "stream",
     "text": [
      "total number of matches: 16\n"
     ]
    },
    {
     "name": "stderr",
     "output_type": "stream",
     "text": [
      "201it [06:29,  2.02s/it]"
     ]
    },
    {
     "name": "stdout",
     "output_type": "stream",
     "text": [
      "total number of matches: 35\n"
     ]
    },
    {
     "name": "stderr",
     "output_type": "stream",
     "text": [
      "301it [09:50,  2.18s/it]"
     ]
    },
    {
     "name": "stdout",
     "output_type": "stream",
     "text": [
      "total number of matches: 45\n"
     ]
    },
    {
     "name": "stderr",
     "output_type": "stream",
     "text": [
      "401it [13:11,  2.35s/it]"
     ]
    },
    {
     "name": "stdout",
     "output_type": "stream",
     "text": [
      "total number of matches: 60\n"
     ]
    },
    {
     "name": "stderr",
     "output_type": "stream",
     "text": [
      "501it [16:21,  1.86s/it]"
     ]
    },
    {
     "name": "stdout",
     "output_type": "stream",
     "text": [
      "total number of matches: 68\n"
     ]
    },
    {
     "name": "stderr",
     "output_type": "stream",
     "text": [
      "601it [19:22,  1.74s/it]"
     ]
    },
    {
     "name": "stdout",
     "output_type": "stream",
     "text": [
      "total number of matches: 85\n"
     ]
    },
    {
     "name": "stderr",
     "output_type": "stream",
     "text": [
      "701it [22:14,  1.59s/it]"
     ]
    },
    {
     "name": "stdout",
     "output_type": "stream",
     "text": [
      "total number of matches: 104\n"
     ]
    },
    {
     "name": "stderr",
     "output_type": "stream",
     "text": [
      "801it [25:18,  1.68s/it]"
     ]
    },
    {
     "name": "stdout",
     "output_type": "stream",
     "text": [
      "total number of matches: 118\n"
     ]
    },
    {
     "name": "stderr",
     "output_type": "stream",
     "text": [
      "901it [28:14,  1.61s/it]"
     ]
    },
    {
     "name": "stdout",
     "output_type": "stream",
     "text": [
      "total number of matches: 132\n"
     ]
    },
    {
     "name": "stderr",
     "output_type": "stream",
     "text": [
      "1001it [31:06,  1.73s/it]"
     ]
    },
    {
     "name": "stdout",
     "output_type": "stream",
     "text": [
      "total number of matches: 150\n"
     ]
    },
    {
     "name": "stderr",
     "output_type": "stream",
     "text": [
      "1101it [34:02,  1.77s/it]"
     ]
    },
    {
     "name": "stdout",
     "output_type": "stream",
     "text": [
      "total number of matches: 161\n"
     ]
    },
    {
     "name": "stderr",
     "output_type": "stream",
     "text": [
      "1201it [37:00,  1.83s/it]"
     ]
    },
    {
     "name": "stdout",
     "output_type": "stream",
     "text": [
      "total number of matches: 179\n"
     ]
    },
    {
     "name": "stderr",
     "output_type": "stream",
     "text": [
      "1301it [39:53,  1.74s/it]"
     ]
    },
    {
     "name": "stdout",
     "output_type": "stream",
     "text": [
      "total number of matches: 197\n"
     ]
    },
    {
     "name": "stderr",
     "output_type": "stream",
     "text": [
      "1401it [42:43,  1.79s/it]"
     ]
    },
    {
     "name": "stdout",
     "output_type": "stream",
     "text": [
      "total number of matches: 214\n"
     ]
    },
    {
     "name": "stderr",
     "output_type": "stream",
     "text": [
      "1471it [44:46,  1.75s/it]\n"
     ]
    }
   ],
   "source": [
    "for i,h in tqdm(hosts.iterrows()):\n",
    "    coord = SkyCoord(ra=h['ra_2'], dec=h['dec_2'], unit=(u.degree, u.degree))\n",
    "    radius = u.Quantity(1.0, u.arcmin)\n",
    "    with io.capture_output() as captured: # suppress print\n",
    "        query = Gaia.cone_search_async(coord, radius)\n",
    "    matches = query.get_results().to_pandas()\n",
    "    match_chisqs = matches.apply(calc_chisq_for_pair, args=(h,), axis=1).values\n",
    "    for j,c in enumerate(match_chisqs):\n",
    "        if (h.loc['source_id'] != matches.iloc[j].loc['source_id']) & (c != -1) & (c < 25):\n",
    "            m = matches.iloc[j]\n",
    "            pairs.add_row([h['kepid'], h['source_id'], m['source_id'], h['phot_g_mean_mag'], \n",
    "                          m['phot_g_mean_mag'], h['ra_2'], m['ra'], h['dec_2'], m['dec'],\n",
    "                          h['parallax'], m['parallax'], \n",
    "                          h['pmra'], m['pmra'], h['pmdec'], m['pmdec'], c])\n",
    "            all_matches = all_matches.append(m)\n",
    "    if (i % 100) == 0:\n",
    "        print(\"total number of matches: {0}\".format(len(pairs)))"
   ]
  },
  {
   "cell_type": "code",
   "execution_count": 18,
   "metadata": {},
   "outputs": [
    {
     "name": "stdout",
     "output_type": "stream",
     "text": [
      "7.137453556060791\n"
     ]
    },
    {
     "data": {
      "image/png": "[encoded data removed]",
      "text/plain": [
       "<Figure size 864x288 with 3 Axes>"
      ]
     },
     "metadata": {
      "needs_background": "light"
     },
     "output_type": "display_data"
    }
   ],
   "source": [
    "i = 70\n",
    "p, m = pairs[i]['gaia_id1'], pairs[i]['gaia_id2']\n",
    "plot_xs(hosts[hosts['source_id'] == p], all_matches[all_matches['source_id'] == m])\n",
    "print(pairs[i]['chisq'])"
   ]
  },
  {
   "cell_type": "code",
   "execution_count": 9,
   "metadata": {},
   "outputs": [
    {
     "data": {
      "text/html": [
       "<i>Table length=218</i>\n",
       "<table id=\"table4783320816\" class=\"table-striped table-bordered table-condensed\">\n",
       "<thead><tr><th>kepid1</th><th>gaia_id1</th><th>gaia_id2</th><th>gmag1</th><th>gmag2</th><th>gaia_ra1</th><th>gaia_ra2</th><th>gaia_dec1</th><th>gaia_dec2</th><th>parallax1</th><th>parallax2</th><th>pmra1</th><th>pmra2</th><th>pmdec1</th><th>pmdec2</th><th>chisq</th></tr></thead>\n",
       "<thead><tr><th>int64</th><th>int64</th><th>int64</th><th>float64</th><th>float64</th><th>float64</th><th>float64</th><th>float64</th><th>float64</th><th>float64</th><th>float64</th><th>float64</th><th>float64</th><th>float64</th><th>float64</th><th>float64</th></tr></thead>\n",
       "<tr><td>2165352</td><td>2051826553004393216</td><td>2051826346837873280</td><td>14.466073036193848</td><td>20.745059967041016</td><td>292.5432036297524</td><td>292.5537209355359</td><td>37.55573356585061</td><td>37.551424209042004</td><td>2.153488806403055</td><td>2.0620478599602112</td><td>11.145580314283087</td><td>9.382697996451109</td><td>-3.912891837984659</td><td>-0.4974593682115181</td><td>5.2628493309021</td></tr>\n",
       "<tr><td>2167890</td><td>2051656094340873856</td><td>2051656090041303808</td><td>13.057876586914062</td><td>19.696697235107422</td><td>293.09356988321395</td><td>293.09136045896884</td><td>37.51452339621538</td><td>37.50755638167224</td><td>0.436353899262792</td><td>1.1773142443596187</td><td>0.965279141923846</td><td>0.98004313850679</td><td>0.9763176871645559</td><td>3.66064648381104</td><td>15.29715633392334</td></tr>\n",
       "<tr><td>2167890</td><td>2051656094340873856</td><td>2051656197424862592</td><td>13.057876586914062</td><td>20.238018035888672</td><td>293.09356988321395</td><td>293.10942468187534</td><td>37.51452339621538</td><td>37.52540856260206</td><td>0.436353899262792</td><td>-1.2191267477848693</td><td>0.965279141923846</td><td>-1.1904074984235422</td><td>0.9763176871645559</td><td>4.677047251456124</td><td>18.873815536499023</td></tr>\n",
       "<tr><td>2437804</td><td>2051105342096702080</td><td>2051105342091735552</td><td>14.124670028686523</td><td>20.540983200073242</td><td>290.25359643514395</td><td>290.2545055326072</td><td>37.75940339212507</td><td>37.7541965900231</td><td>0.17264363771467106</td><td>0.34716643754909166</td><td>-0.5316803896173524</td><td>5.372565984889833</td><td>-2.2694053579658786</td><td>-4.021104881934549</td><td>11.811958312988281</td></tr>\n",
       "<tr><td>2440757</td><td>2052588995598461056</td><td>2052588991295811584</td><td>15.083730697631836</td><td>19.07396697998047</td><td>290.84369755042</td><td>290.8369123569596</td><td>37.72882349598036</td><td>37.730570486062255</td><td>0.5862318905210258</td><td>0.4031601071197613</td><td>3.6515884404118903</td><td>1.7283543710739742</td><td>-0.25190551569092223</td><td>-0.7831690083752423</td><td>21.55157470703125</td></tr>\n",
       "<tr><td>2570773</td><td>2051295317088301440</td><td>2051295626325472640</td><td>16.84463119506836</td><td>19.643957138061523</td><td>290.3307169388226</td><td>290.3466174877441</td><td>37.882073845484065</td><td>37.87572941902957</td><td>1.0974569331503026</td><td>0.43743231058827076</td><td>0.9949516229568145</td><td>2.1117818047737837</td><td>-1.3490145410481387</td><td>-3.4813092946780735</td><td>18.004180908203125</td></tr>\n",
       "<tr><td>2708156</td><td>2051296416599937536</td><td>2051296622753443200</td><td>10.256492614746094</td><td>19.721675872802734</td><td>290.287117738709</td><td>290.2714199476967</td><td>37.936484191549084</td><td>37.9438935808084</td><td>1.0891789139891408</td><td>1.0401105742852939</td><td>0.541434205923323</td><td>2.6000596517607546</td><td>-7.852060158985858</td><td>-6.33619214298438</td><td>13.743480682373047</td></tr>\n",
       "<tr><td>2860594</td><td>2052236048062761984</td><td>2052238629337704704</td><td>13.293911933898926</td><td>20.218456268310547</td><td>293.1649598864787</td><td>293.14848386236037</td><td>38.069111240804894</td><td>38.065168706721124</td><td>0.349499192300304</td><td>0.09699382994294863</td><td>-0.3084965168748135</td><td>4.005949224790383</td><td>-2.363096741511715</td><td>-4.063954443707619</td><td>23.40471649169922</td></tr>\n",
       "<tr><td>2997455</td><td>2052240141176935808</td><td>2052240106806488448</td><td>13.78675365447998</td><td>20.567960739135742</td><td>293.13039090306256</td><td>293.1191777336265</td><td>38.12779476511141</td><td>38.116107167543035</td><td>0.4790390074542793</td><td>0.012119686010797352</td><td>-1.426761691554269</td><td>5.531559412734896</td><td>0.9795088629746551</td><td>1.5776163301262431</td><td>23.35506248474121</td></tr>\n",
       "<tr><td>3114667</td><td>2052641355539730304</td><td>2052641359836334464</td><td>17.260639190673828</td><td>20.25730323791504</td><td>290.997157271291</td><td>290.99559788691425</td><td>38.28270803592815</td><td>38.28075281873435</td><td>0.9960809654029903</td><td>0.9718971788980219</td><td>0.4934659475130107</td><td>4.139262691994698</td><td>1.1209082907798358</td><td>-0.6119267192223743</td><td>20.112323760986328</td></tr>\n",
       "<tr><td>...</td><td>...</td><td>...</td><td>...</td><td>...</td><td>...</td><td>...</td><td>...</td><td>...</td><td>...</td><td>...</td><td>...</td><td>...</td><td>...</td><td>...</td><td>...</td></tr>\n",
       "<tr><td>11252617</td><td>2134761649933438080</td><td>2134761649928781184</td><td>15.475534439086914</td><td>20.602678298950195</td><td>295.69134390882624</td><td>295.687144300312</td><td>48.903769027606224</td><td>48.90662968973531</td><td>0.5677540506021304</td><td>0.9452157553612793</td><td>1.2293234257555181</td><td>-1.712039465731171</td><td>0.7145585029318623</td><td>6.292950546412497</td><td>13.101228713989258</td></tr>\n",
       "<tr><td>11304987</td><td>2134772541971006080</td><td>2134773297882009856</td><td>15.379316329956055</td><td>20.259845733642578</td><td>295.5652410947286</td><td>295.5519360822322</td><td>49.073131689939004</td><td>49.08221133674269</td><td>0.629544019770404</td><td>0.36274180156016866</td><td>4.227831625134522</td><td>6.866600485191021</td><td>-2.8727765421101257</td><td>3.7834406218764216</td><td>24.72226333618164</td></tr>\n",
       "<tr><td>11497977</td><td>2132069598789224960</td><td>2132069598786451968</td><td>14.653572082519531</td><td>20.031064987182617</td><td>286.5510448032601</td><td>286.5423598291164</td><td>49.41873099778539</td><td>49.41783473174954</td><td>1.3527317921617013</td><td>0.44755401193384947</td><td>3.4167012136816535</td><td>7.882345820646902</td><td>6.842262972789609</td><td>10.0994878146732</td><td>20.33129119873047</td></tr>\n",
       "<tr><td>11502867</td><td>2132623993168462464</td><td>2132623920151549312</td><td>14.806879043579102</td><td>20.554231643676758</td><td>289.43466684072723</td><td>289.4527329920483</td><td>49.47345496598282</td><td>49.4620512287295</td><td>1.1565600692749682</td><td>0.09860540168968535</td><td>0.16585530851424157</td><td>0.5367846892076327</td><td>8.564682501344347</td><td>11.280311477845455</td><td>6.011650562286377</td></tr>\n",
       "<tr><td>11560447</td><td>2129813469650632064</td><td>2129813675806853760</td><td>10.830589294433594</td><td>10.448490142822266</td><td>292.5760650862526</td><td>292.5656797084724</td><td>49.52598263551701</td><td>49.53592059086231</td><td>7.939617455299051</td><td>8.103926732128127</td><td>15.61759405461683</td><td>15.76212621056384</td><td>62.78716270716134</td><td>64.84703823917671</td><td>24.210214614868164</td></tr>\n",
       "<tr><td>11564013</td><td>2135017836141491200</td><td>2135017870496785280</td><td>15.164971351623535</td><td>20.138383865356445</td><td>294.3191351787423</td><td>294.2941240585833</td><td>49.532122752778626</td><td>49.5345015966765</td><td>0.7688106159770445</td><td>0.13522695799369178</td><td>4.43983905150879</td><td>5.694396803577724</td><td>-2.478643906487034</td><td>-6.391660337526325</td><td>7.467408657073975</td></tr>\n",
       "<tr><td>12268220</td><td>2135386791013636352</td><td>2135387409488918016</td><td>11.369783401489258</td><td>18.592910766601562</td><td>296.49068857643346</td><td>296.4758832112876</td><td>50.90587063592828</td><td>50.89388705996648</td><td>0.717513562821803</td><td>0.9096656899148641</td><td>2.3000481095853456</td><td>0.7126110160303176</td><td>2.338661128573742</td><td>2.5696120270249803</td><td>19.134096145629883</td></tr>\n",
       "<tr><td>12418816</td><td>2135488770715834496</td><td>2135494676293891968</td><td>12.454489707946777</td><td>20.143278121948242</td><td>296.4419327706905</td><td>296.4541310621874</td><td>51.224287150031856</td><td>51.237894299823346</td><td>4.135982807765504</td><td>2.663742980009059</td><td>6.460222984357024</td><td>4.373423384036684</td><td>-2.698062324906637</td><td>1.3054506698408257</td><td>21.507089614868164</td></tr>\n",
       "<tr><td>12505076</td><td>2133366369675069568</td><td>2133366438391895424</td><td>15.825957298278809</td><td>20.80613136291504</td><td>288.30869944100266</td><td>288.2930866335807</td><td>51.47833484443072</td><td>51.488556155696806</td><td>0.41294250578655234</td><td>-0.2021386189370286</td><td>-1.3105793524667133</td><td>3.0038236654398407</td><td>2.2446510574817675</td><td>6.3951735425258835</td><td>5.736491680145264</td></tr>\n",
       "<tr><td>12506770</td><td>2133259510888931456</td><td>2133259820124872064</td><td>15.980381965637207</td><td>20.856704711914062</td><td>289.29069782089664</td><td>289.3045867596816</td><td>51.408993607463536</td><td>51.41607326622469</td><td>1.8232808859688259</td><td>4.2927332749340295</td><td>-2.5674455454532774</td><td>1.589681990337914</td><td>24.670664530611106</td><td>21.263949438962797</td><td>6.981551647186279</td></tr>\n",
       "</table>"
      ],
      "text/plain": [
       "<Table length=218>\n",
       " kepid1        gaia_id1      ...        pmdec2             chisq       \n",
       " int64          int64        ...       float64            float64      \n",
       "-------- ------------------- ... ------------------- ------------------\n",
       " 2165352 2051826553004393216 ... -0.4974593682115181    5.2628493309021\n",
       " 2167890 2051656094340873856 ...    3.66064648381104  15.29715633392334\n",
       " 2167890 2051656094340873856 ...   4.677047251456124 18.873815536499023\n",
       " 2437804 2051105342096702080 ...  -4.021104881934549 11.811958312988281\n",
       " 2440757 2052588995598461056 ... -0.7831690083752423  21.55157470703125\n",
       " 2570773 2051295317088301440 ... -3.4813092946780735 18.004180908203125\n",
       " 2708156 2051296416599937536 ...   -6.33619214298438 13.743480682373047\n",
       " 2860594 2052236048062761984 ...  -4.063954443707619  23.40471649169922\n",
       " 2997455 2052240141176935808 ...  1.5776163301262431  23.35506248474121\n",
       " 3114667 2052641355539730304 ... -0.6119267192223743 20.112323760986328\n",
       "     ...                 ... ...                 ...                ...\n",
       "11252617 2134761649933438080 ...   6.292950546412497 13.101228713989258\n",
       "11304987 2134772541971006080 ...  3.7834406218764216  24.72226333618164\n",
       "11497977 2132069598789224960 ...    10.0994878146732  20.33129119873047\n",
       "11502867 2132623993168462464 ...  11.280311477845455  6.011650562286377\n",
       "11560447 2129813469650632064 ...   64.84703823917671 24.210214614868164\n",
       "11564013 2135017836141491200 ...  -6.391660337526325  7.467408657073975\n",
       "12268220 2135386791013636352 ...  2.5696120270249803 19.134096145629883\n",
       "12418816 2135488770715834496 ...  1.3054506698408257 21.507089614868164\n",
       "12505076 2133366369675069568 ...  6.3951735425258835  5.736491680145264\n",
       "12506770 2133259510888931456 ...  21.263949438962797  6.981551647186279"
      ]
     },
     "execution_count": 9,
     "metadata": {},
     "output_type": "execute_result"
    }
   ],
   "source": [
    "pairs"
   ]
  },
  {
   "cell_type": "code",
   "execution_count": 10,
   "metadata": {},
   "outputs": [],
   "source": [
    "pairs.write('kepler_pairs.fits', overwrite=True)"
   ]
  },
  {
   "cell_type": "code",
   "execution_count": 11,
   "metadata": {},
   "outputs": [
    {
     "data": {
      "text/plain": [
       "(array([16., 12., 17., 21., 16., 25., 23., 27., 29., 32.]),\n",
       " array([ 0.24396507,  2.71512406,  5.18628305,  7.65744204, 10.12860103,\n",
       "        12.59976002, 15.07091901, 17.542078  , 20.01323698, 22.48439597,\n",
       "        24.95555496]),\n",
       " <a list of 10 Patch objects>)"
      ]
     },
     "execution_count": 11,
     "metadata": {},
     "output_type": "execute_result"
    },
    {
     "data": {
      "image/png": "[encoded data removed]",
      "text/plain": [
       "<Figure size 432x288 with 1 Axes>"
      ]
     },
     "metadata": {
      "needs_background": "light"
     },
     "output_type": "display_data"
    }
   ],
   "source": [
    "plt.hist(pairs['chisq'])"
   ]
  },
  {
   "cell_type": "code",
   "execution_count": null,
   "metadata": {},
   "outputs": [],
   "source": []
  }
 ],
 "metadata": {
  "kernelspec": {
   "display_name": "Python 3",
   "language": "python",
   "name": "python3"
  },
  "language_info": {
   "codemirror_mode": {
    "name": "ipython",
    "version": 3
   },
   "file_extension": ".py",
   "mimetype": "text/x-python",
   "name": "python",
   "nbconvert_exporter": "python",
   "pygments_lexer": "ipython3",
   "version": "3.7.1"
  }
 },
 "nbformat": 4,
 "nbformat_minor": 2
}
