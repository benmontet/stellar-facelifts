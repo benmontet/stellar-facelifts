{
 "cells": [
  {
   "cell_type": "code",
   "execution_count": 1,
   "metadata": {},
   "outputs": [],
   "source": [
    "%matplotlib inline"
   ]
  },
  {
   "cell_type": "code",
   "execution_count": 2,
   "metadata": {},
   "outputs": [
    {
     "name": "stdout",
     "output_type": "stream",
     "text": [
      "Created TAP+ (v1.0.1) - Connection:\n",
      "\tHost: gea.esac.esa.int\n",
      "\tUse HTTPS: False\n",
      "\tPort: 80\n",
      "\tSSL Port: 443\n"
     ]
    }
   ],
   "source": [
    "import numpy as np\n",
    "import matplotlib.pyplot as plt\n",
    "from astropy.table import Table, join, unique\n",
    "from utils import *\n",
    "from astroquery.gaia import Gaia\n",
    "from astropy.coordinates import SkyCoord\n",
    "import astropy.units as u\n",
    "import pandas as pd\n",
    "from tqdm import tqdm\n",
    "from IPython.utils import io"
   ]
  },
  {
   "cell_type": "code",
   "execution_count": 3,
   "metadata": {},
   "outputs": [
    {
     "name": "stderr",
     "output_type": "stream",
     "text": [
      "/Users/mbedell/miniconda3/lib/python3.7/site-packages/IPython/core/interactiveshell.py:3296: TableReplaceWarning: converted column 'teff_err1' from integer to float\n",
      "  exec(code_obj, self.user_global_ns, self.user_ns)\n",
      "/Users/mbedell/miniconda3/lib/python3.7/site-packages/IPython/core/interactiveshell.py:3296: TableReplaceWarning: converted column 'teff_err2' from integer to float\n",
      "  exec(code_obj, self.user_global_ns, self.user_ns)\n"
     ]
    }
   ],
   "source": [
    "hosts = Table.read('kepler_host_matches.fits').to_pandas()"
   ]
  },
  {
   "cell_type": "code",
   "execution_count": 4,
   "metadata": {},
   "outputs": [
    {
     "data": {
      "text/plain": [
       "2758"
      ]
     },
     "execution_count": 4,
     "metadata": {},
     "output_type": "execute_result"
    }
   ],
   "source": [
    "len(hosts)"
   ]
  },
  {
   "cell_type": "code",
   "execution_count": 5,
   "metadata": {},
   "outputs": [],
   "source": [
    "pairs = Table(names=('kepid1', 'gaia_id1', 'gaia_id2', 'gmag1', \n",
    "                    'gmag2', 'gaia_ra1', 'gaia_ra2', 'gaia_dec1', 'gaia_dec2', 'parallax1', 'parallax2', \n",
    "                    'pmra1', 'pmra2', 'pmdec1', 'pmdec2', 'chisq'), \n",
    "             dtype=('int64', 'int64', 'int64', 'float64', \n",
    "                    'float64', 'float64', 'float64', 'float64', 'float64', 'float64', 'float64',\n",
    "                    'float64', 'float64', 'float64', 'float64', 'float64'))\n",
    "all_matches = pd.DataFrame()"
   ]
  },
  {
   "cell_type": "code",
   "execution_count": 6,
   "metadata": {},
   "outputs": [
    {
     "name": "stderr",
     "output_type": "stream",
     "text": [
      "0it [00:00, ?it/s]/Users/mbedell/miniconda3/lib/python3.7/site-packages/IPython/core/interactiveshell.py:3296: TableReplaceWarning: converted column 'priam_flags' from integer to float\n",
      "  exec(code_obj, self.user_global_ns, self.user_ns)\n",
      "/Users/mbedell/miniconda3/lib/python3.7/site-packages/IPython/core/interactiveshell.py:3296: TableReplaceWarning: converted column 'flame_flags' from integer to float\n",
      "  exec(code_obj, self.user_global_ns, self.user_ns)\n",
      "1it [00:02,  2.92s/it]"
     ]
    },
    {
     "name": "stdout",
     "output_type": "stream",
     "text": [
      "total number of matches: 0\n"
     ]
    },
    {
     "name": "stderr",
     "output_type": "stream",
     "text": [
      "101it [03:00,  1.72s/it]"
     ]
    },
    {
     "name": "stdout",
     "output_type": "stream",
     "text": [
      "total number of matches: 4\n"
     ]
    },
    {
     "name": "stderr",
     "output_type": "stream",
     "text": [
      "201it [05:52,  1.67s/it]"
     ]
    },
    {
     "name": "stdout",
     "output_type": "stream",
     "text": [
      "total number of matches: 10\n"
     ]
    },
    {
     "name": "stderr",
     "output_type": "stream",
     "text": [
      "301it [08:42,  1.65s/it]"
     ]
    },
    {
     "name": "stdout",
     "output_type": "stream",
     "text": [
      "total number of matches: 12\n"
     ]
    },
    {
     "name": "stderr",
     "output_type": "stream",
     "text": [
      "401it [11:35,  1.82s/it]"
     ]
    },
    {
     "name": "stdout",
     "output_type": "stream",
     "text": [
      "total number of matches: 15\n"
     ]
    },
    {
     "name": "stderr",
     "output_type": "stream",
     "text": [
      "501it [14:28,  1.84s/it]"
     ]
    },
    {
     "name": "stdout",
     "output_type": "stream",
     "text": [
      "total number of matches: 22\n"
     ]
    },
    {
     "name": "stderr",
     "output_type": "stream",
     "text": [
      "601it [17:26,  1.69s/it]"
     ]
    },
    {
     "name": "stdout",
     "output_type": "stream",
     "text": [
      "total number of matches: 25\n"
     ]
    },
    {
     "name": "stderr",
     "output_type": "stream",
     "text": [
      "701it [20:23,  1.66s/it]"
     ]
    },
    {
     "name": "stdout",
     "output_type": "stream",
     "text": [
      "total number of matches: 30\n"
     ]
    },
    {
     "name": "stderr",
     "output_type": "stream",
     "text": [
      "801it [23:17,  1.84s/it]"
     ]
    },
    {
     "name": "stdout",
     "output_type": "stream",
     "text": [
      "total number of matches: 31\n"
     ]
    },
    {
     "name": "stderr",
     "output_type": "stream",
     "text": [
      "901it [26:08,  1.77s/it]"
     ]
    },
    {
     "name": "stdout",
     "output_type": "stream",
     "text": [
      "total number of matches: 36\n"
     ]
    },
    {
     "name": "stderr",
     "output_type": "stream",
     "text": [
      "1001it [28:58,  1.66s/it]"
     ]
    },
    {
     "name": "stdout",
     "output_type": "stream",
     "text": [
      "total number of matches: 42\n"
     ]
    },
    {
     "name": "stderr",
     "output_type": "stream",
     "text": [
      "1101it [31:53,  1.69s/it]"
     ]
    },
    {
     "name": "stdout",
     "output_type": "stream",
     "text": [
      "total number of matches: 53\n"
     ]
    },
    {
     "name": "stderr",
     "output_type": "stream",
     "text": [
      "1201it [34:50,  1.72s/it]"
     ]
    },
    {
     "name": "stdout",
     "output_type": "stream",
     "text": [
      "total number of matches: 61\n"
     ]
    },
    {
     "name": "stderr",
     "output_type": "stream",
     "text": [
      "1301it [37:46,  1.68s/it]"
     ]
    },
    {
     "name": "stdout",
     "output_type": "stream",
     "text": [
      "total number of matches: 62\n"
     ]
    },
    {
     "name": "stderr",
     "output_type": "stream",
     "text": [
      "1401it [40:39,  1.67s/it]"
     ]
    },
    {
     "name": "stdout",
     "output_type": "stream",
     "text": [
      "total number of matches: 68\n"
     ]
    },
    {
     "name": "stderr",
     "output_type": "stream",
     "text": [
      "1501it [43:29,  1.64s/it]"
     ]
    },
    {
     "name": "stdout",
     "output_type": "stream",
     "text": [
      "total number of matches: 73\n"
     ]
    },
    {
     "name": "stderr",
     "output_type": "stream",
     "text": [
      "1601it [46:20,  1.70s/it]"
     ]
    },
    {
     "name": "stdout",
     "output_type": "stream",
     "text": [
      "total number of matches: 74\n"
     ]
    },
    {
     "name": "stderr",
     "output_type": "stream",
     "text": [
      "1701it [49:08,  1.71s/it]"
     ]
    },
    {
     "name": "stdout",
     "output_type": "stream",
     "text": [
      "total number of matches: 80\n"
     ]
    },
    {
     "name": "stderr",
     "output_type": "stream",
     "text": [
      "1801it [51:55,  1.64s/it]"
     ]
    },
    {
     "name": "stdout",
     "output_type": "stream",
     "text": [
      "total number of matches: 85\n"
     ]
    },
    {
     "name": "stderr",
     "output_type": "stream",
     "text": [
      "1901it [54:43,  1.66s/it]"
     ]
    },
    {
     "name": "stdout",
     "output_type": "stream",
     "text": [
      "total number of matches: 89\n"
     ]
    },
    {
     "name": "stderr",
     "output_type": "stream",
     "text": [
      "2001it [57:31,  1.72s/it]"
     ]
    },
    {
     "name": "stdout",
     "output_type": "stream",
     "text": [
      "total number of matches: 93\n"
     ]
    },
    {
     "name": "stderr",
     "output_type": "stream",
     "text": [
      "2101it [1:00:19,  1.67s/it]"
     ]
    },
    {
     "name": "stdout",
     "output_type": "stream",
     "text": [
      "total number of matches: 99\n"
     ]
    },
    {
     "name": "stderr",
     "output_type": "stream",
     "text": [
      "2201it [1:03:09,  1.73s/it]"
     ]
    },
    {
     "name": "stdout",
     "output_type": "stream",
     "text": [
      "total number of matches: 101\n"
     ]
    },
    {
     "name": "stderr",
     "output_type": "stream",
     "text": [
      "2301it [1:05:57,  1.66s/it]"
     ]
    },
    {
     "name": "stdout",
     "output_type": "stream",
     "text": [
      "total number of matches: 106\n"
     ]
    },
    {
     "name": "stderr",
     "output_type": "stream",
     "text": [
      "2401it [1:08:46,  1.65s/it]"
     ]
    },
    {
     "name": "stdout",
     "output_type": "stream",
     "text": [
      "total number of matches: 109\n"
     ]
    },
    {
     "name": "stderr",
     "output_type": "stream",
     "text": [
      "2501it [1:11:35,  1.65s/it]"
     ]
    },
    {
     "name": "stdout",
     "output_type": "stream",
     "text": [
      "total number of matches: 115\n"
     ]
    },
    {
     "name": "stderr",
     "output_type": "stream",
     "text": [
      "2601it [1:14:24,  1.73s/it]"
     ]
    },
    {
     "name": "stdout",
     "output_type": "stream",
     "text": [
      "total number of matches: 116\n"
     ]
    },
    {
     "name": "stderr",
     "output_type": "stream",
     "text": [
      "2701it [1:17:12,  1.70s/it]"
     ]
    },
    {
     "name": "stdout",
     "output_type": "stream",
     "text": [
      "total number of matches: 118\n"
     ]
    },
    {
     "name": "stderr",
     "output_type": "stream",
     "text": [
      "2758it [1:18:47,  1.61s/it]\n"
     ]
    }
   ],
   "source": [
    "for i,h in tqdm(hosts.iterrows()):\n",
    "    coord = SkyCoord(ra=h['ra_2'], dec=h['dec_2'], unit=(u.degree, u.degree))\n",
    "    radius = u.Quantity(0.667, u.arcmin)\n",
    "    with io.capture_output() as captured: # suppress print\n",
    "        query = Gaia.cone_search_async(coord, radius)\n",
    "    matches = query.get_results().to_pandas()\n",
    "    match_chisqs = matches.apply(calc_chisq_for_pair, args=(h,), axis=1).values\n",
    "    for j,c in enumerate(match_chisqs):\n",
    "        if (h.loc['source_id'] != matches.iloc[j].loc['source_id']) & (c != -1) & (c < 25):\n",
    "            m = matches.iloc[j]\n",
    "            pairs.add_row([h['kepid'], h['source_id'], m['source_id'], h['phot_g_mean_mag'], \n",
    "                          m['phot_g_mean_mag'], h['ra_2'], m['ra'], h['dec_2'], m['dec'],\n",
    "                          h['parallax'], m['parallax'], \n",
    "                          h['pmra'], m['pmra'], h['pmdec'], m['pmdec'], c])\n",
    "            all_matches = all_matches.append(m)\n",
    "    if (i % 100) == 0:\n",
    "        print(\"total number of matches: {0}\".format(len(pairs)))"
   ]
  },
  {
   "cell_type": "code",
   "execution_count": 18,
   "metadata": {},
   "outputs": [],
   "source": [
    "pairs.write('kepler_pairs.fits', overwrite=True)\n",
    "Table.from_pandas(all_matches).write('gaia_sources_in_pairs.fits', overwrite=True)"
   ]
  },
  {
   "cell_type": "code",
   "execution_count": 15,
   "metadata": {},
   "outputs": [
    {
     "name": "stdout",
     "output_type": "stream",
     "text": [
      "1.1880834102630615\n"
     ]
    },
    {
     "data": {
      "image/png": "[encoded data removed]",
      "text/plain": [
       "<Figure size 864x288 with 3 Axes>"
      ]
     },
     "metadata": {
      "needs_background": "light"
     },
     "output_type": "display_data"
    }
   ],
   "source": [
    "i = 30\n",
    "p, m = pairs[i]['gaia_id1'], pairs[i]['gaia_id2']\n",
    "plot_xs(hosts[hosts['source_id'] == p], all_matches[all_matches['source_id'] == m])\n",
    "print(pairs[i]['chisq'])"
   ]
  },
  {
   "cell_type": "code",
   "execution_count": 12,
   "metadata": {},
   "outputs": [
    {
     "data": {
      "text/html": [
       "<i>Table length=29</i>\n",
       "<table id=\"table4455581736\" class=\"table-striped table-bordered table-condensed\">\n",
       "<thead><tr><th>kepid1</th><th>gaia_id1</th><th>gaia_id2</th><th>gmag1</th><th>gmag2</th><th>gaia_ra1</th><th>gaia_ra2</th><th>gaia_dec1</th><th>gaia_dec2</th><th>parallax1</th><th>parallax2</th><th>pmra1</th><th>pmra2</th><th>pmdec1</th><th>pmdec2</th><th>chisq</th></tr></thead>\n",
       "<thead><tr><th>int64</th><th>int64</th><th>int64</th><th>float64</th><th>float64</th><th>float64</th><th>float64</th><th>float64</th><th>float64</th><th>float64</th><th>float64</th><th>float64</th><th>float64</th><th>float64</th><th>float64</th><th>float64</th></tr></thead>\n",
       "<tr><td>3866536</td><td>2076169156332573568</td><td>2076169152031202304</td><td>13.114730834960938</td><td>17.98138999938965</td><td>295.50212507132045</td><td>295.5060295458912</td><td>38.98351040813018</td><td>38.983521984987895</td><td>0.9518037310256979</td><td>0.9584169353939288</td><td>3.020725935016194</td><td>3.292166297264151</td><td>-6.77467618528218</td><td>-6.999658217983766</td><td>2.492330551147461</td></tr>\n",
       "<tr><td>4138557</td><td>2100254297827579776</td><td>2100254302127407744</td><td>11.986373901367188</td><td>15.219605445861816</td><td>285.59208805945696</td><td>285.59262726152895</td><td>39.206240565870964</td><td>39.20608214072262</td><td>1.510607483923398</td><td>1.470058168100592</td><td>1.3221557870561282</td><td>1.6340511813463334</td><td>-7.602454798293522</td><td>-7.557088793772306</td><td>8.501128196716309</td></tr>\n",
       "<tr><td>4446411</td><td>2100332264374236544</td><td>2100332264371155328</td><td>14.140271186828613</td><td>15.416939735412598</td><td>285.4098189604</td><td>285.4102559424053</td><td>39.528300867107326</td><td>39.528552667616836</td><td>1.2574702555054835</td><td>1.2445796832531875</td><td>-0.7059121116997367</td><td>-0.7436128913026755</td><td>1.6738338694348154</td><td>2.1117325541868404</td><td>10.678074836730957</td></tr>\n",
       "<tr><td>4484356</td><td>2073302935682322048</td><td>2073302935682325760</td><td>14.258745193481445</td><td>16.526628494262695</td><td>296.4597857214509</td><td>296.46955316252763</td><td>39.57373760651273</td><td>39.5671893007462</td><td>1.4278405187284628</td><td>1.40197373328188</td><td>7.222638410945101</td><td>7.494865219708458</td><td>2.07962182410385</td><td>2.2005643368743435</td><td>8.787859916687012</td></tr>\n",
       "<tr><td>5282049</td><td>2077290555100531328</td><td>2077290555109438208</td><td>15.155351638793945</td><td>14.257413864135742</td><td>293.8369187209386</td><td>293.8370434177008</td><td>40.41043073895029</td><td>40.41273186321892</td><td>0.7427234015267055</td><td>0.7159331392472282</td><td>4.145186670073241</td><td>4.34137138657153</td><td>-0.7437994666523828</td><td>-0.8936799233439358</td><td>14.29092025756836</td></tr>\n",
       "<tr><td>5282051</td><td>2077290555109438208</td><td>2077290555100531328</td><td>14.257413864135742</td><td>15.155351638793945</td><td>293.8370434177008</td><td>293.8369187209386</td><td>40.41273186321892</td><td>40.41043073895029</td><td>0.7159331392472282</td><td>0.7427234015267055</td><td>4.34137138657153</td><td>4.145186670073241</td><td>-0.8936799233439358</td><td>-0.7437994666523828</td><td>14.29092025756836</td></tr>\n",
       "<tr><td>5963222</td><td>2053568729179291904</td><td>2053568729179291776</td><td>13.267065048217773</td><td>14.34056568145752</td><td>292.76428311444397</td><td>292.7649165251914</td><td>41.2753621770907</td><td>41.274678468772485</td><td>0.5187896649622631</td><td>0.43792378645744523</td><td>0.5221074081994096</td><td>0.507838756469524</td><td>-0.7303462834929757</td><td>-0.6295202447873507</td><td>8.5203857421875</td></tr>\n",
       "<tr><td>6422155</td><td>2104506319750394624</td><td>2104506319748626176</td><td>14.536895751953125</td><td>17.28044319152832</td><td>283.3684092904369</td><td>283.36822093534323</td><td>41.82183898746045</td><td>41.82248814468696</td><td>1.1784629459341707</td><td>1.100221377298971</td><td>0.841549302507772</td><td>0.5775640156117139</td><td>4.493802040758001</td><td>4.5277791252780055</td><td>3.391756296157837</td></tr>\n",
       "<tr><td>6507427</td><td>2103947252448388608</td><td>2103947252448388992</td><td>14.3700590133667</td><td>15.410199165344238</td><td>286.50735701664314</td><td>286.5087685035134</td><td>41.92212982155551</td><td>41.922764835056796</td><td>0.6187796290844214</td><td>0.6328299639775842</td><td>-0.5302899872860625</td><td>-0.4739587889431467</td><td>6.230496659626176</td><td>6.00113653973297</td><td>8.577411651611328</td></tr>\n",
       "<tr><td>6507433</td><td>2103947252448388992</td><td>2103947252448388608</td><td>15.410199165344238</td><td>14.3700590133667</td><td>286.5087685035134</td><td>286.50735701664314</td><td>41.922764835056796</td><td>41.92212982155551</td><td>0.6328299639775842</td><td>0.6187796290844214</td><td>-0.4739587889431467</td><td>-0.5302899872860625</td><td>6.00113653973297</td><td>6.230496659626176</td><td>8.577411651611328</td></tr>\n",
       "<tr><td>...</td><td>...</td><td>...</td><td>...</td><td>...</td><td>...</td><td>...</td><td>...</td><td>...</td><td>...</td><td>...</td><td>...</td><td>...</td><td>...</td><td>...</td><td>...</td></tr>\n",
       "<tr><td>8631751</td><td>2079890934466943616</td><td>2079890934466940416</td><td>15.608196258544922</td><td>17.58187484741211</td><td>294.46842714131947</td><td>294.4665124989583</td><td>44.75477707882502</td><td>44.75181639313367</td><td>6.345870331618036</td><td>6.3828713617852</td><td>-4.6571713401074035</td><td>-4.722365996148497</td><td>174.2941472972435</td><td>174.42339501778793</td><td>0.6454172730445862</td></tr>\n",
       "<tr><td>8700537</td><td>2079754934320350464</td><td>2079754938625324928</td><td>14.35581111907959</td><td>15.964273452758789</td><td>295.93915130186787</td><td>295.94012606695964</td><td>44.83738666583729</td><td>44.83637453752353</td><td>1.4327523986241346</td><td>1.4901538941952126</td><td>-8.28719978101192</td><td>-8.190180563547825</td><td>3.646918636588087</td><td>3.658954075131928</td><td>4.096177577972412</td></tr>\n",
       "<tr><td>8737796</td><td>2106758012185086848</td><td>2106758016484653440</td><td>12.671542167663574</td><td>17.02560043334961</td><td>284.28249586939484</td><td>284.2824440352271</td><td>44.98728146242534</td><td>44.988057476690486</td><td>1.5619947962580671</td><td>1.4877557610803067</td><td>-4.108882824757758</td><td>-4.38365288772232</td><td>19.538965567145127</td><td>19.583873697983734</td><td>4.50424861907959</td></tr>\n",
       "<tr><td>9119652</td><td>2082281891225618304</td><td>2082281856865878912</td><td>14.339275360107422</td><td>17.28372573852539</td><td>300.95705496039136</td><td>300.95548362847217</td><td>45.4492614174618</td><td>45.44699082681823</td><td>1.2451534465950205</td><td>1.3168743395429048</td><td>1.227395764429403</td><td>1.408418782657069</td><td>13.917001597546939</td><td>13.442557069724518</td><td>13.095335006713867</td></tr>\n",
       "<tr><td>9762519</td><td>2130402189406571776</td><td>2130402189406569600</td><td>13.706487655639648</td><td>15.546721458435059</td><td>287.94144682459444</td><td>287.93473052069737</td><td>46.58249870020772</td><td>46.58052303676949</td><td>1.600326178266148</td><td>1.6197470033033938</td><td>10.292829728176951</td><td>10.287611762882731</td><td>27.074813956803055</td><td>27.058734932140084</td><td>0.4841034412384033</td></tr>\n",
       "<tr><td>10059645</td><td>2107385081710305152</td><td>2107385081710304256</td><td>15.565526962280273</td><td>17.225221633911133</td><td>284.5858363922679</td><td>284.58501465301396</td><td>47.07956459937194</td><td>47.077151683976325</td><td>1.685005296899144</td><td>1.6923962049083263</td><td>4.340015969033154</td><td>4.3286904189655235</td><td>5.3011508016146145</td><td>5.561735419607231</td><td>2.4522738456726074</td></tr>\n",
       "<tr><td>10357831</td><td>2086344689766948864</td><td>2086344689766952576</td><td>16.52975082397461</td><td>13.04030990600586</td><td>298.1083569382173</td><td>298.1117466573472</td><td>47.48791636209566</td><td>47.491094965768795</td><td>0.9899733334189816</td><td>1.0096100118653109</td><td>2.2831915323686958</td><td>2.137233158961696</td><td>-1.5240411781134133</td><td>-1.7709307431174244</td><td>8.13871955871582</td></tr>\n",
       "<tr><td>10656823</td><td>2130982113070876160</td><td>2130982009991658624</td><td>14.798910140991211</td><td>12.787843704223633</td><td>288.12093394375523</td><td>288.11854749148745</td><td>47.96661406183087</td><td>47.96425534360424</td><td>1.5049543414582456</td><td>1.5267074607954212</td><td>1.904593270627494</td><td>1.9382097717257558</td><td>-17.374558139054688</td><td>-17.358766433390088</td><td>0.9941299557685852</td></tr>\n",
       "<tr><td>11455428</td><td>2129758940745727488</td><td>2129758940745727360</td><td>14.48241138458252</td><td>15.67279052734375</td><td>291.9998055448494</td><td>291.99899970115865</td><td>49.301832122869776</td><td>49.30051795323144</td><td>1.9677088263793332</td><td>2.025206196887299</td><td>3.3946865953060574</td><td>3.6182849667596364</td><td>-0.035768830613703666</td><td>-0.0972296807769116</td><td>15.499377250671387</td></tr>\n",
       "<tr><td>11968463</td><td>2135203000771400320</td><td>2135203000771400064</td><td>15.191971778869629</td><td>14.389122009277344</td><td>294.33851092322806</td><td>294.3343201231611</td><td>50.33651777920381</td><td>50.34030119392576</td><td>0.6693691742154679</td><td>0.6203890409904285</td><td>2.6366668501373454</td><td>2.584436512932854</td><td>-5.377654968459186</td><td>-5.311181881205526</td><td>5.537020683288574</td></tr>\n",
       "</table>"
      ],
      "text/plain": [
       "<Table length=29>\n",
       " kepid1        gaia_id1      ...        pmdec2             chisq       \n",
       " int64          int64        ...       float64            float64      \n",
       "-------- ------------------- ... ------------------- ------------------\n",
       " 3866536 2076169156332573568 ...  -6.999658217983766  2.492330551147461\n",
       " 4138557 2100254297827579776 ...  -7.557088793772306  8.501128196716309\n",
       " 4446411 2100332264374236544 ...  2.1117325541868404 10.678074836730957\n",
       " 4484356 2073302935682322048 ...  2.2005643368743435  8.787859916687012\n",
       " 5282049 2077290555100531328 ... -0.8936799233439358  14.29092025756836\n",
       " 5282051 2077290555109438208 ... -0.7437994666523828  14.29092025756836\n",
       " 5963222 2053568729179291904 ... -0.6295202447873507    8.5203857421875\n",
       " 6422155 2104506319750394624 ...  4.5277791252780055  3.391756296157837\n",
       " 6507427 2103947252448388608 ...    6.00113653973297  8.577411651611328\n",
       " 6507433 2103947252448388992 ...   6.230496659626176  8.577411651611328\n",
       "     ...                 ... ...                 ...                ...\n",
       " 8631751 2079890934466943616 ...  174.42339501778793 0.6454172730445862\n",
       " 8700537 2079754934320350464 ...   3.658954075131928  4.096177577972412\n",
       " 8737796 2106758012185086848 ...  19.583873697983734   4.50424861907959\n",
       " 9119652 2082281891225618304 ...  13.442557069724518 13.095335006713867\n",
       " 9762519 2130402189406571776 ...  27.058734932140084 0.4841034412384033\n",
       "10059645 2107385081710305152 ...   5.561735419607231 2.4522738456726074\n",
       "10357831 2086344689766948864 ... -1.7709307431174244   8.13871955871582\n",
       "10656823 2130982113070876160 ... -17.358766433390088 0.9941299557685852\n",
       "11455428 2129758940745727488 ... -0.0972296807769116 15.499377250671387\n",
       "11968463 2135203000771400320 ...  -5.311181881205526  5.537020683288574"
      ]
     },
     "execution_count": 12,
     "metadata": {},
     "output_type": "execute_result"
    }
   ],
   "source": [
    "pairs[(pairs['chisq'] < 16.) & (pairs['gmag2'] < 18.)]"
   ]
  },
  {
   "cell_type": "code",
   "execution_count": 10,
   "metadata": {},
   "outputs": [
    {
     "data": {
      "text/plain": [
       "(array([23., 12., 13., 11.,  7., 10., 12., 13.,  6., 11.]),\n",
       " array([ 0.24396507,  2.71512406,  5.18628305,  7.65744204, 10.12860103,\n",
       "        12.59976002, 15.07091901, 17.542078  , 20.01323698, 22.48439597,\n",
       "        24.95555496]),\n",
       " <a list of 10 Patch objects>)"
      ]
     },
     "execution_count": 10,
     "metadata": {},
     "output_type": "execute_result"
    },
    {
     "data": {
      "image/png": "[encoded data removed]",
      "text/plain": [
       "<Figure size 432x288 with 1 Axes>"
      ]
     },
     "metadata": {
      "needs_background": "light"
     },
     "output_type": "display_data"
    }
   ],
   "source": [
    "plt.hist(pairs['chisq'])"
   ]
  },
  {
   "cell_type": "code",
   "execution_count": null,
   "metadata": {},
   "outputs": [],
   "source": []
  }
 ],
 "metadata": {
  "kernelspec": {
   "display_name": "Python 3",
   "language": "python",
   "name": "python3"
  },
  "language_info": {
   "codemirror_mode": {
    "name": "ipython",
    "version": 3
   },
   "file_extension": ".py",
   "mimetype": "text/x-python",
   "name": "python",
   "nbconvert_exporter": "python",
   "pygments_lexer": "ipython3",
   "version": "3.7.1"
  }
 },
 "nbformat": 4,
 "nbformat_minor": 2
}
