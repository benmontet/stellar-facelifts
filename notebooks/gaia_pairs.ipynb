{
 "cells": [
  {
   "cell_type": "code",
   "execution_count": 1,
   "metadata": {},
   "outputs": [],
   "source": [
    "%matplotlib inline"
   ]
  },
  {
   "cell_type": "code",
   "execution_count": 2,
   "metadata": {},
   "outputs": [
    {
     "name": "stdout",
     "output_type": "stream",
     "text": [
      "Created TAP+ (v1.0.1) - Connection:\n",
      "\tHost: gea.esac.esa.int\n",
      "\tUse HTTPS: False\n",
      "\tPort: 80\n",
      "\tSSL Port: 443\n"
     ]
    }
   ],
   "source": [
    "import numpy as np\n",
    "import matplotlib.pyplot as plt\n",
    "from astropy.table import Table, join, unique\n",
    "from utils import *\n",
    "from astroquery.gaia import Gaia\n",
    "from astropy.coordinates import SkyCoord\n",
    "import astropy.units as u\n",
    "import pandas as pd\n",
    "from tqdm import tqdm\n",
    "from IPython.utils import io"
   ]
  },
  {
   "cell_type": "code",
   "execution_count": 3,
   "metadata": {},
   "outputs": [
    {
     "name": "stderr",
     "output_type": "stream",
     "text": [
      "/Users/mbedell/miniconda3/lib/python3.7/site-packages/IPython/core/interactiveshell.py:3296: TableReplaceWarning: converted column 'teff_err1' from integer to float\n",
      "  exec(code_obj, self.user_global_ns, self.user_ns)\n",
      "/Users/mbedell/miniconda3/lib/python3.7/site-packages/IPython/core/interactiveshell.py:3296: TableReplaceWarning: converted column 'teff_err2' from integer to float\n",
      "  exec(code_obj, self.user_global_ns, self.user_ns)\n"
     ]
    }
   ],
   "source": [
    "hosts = Table.read('kepler_host_matches.fits').to_pandas()"
   ]
  },
  {
   "cell_type": "code",
   "execution_count": 4,
   "metadata": {},
   "outputs": [],
   "source": [
    "pairs = Table(names=('kepid', 'gaia_id1', 'gaia_id2', 'gmag1', \n",
    "                    'gmag2', 'parallax1', 'parallax2', 'pmra1', 'pmra2',\n",
    "                    'pmdec1', 'pmdec2', 'chisq'), \n",
    "             dtype=('int64', 'int64', 'int64', 'float64', \n",
    "                    'float64', 'float64', 'float64', 'float64', 'float64',\n",
    "                    'float64', 'float64', 'float64'))\n",
    "all_matches = pd.DataFrame()"
   ]
  },
  {
   "cell_type": "code",
   "execution_count": 5,
   "metadata": {},
   "outputs": [
    {
     "name": "stderr",
     "output_type": "stream",
     "text": [
      "0it [00:00, ?it/s]/Users/mbedell/miniconda3/lib/python3.7/site-packages/IPython/core/interactiveshell.py:3296: TableReplaceWarning: converted column 'priam_flags' from integer to float\n",
      "  exec(code_obj, self.user_global_ns, self.user_ns)\n",
      "/Users/mbedell/miniconda3/lib/python3.7/site-packages/IPython/core/interactiveshell.py:3296: TableReplaceWarning: converted column 'flame_flags' from integer to float\n",
      "  exec(code_obj, self.user_global_ns, self.user_ns)\n",
      "1it [00:02,  2.19s/it]"
     ]
    },
    {
     "name": "stdout",
     "output_type": "stream",
     "text": [
      "total number of matches: 0\n"
     ]
    },
    {
     "name": "stderr",
     "output_type": "stream",
     "text": [
      "101it [03:36,  2.17s/it]"
     ]
    },
    {
     "name": "stdout",
     "output_type": "stream",
     "text": [
      "total number of matches: 0\n"
     ]
    },
    {
     "name": "stderr",
     "output_type": "stream",
     "text": [
      "201it [07:07,  3.33s/it]"
     ]
    },
    {
     "name": "stdout",
     "output_type": "stream",
     "text": [
      "total number of matches: 3\n"
     ]
    },
    {
     "name": "stderr",
     "output_type": "stream",
     "text": [
      "301it [10:53,  2.74s/it]"
     ]
    },
    {
     "name": "stdout",
     "output_type": "stream",
     "text": [
      "total number of matches: 4\n"
     ]
    },
    {
     "name": "stderr",
     "output_type": "stream",
     "text": [
      "401it [14:33,  2.19s/it]"
     ]
    },
    {
     "name": "stdout",
     "output_type": "stream",
     "text": [
      "total number of matches: 6\n"
     ]
    },
    {
     "name": "stderr",
     "output_type": "stream",
     "text": [
      "501it [17:59,  1.87s/it]"
     ]
    },
    {
     "name": "stdout",
     "output_type": "stream",
     "text": [
      "total number of matches: 6\n"
     ]
    },
    {
     "name": "stderr",
     "output_type": "stream",
     "text": [
      "601it [21:27,  1.90s/it]"
     ]
    },
    {
     "name": "stdout",
     "output_type": "stream",
     "text": [
      "total number of matches: 8\n"
     ]
    },
    {
     "name": "stderr",
     "output_type": "stream",
     "text": [
      "701it [24:50,  2.15s/it]"
     ]
    },
    {
     "name": "stdout",
     "output_type": "stream",
     "text": [
      "total number of matches: 11\n"
     ]
    },
    {
     "name": "stderr",
     "output_type": "stream",
     "text": [
      "801it [28:12,  2.07s/it]"
     ]
    },
    {
     "name": "stdout",
     "output_type": "stream",
     "text": [
      "total number of matches: 11\n"
     ]
    },
    {
     "name": "stderr",
     "output_type": "stream",
     "text": [
      "901it [31:32,  1.87s/it]"
     ]
    },
    {
     "name": "stdout",
     "output_type": "stream",
     "text": [
      "total number of matches: 13\n"
     ]
    },
    {
     "name": "stderr",
     "output_type": "stream",
     "text": [
      "1001it [34:44,  1.97s/it]"
     ]
    },
    {
     "name": "stdout",
     "output_type": "stream",
     "text": [
      "total number of matches: 15\n"
     ]
    },
    {
     "name": "stderr",
     "output_type": "stream",
     "text": [
      "1101it [38:00,  1.98s/it]"
     ]
    },
    {
     "name": "stdout",
     "output_type": "stream",
     "text": [
      "total number of matches: 15\n"
     ]
    },
    {
     "name": "stderr",
     "output_type": "stream",
     "text": [
      "1201it [41:13,  1.86s/it]"
     ]
    },
    {
     "name": "stdout",
     "output_type": "stream",
     "text": [
      "total number of matches: 16\n"
     ]
    },
    {
     "name": "stderr",
     "output_type": "stream",
     "text": [
      "1301it [44:24,  1.97s/it]"
     ]
    },
    {
     "name": "stdout",
     "output_type": "stream",
     "text": [
      "total number of matches: 18\n"
     ]
    },
    {
     "name": "stderr",
     "output_type": "stream",
     "text": [
      "1401it [47:34,  1.78s/it]"
     ]
    },
    {
     "name": "stdout",
     "output_type": "stream",
     "text": [
      "total number of matches: 19\n"
     ]
    },
    {
     "name": "stderr",
     "output_type": "stream",
     "text": [
      "1464it [49:37,  1.95s/it]\n"
     ]
    }
   ],
   "source": [
    "for i,h in tqdm(hosts.iterrows()):\n",
    "    coord = SkyCoord(ra=h['ra_2'], dec=h['dec_2'], unit=(u.degree, u.degree))\n",
    "    radius = u.Quantity(1.0, u.arcmin)\n",
    "    with io.capture_output() as captured: # suppress print\n",
    "        query = Gaia.cone_search_async(coord, radius)\n",
    "    matches = query.get_results().to_pandas()\n",
    "    match_chisqs = matches.apply(calc_chisq_for_pair, args=(h,), axis=1).values\n",
    "    for j,c in enumerate(match_chisqs):\n",
    "        if (h.loc['source_id'] != matches.iloc[j].loc['source_id']) & (c != -1) & (c < 25):\n",
    "            m = matches.iloc[j]\n",
    "            pairs.add_row([h['kepid'], h['source_id'], m['source_id'], h['phot_g_mean_mag'], \n",
    "                          m['phot_g_mean_mag'], h['parallax'], m['parallax'], h['pmra'], m['pmra'],\n",
    "                          h['pmdec'], m['pmdec'], c])\n",
    "            all_matches = all_matches.append(m)\n",
    "    if (i % 100) == 0:\n",
    "        print(\"total number of matches: {0}\".format(len(pairs)))"
   ]
  },
  {
   "cell_type": "code",
   "execution_count": 11,
   "metadata": {},
   "outputs": [
    {
     "data": {
      "image/png": "[encoded data removed]",
      "text/plain": [
       "<Figure size 864x288 with 3 Axes>"
      ]
     },
     "metadata": {
      "needs_background": "light"
     },
     "output_type": "display_data"
    }
   ],
   "source": [
    "i = 10\n",
    "p, m = pairs[i]['gaia_id1'], pairs[i]['gaia_id2']\n",
    "plot_xs(hosts[hosts['source_id'] == p], all_matches[all_matches['source_id'] == m])"
   ]
  },
  {
   "cell_type": "code",
   "execution_count": 12,
   "metadata": {},
   "outputs": [
    {
     "data": {
      "text/html": [
       "<i>Table length=19</i>\n",
       "<table id=\"table4886752840\" class=\"table-striped table-bordered table-condensed\">\n",
       "<thead><tr><th>kepid</th><th>gaia_id1</th><th>gaia_id2</th><th>gmag1</th><th>gmag2</th><th>parallax1</th><th>parallax2</th><th>pmra1</th><th>pmra2</th><th>pmdec1</th><th>pmdec2</th><th>chisq</th></tr></thead>\n",
       "<thead><tr><th>int64</th><th>int64</th><th>int64</th><th>float64</th><th>float64</th><th>float64</th><th>float64</th><th>float64</th><th>float64</th><th>float64</th><th>float64</th><th>float64</th></tr></thead>\n",
       "<tr><td>3866536</td><td>2076169156332573568</td><td>2076169152031202304</td><td>13.114730834960938</td><td>17.98138999938965</td><td>0.9518037310256979</td><td>0.9584169353939288</td><td>3.020725935016194</td><td>3.292166297264151</td><td>-6.77467618528218</td><td>-6.999658217983766</td><td>2.492330551147461</td></tr>\n",
       "<tr><td>3866536</td><td>2076169156332573568</td><td>2076169259400083072</td><td>13.114730834960938</td><td>19.29433250427246</td><td>0.9518037310256979</td><td>0.5631758151831467</td><td>3.020725935016194</td><td>3.0551422451401544</td><td>-6.77467618528218</td><td>-6.504606623059869</td><td>2.4025368690490723</td></tr>\n",
       "<tr><td>4037164</td><td>2100297457959010688</td><td>2100297247503392640</td><td>15.479809761047363</td><td>20.511045455932617</td><td>3.186517815519316</td><td>1.8986361659675337</td><td>8.352578689698415</td><td>7.384050250112459</td><td>-8.64708330892036</td><td>-7.666817440825248</td><td>2.3540964126586914</td></tr>\n",
       "<tr><td>4261960</td><td>2052980593536976512</td><td>2052980593531297664</td><td>15.715295791625977</td><td>20.39255714416504</td><td>1.173775896296654</td><td>2.155164145927043</td><td>4.46167004822829</td><td>3.6896497887764808</td><td>0.3349981326014147</td><td>1.0133189722275358</td><td>2.2724647521972656</td></tr>\n",
       "<tr><td>5283542</td><td>2076542818486572800</td><td>2076542646682491776</td><td>15.578622817993164</td><td>19.7574520111084</td><td>1.0400049754769083</td><td>1.0118267511100159</td><td>2.849375772699628</td><td>2.323101557940078</td><td>-3.7979866640645548</td><td>-3.312347851722988</td><td>1.0791722536087036</td></tr>\n",
       "<tr><td>5467126</td><td>2076743234532439552</td><td>2076743170108720640</td><td>12.347463607788086</td><td>20.096370697021484</td><td>0.47470032879115426</td><td>1.0931027172097338</td><td>2.903278914891285</td><td>4.61321072097154</td><td>-5.631684109385353</td><td>-5.76364258694053</td><td>3.178117036819458</td></tr>\n",
       "<tr><td>6449358</td><td>2077707544892676736</td><td>2077613772865368960</td><td>11.573765754699707</td><td>19.651851654052734</td><td>1.1973965011976535</td><td>1.4671958700420331</td><td>2.868020028421686</td><td>2.9804420051234963</td><td>0.2986574248629279</td><td>0.863516122634721</td><td>0.985166072845459</td></tr>\n",
       "<tr><td>6620003</td><td>2077107898743741312</td><td>2077107864379013888</td><td>15.650727272033691</td><td>20.979747772216797</td><td>1.9517250196433429</td><td>3.495898548352002</td><td>5.971545314096796</td><td>8.881272139262656</td><td>22.80621947449617</td><td>19.47091166472958</td><td>2.2626848220825195</td></tr>\n",
       "<tr><td>6890618</td><td>2075452034239188352</td><td>2075449079297061632</td><td>14.613566398620605</td><td>19.595903396606445</td><td>0.6917382971363731</td><td>0.8854329976959255</td><td>2.9535282078284784</td><td>2.246493474577952</td><td>-0.2496444118589089</td><td>1.1450034873391017</td><td>3.7672231197357178</td></tr>\n",
       "<tr><td>6891543</td><td>2075449835216031616</td><td>2075449835211743616</td><td>14.440481185913086</td><td>20.507993698120117</td><td>1.4043261367048736</td><td>1.413814766859973</td><td>3.611734984293762</td><td>4.743602274056406</td><td>2.3613743709724906</td><td>3.562200672749096</td><td>1.906865119934082</td></tr>\n",
       "<tr><td>7107567</td><td>2102900792256348416</td><td>2102900792251004288</td><td>14.143847465515137</td><td>18.214414596557617</td><td>0.5484885189575001</td><td>0.5616368446975206</td><td>2.736454486661106</td><td>2.784402552094473</td><td>-5.5343851100358386</td><td>-5.2543601760729075</td><td>0.2795623540878296</td></tr>\n",
       "<tr><td>8380743</td><td>2078932022892184064</td><td>2078932018586690560</td><td>14.016718864440918</td><td>17.78468132019043</td><td>0.5035168229745889</td><td>0.4973280962003907</td><td>2.8366302805900974</td><td>2.8740658209543617</td><td>0.5216062963580654</td><td>0.6171438420373392</td><td>0.24396507441997528</td></tr>\n",
       "<tr><td>8459354</td><td>2076086177563731968</td><td>2076086177555812864</td><td>11.082405090332031</td><td>20.910320281982422</td><td>1.0912089123482593</td><td>-0.8084635803781374</td><td>5.248323415809091</td><td>7.300063790381435</td><td>1.835634040315218</td><td>3.6754095331765746</td><td>2.6768083572387695</td></tr>\n",
       "<tr><td>8631751</td><td>2079890934466943616</td><td>2079890934466940416</td><td>15.608196258544922</td><td>17.58187484741211</td><td>6.345870331618036</td><td>6.3828713617852</td><td>-4.6571713401074035</td><td>-4.722365996148497</td><td>174.2941472972435</td><td>174.42339501778793</td><td>0.6454172730445862</td></tr>\n",
       "<tr><td>8883727</td><td>2126639694977758720</td><td>2126639694977758464</td><td>15.576851844787598</td><td>19.255590438842773</td><td>1.0600736760381888</td><td>0.9383708792242398</td><td>2.7510436617550096</td><td>2.6380867833825032</td><td>-5.722180621909637</td><td>-6.132827746284288</td><td>1.0537068843841553</td></tr>\n",
       "<tr><td>10272640</td><td>2129158710476149376</td><td>2129158641753025024</td><td>15.426569938659668</td><td>20.43856430053711</td><td>0.4976004189457438</td><td>0.08114392841021485</td><td>2.0182005379094368</td><td>3.755980269673886</td><td>-0.2844946583564712</td><td>0.13661731404510147</td><td>2.3082633018493652</td></tr>\n",
       "<tr><td>10357831</td><td>2086344689766948864</td><td>2086356436498334592</td><td>16.52975082397461</td><td>18.728221893310547</td><td>0.9899733334189816</td><td>0.8875599761587645</td><td>2.2831915323686958</td><td>2.633749493359454</td><td>-1.5240411781134133</td><td>-1.0906217983288486</td><td>2.4359025955200195</td></tr>\n",
       "<tr><td>10788461</td><td>2130991596358782464</td><td>2130991561999056640</td><td>14.00547981262207</td><td>14.138437271118164</td><td>2.0125021724020624</td><td>1.9978877513643147</td><td>-5.853608168501146</td><td>-5.80358241709277</td><td>2.833548770815155</td><td>2.868755421102803</td><td>2.5897765159606934</td></tr>\n",
       "<tr><td>11182260</td><td>2131221806605210496</td><td>2131221802307890560</td><td>13.253799438476562</td><td>18.03424644470215</td><td>3.224566210189673</td><td>3.165323950145017</td><td>1.8167086392431964</td><td>1.6980098897883762</td><td>28.28478407156434</td><td>28.247169584011075</td><td>0.5668610334396362</td></tr>\n",
       "</table>"
      ],
      "text/plain": [
       "<Table length=19>\n",
       " kepid         gaia_id1      ...        pmdec2              chisq       \n",
       " int64          int64        ...       float64             float64      \n",
       "-------- ------------------- ... ------------------- -------------------\n",
       " 3866536 2076169156332573568 ...  -6.999658217983766   2.492330551147461\n",
       " 3866536 2076169156332573568 ...  -6.504606623059869  2.4025368690490723\n",
       " 4037164 2100297457959010688 ...  -7.666817440825248  2.3540964126586914\n",
       " 4261960 2052980593536976512 ...  1.0133189722275358  2.2724647521972656\n",
       " 5283542 2076542818486572800 ...  -3.312347851722988  1.0791722536087036\n",
       " 5467126 2076743234532439552 ...   -5.76364258694053   3.178117036819458\n",
       " 6449358 2077707544892676736 ...   0.863516122634721   0.985166072845459\n",
       " 6620003 2077107898743741312 ...   19.47091166472958  2.2626848220825195\n",
       " 6890618 2075452034239188352 ...  1.1450034873391017  3.7672231197357178\n",
       " 6891543 2075449835216031616 ...   3.562200672749096   1.906865119934082\n",
       " 7107567 2102900792256348416 ... -5.2543601760729075  0.2795623540878296\n",
       " 8380743 2078932022892184064 ...  0.6171438420373392 0.24396507441997528\n",
       " 8459354 2076086177563731968 ...  3.6754095331765746  2.6768083572387695\n",
       " 8631751 2079890934466943616 ...  174.42339501778793  0.6454172730445862\n",
       " 8883727 2126639694977758720 ...  -6.132827746284288  1.0537068843841553\n",
       "10272640 2129158710476149376 ... 0.13661731404510147  2.3082633018493652\n",
       "10357831 2086344689766948864 ... -1.0906217983288486  2.4359025955200195\n",
       "10788461 2130991596358782464 ...   2.868755421102803  2.5897765159606934\n",
       "11182260 2131221806605210496 ...  28.247169584011075  0.5668610334396362"
      ]
     },
     "execution_count": 12,
     "metadata": {},
     "output_type": "execute_result"
    }
   ],
   "source": [
    "pairs"
   ]
  },
  {
   "cell_type": "code",
   "execution_count": 13,
   "metadata": {},
   "outputs": [],
   "source": [
    "pairs.write('kepler_pairs.fits', overwrite=True)"
   ]
  },
  {
   "cell_type": "code",
   "execution_count": null,
   "metadata": {},
   "outputs": [],
   "source": []
  }
 ],
 "metadata": {
  "kernelspec": {
   "display_name": "Python 3",
   "language": "python",
   "name": "python3"
  },
  "language_info": {
   "codemirror_mode": {
    "name": "ipython",
    "version": 3
   },
   "file_extension": ".py",
   "mimetype": "text/x-python",
   "name": "python",
   "nbconvert_exporter": "python",
   "pygments_lexer": "ipython3",
   "version": "3.7.1"
  }
 },
 "nbformat": 4,
 "nbformat_minor": 2
}
