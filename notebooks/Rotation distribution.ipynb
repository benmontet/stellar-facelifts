{
 "cells": [
  {
   "cell_type": "code",
   "execution_count": 1,
   "metadata": {},
   "outputs": [],
   "source": [
    "import numpy as np\n",
    "import matplotlib.pyplot as plt\n",
    "%matplotlib inline"
   ]
  },
  {
   "cell_type": "code",
   "execution_count": 11,
   "metadata": {},
   "outputs": [],
   "source": [
    "kic, porb, score, prot, signif = np.loadtxt('../Prot_table.csv', skiprows=1, delimiter=',', usecols=[0,1,7,8,9], unpack=True)"
   ]
  },
  {
   "cell_type": "code",
   "execution_count": 54,
   "metadata": {},
   "outputs": [
    {
     "data": {
      "text/plain": [
       "(array([0., 0., 0., 1., 0., 5., 1., 1., 0., 0., 0., 0., 0., 1., 1.]),\n",
       " array([-0.55, -0.45, -0.35, -0.25, -0.15, -0.05,  0.05,  0.15,  0.25,\n",
       "         0.35,  0.45,  0.55,  0.65,  0.75,  0.85,  0.95]),\n",
       " <a list of 15 Patch objects>)"
      ]
     },
     "execution_count": 54,
     "metadata": {},
     "output_type": "execute_result"
    },
    {
     "data": {
      "image/png": "[encoded data removed]",
      "text/plain": [
       "<Figure size 432x288 with 1 Axes>"
      ]
     },
     "metadata": {},
     "output_type": "display_data"
    }
   ],
   "source": [
    "arg = (signif > 0.5) & (score > 0.999) & (porb < 5.) & (kic != 4150611)  # last one is a clear EB so we remove it\n",
    "\n",
    "# signif is a non-calibrated measurement of the peak of the autocorrelation function from which prot is inferred. \n",
    "# By eye, all of the 0.5 values are real. Those larger than 0.2 are all probably good, then they start getting iffy.\n",
    "# Anything down at 0.005 is probably not real.\n",
    "\n",
    "# Score is the disposition score in the NASA exoplanet archive for the believability of th\n",
    "\n",
    "\n",
    "plt.hist(np.log10(prot[arg]/porb[arg]), np.arange(-0.55, 1.05, 0.10))"
   ]
  },
  {
   "cell_type": "code",
   "execution_count": 55,
   "metadata": {},
   "outputs": [
    {
     "name": "stdout",
     "output_type": "stream",
     "text": [
      "[[3.24850100e+06 4.18000000e+00 4.22464216e+00]\n",
      " [4.45475200e+06 1.49000000e+01 1.61688337e+00]\n",
      " [9.87228300e+06 1.86700000e+01 3.12686119e+00]\n",
      " [6.39272700e+06 7.70000000e+00 4.58352095e+00]\n",
      " [6.50743300e+06 4.63000000e+00 4.74255210e+00]\n",
      " [3.76246800e+06 3.06000000e+00 3.00387955e+00]\n",
      " [1.02726400e+07 4.07000000e+00 3.77055147e+00]\n",
      " [1.06191920e+07 1.21000000e+01 1.48571099e+00]\n",
      " [5.44383700e+06 4.22000000e+00 3.65849707e+00]\n",
      " [8.19740600e+06 2.46000000e+00 4.15472242e+00]\n",
      " [1.23074960e+07 8.00000000e-01 8.05941833e-01]]\n"
     ]
    },
    {
     "data": {
      "image/png": "[encoded data removed]",
      "text/plain": [
       "<Figure size 720x432 with 1 Axes>"
      ]
     },
     "metadata": {},
     "output_type": "display_data"
    }
   ],
   "source": [
    "plt.figure(figsize=(10,6))\n",
    "k1 = kic[arg]\n",
    "r1 = prot[arg]\n",
    "o1 = porb[arg]\n",
    "\n",
    "print(np.array([k1, r1, o1]).T)\n",
    "\n",
    "plt.hist(np.log10(prot[arg]/porb[arg]), np.arange(-0.55, 1.05, 0.10))\n",
    "for i in range(len(k1)):\n",
    "    plt.axvline(np.log10(r1[i]/o1[i]), color='k')"
   ]
  },
  {
   "cell_type": "code",
   "execution_count": 56,
   "metadata": {},
   "outputs": [
    {
     "name": "stdout",
     "output_type": "stream",
     "text": [
      "[ 3248501.  4454752.  9872283.  6392727.  6507433.  3762468. 10272640.\n",
      " 10619192.  5443837.  8197406. 12307496.]\n"
     ]
    }
   ],
   "source": [
    "print(k1)"
   ]
  },
  {
   "cell_type": "code",
   "execution_count": 65,
   "metadata": {},
   "outputs": [],
   "source": [
    "kic, rpl, porb, prot = np.loadtxt('../KOI_periods.txt', skiprows=1, delimiter=',', usecols=[1,4,5,6], unpack=True)\n"
   ]
  },
  {
   "cell_type": "code",
   "execution_count": 71,
   "metadata": {},
   "outputs": [
    {
     "data": {
      "image/png": "[encoded data removed]",
      "text/plain": [
       "<Figure size 432x288 with 1 Axes>"
      ]
     },
     "metadata": {},
     "output_type": "display_data"
    },
    {
     "data": {
      "text/plain": [
       "(array([ 0.,  0.,  1.,  1.,  1.,  1.,  1.,  2.,  6.,  4., 23., 13., 26.,\n",
       "        23., 29.]),\n",
       " array([-0.55, -0.45, -0.35, -0.25, -0.15, -0.05,  0.05,  0.15,  0.25,\n",
       "         0.35,  0.45,  0.55,  0.65,  0.75,  0.85,  0.95]),\n",
       " <a list of 15 Patch objects>)"
      ]
     },
     "execution_count": 71,
     "metadata": {},
     "output_type": "execute_result"
    },
    {
     "data": {
      "image/png": "[encoded data removed]",
      "text/plain": [
       "<Figure size 432x288 with 1 Axes>"
      ]
     },
     "metadata": {},
     "output_type": "display_data"
    }
   ],
   "source": [
    "arg = ((porb < 5) & np.isfinite(prot) & (rpl > 4.0))\n",
    "plt.hist(np.log10(prot[arg]/porb[arg]), np.arange(-0.55, 1.05, 0.10))\n",
    "plt.show()\n",
    "\n",
    "arg = ((porb < 5) & np.isfinite(prot) & (rpl < 4.0))\n",
    "plt.hist(np.log10(prot[arg]/porb[arg]), np.arange(-0.55, 1.05, 0.10))"
   ]
  },
  {
   "cell_type": "markdown",
   "metadata": {},
   "source": [
    "First one looks slightly different than ours because of false positives in the KOI sample that we remove but are in Mcquillan's tables. Second looks much different than ours because the rotation distribution of small planet host stars is very different than that of large planet host stars!"
   ]
  },
  {
   "cell_type": "code",
   "execution_count": null,
   "metadata": {},
   "outputs": [],
   "source": []
  },
  {
   "cell_type": "code",
   "execution_count": null,
   "metadata": {},
   "outputs": [],
   "source": []
  },
  {
   "cell_type": "code",
   "execution_count": null,
   "metadata": {},
   "outputs": [],
   "source": []
  },
  {
   "cell_type": "code",
   "execution_count": null,
   "metadata": {},
   "outputs": [],
   "source": []
  },
  {
   "cell_type": "code",
   "execution_count": null,
   "metadata": {},
   "outputs": [],
   "source": []
  },
  {
   "cell_type": "code",
   "execution_count": null,
   "metadata": {},
   "outputs": [],
   "source": []
  }
 ],
 "metadata": {
  "anaconda-cloud": {},
  "kernelspec": {
   "display_name": "Python [python3]",
   "language": "python",
   "name": "Python [python3]"
  },
  "language_info": {
   "codemirror_mode": {
    "name": "ipython",
    "version": 3
   },
   "file_extension": ".py",
   "mimetype": "text/x-python",
   "name": "python",
   "nbconvert_exporter": "python",
   "pygments_lexer": "ipython3",
   "version": "3.5.2"
  }
 },
 "nbformat": 4,
 "nbformat_minor": 2
}
